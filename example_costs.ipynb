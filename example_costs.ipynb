{
  "cells": [
    {
      "cell_type": "markdown",
      "metadata": {},
      "source": [
        "## Costs\n",
        "\n"
      ]
    },
    {
      "cell_type": "markdown",
      "metadata": {},
      "source": [
        "### Preface\n",
        "\n"
      ]
    },
    {
      "cell_type": "markdown",
      "metadata": {},
      "source": [
        "There are a few modules you may need to install (but avoid this if you can; you may need to restart your kernel afterwards):\n",
        "\n"
      ]
    },
    {
      "cell_type": "code",
      "execution_count": 1,
      "metadata": {},
      "outputs": [],
      "source": [
        "#!pip install -r requirements.txt"
      ]
    },
    {
      "cell_type": "markdown",
      "metadata": {},
      "source": [
        "### Data\n",
        "\n"
      ]
    },
    {
      "cell_type": "markdown",
      "metadata": {},
      "source": [
        "We&rsquo;ll get data from two places.  First, basic data, including a food\n",
        " conversion table and recommended daily intakes table can be found in\n",
        " a google spreadsheet.\n",
        "\n",
        "Here are addresses of google sheets for different dataframes for the\n",
        "case of Uganda:\n",
        "\n"
      ]
    },
    {
      "cell_type": "code",
      "execution_count": 1,
      "metadata": {},
      "outputs": [],
      "source": [
        "InputFiles = {'Expenditures':('1yVLriVpo7KGUXvR3hq_n53XpXlD5NmLaH1oOMZyV0gQ','Expenditures (2019-20)'),\n",
        "              'Prices':('1yVLriVpo7KGUXvR3hq_n53XpXlD5NmLaH1oOMZyV0gQ','Prices'),\n",
        "              'HH Characteristics':('1yVLriVpo7KGUXvR3hq_n53XpXlD5NmLaH1oOMZyV0gQ','HH Characteristics'),\n",
        "              'FCT':('1yVLriVpo7KGUXvR3hq_n53XpXlD5NmLaH1oOMZyV0gQ','FCT'),\n",
        "              'RDI':('1yVLriVpo7KGUXvR3hq_n53XpXlD5NmLaH1oOMZyV0gQ','RDI'),}"
      ]
    },
    {
      "cell_type": "markdown",
      "metadata": {},
      "source": [
        "#### Prices, FCT, RDI\n",
        "\n"
      ]
    },
    {
      "cell_type": "code",
      "execution_count": 1,
      "metadata": {},
      "outputs": [],
      "source": [
        "from eep153_tools.sheets import read_sheets\n",
        "import numpy as np\n",
        "import pandas as pd\n",
        "\n",
        "def get_clean_sheet(key,sheet=None):\n",
        "\n",
        "    df = read_sheets(key,sheet=sheet)\n",
        "    df.columns = [c.strip() for c in df.columns.tolist()]\n",
        "\n",
        "    df = df.loc[:,~df.columns.duplicated(keep='first')]\n",
        "\n",
        "    df = df.drop([col for col in df.columns if col.startswith('Unnamed')], axis=1)\n",
        "\n",
        "    df = df.loc[~df.index.duplicated(), :]\n",
        "\n",
        "    return df\n",
        "\n",
        "# Get prices\n",
        "p = get_clean_sheet(InputFiles['Prices'][0],\n",
        "                    sheet=InputFiles['Prices'][1])\n",
        "\n",
        "if 'm' not in p.columns:  # Supply \"market\" indicator if missing\n",
        "    p['m'] = 1\n",
        "\n",
        "p = p.set_index(['t','m'])\n",
        "p.columns.name = 'j'\n",
        "\n",
        "p = p.apply(lambda x: pd.to_numeric(x,errors='coerce'))\n",
        "p = p.replace(0,np.nan)\n",
        "\n",
        "fct = get_clean_sheet(InputFiles['FCT'][0],\n",
        "                    sheet=InputFiles['FCT'][1])\n",
        "\n",
        "fct = fct.set_index('j')\n",
        "fct.columns.name = 'n'\n",
        "\n",
        "fct = fct.apply(lambda x: pd.to_numeric(x,errors='coerce'))\n",
        "\n",
        "################## RDI, if available (consider using US) #####################\n",
        "rdi = get_clean_sheet(InputFiles['RDI'][0],\n",
        "                    sheet=InputFiles['RDI'][1])\n",
        "rdi = rdi.set_index('n')\n",
        "rdi.columns.name = 'k'"
      ]
    },
    {
      "cell_type": "markdown",
      "metadata": {},
      "source": [
        "#### Pre-estimated Demand Systems\n",
        "\n"
      ]
    },
    {
      "cell_type": "markdown",
      "metadata": {},
      "source": [
        "An instance `r` of `cfe.Regression` can be made persistent with\n",
        " `r.to_pickle('my_result.pickle')`, which saves the instance &ldquo;on disk&rdquo;, and can be loaded using `cfe.regression.read_pickle`.  We use  this method below to load data and demand system previously estimated for Uganda:\n",
        "\n"
      ]
    },
    {
      "cell_type": "code",
      "execution_count": 1,
      "metadata": {},
      "outputs": [],
      "source": [
        "import cfe.regression as rgsn\n",
        "\n",
        "r = rgsn.read_pickle('uganda_2019-20.pickle')  # Assumes you've already set this up e.g., in Project 3"
      ]
    },
    {
      "cell_type": "markdown",
      "metadata": {},
      "source": [
        "### Ceteris Paribus\n",
        "\n"
      ]
    },
    {
      "cell_type": "markdown",
      "metadata": {},
      "source": [
        "We begin by setting up some benchmarks for prices and budgets, so\n",
        "    the things we don&rsquo;t want to change we can hold fixed.\n",
        "\n"
      ]
    },
    {
      "cell_type": "markdown",
      "metadata": {},
      "source": [
        "#### Reference Prices\n",
        "\n"
      ]
    },
    {
      "cell_type": "markdown",
      "metadata": {},
      "source": [
        "Choose reference prices.  Here we&rsquo;ll choose a particular year, and average prices across markets.  If you wanted to focus on particular market you&rsquo;d do this differently.\n",
        "\n"
      ]
    },
    {
      "cell_type": "code",
      "execution_count": 1,
      "metadata": {},
      "outputs": [],
      "source": [
        "# Reference prices chosen from a particular time; average across place.\n",
        "# These are prices per kilogram:\n",
        "pbar = p.xs('2019-20',level='t').mean()\n",
        "pbar = pbar[r.beta.index] # Only use prices for goods we can estimate"
      ]
    },
    {
      "cell_type": "markdown",
      "metadata": {},
      "source": [
        "#### Budgets\n",
        "\n"
      ]
    },
    {
      "cell_type": "markdown",
      "metadata": {},
      "source": [
        "Get food budget for all households, then find median budget:\n",
        "\n"
      ]
    },
    {
      "cell_type": "code",
      "execution_count": 1,
      "metadata": {},
      "outputs": [],
      "source": [
        "import numpy as np\n",
        "\n",
        "xhat = r.predicted_expenditures()\n",
        "\n",
        "# Total food expenditures per household\n",
        "xbar = xhat.groupby(['i','t','m']).sum()\n",
        "\n",
        "# Reference budget\n",
        "x0 = xbar.quantile(0.5)  # Household at 0.5 quantile is median"
      ]
    },
    {
      "cell_type": "markdown",
      "metadata": {},
      "source": [
        "#### Changing one price, holding others fixed\n",
        "\n"
      ]
    },
    {
      "cell_type": "markdown",
      "metadata": {},
      "source": [
        "Finally, define a function to change a single price in the vector $p$:\n",
        "\n"
      ]
    },
    {
      "cell_type": "code",
      "execution_count": 1,
      "metadata": {},
      "outputs": [],
      "source": [
        "def my_prices(p0,p=pbar,j='Millet'):\n",
        "    \"\"\"\n",
        "    Change price of jth good to p0, holding other prices fixed.\n",
        "    \"\"\"\n",
        "    p = p.copy()\n",
        "    p.loc[j] = p0\n",
        "    return p"
      ]
    },
    {
      "cell_type": "markdown",
      "metadata": {},
      "source": [
        "### Simple Policy Experiments: Changing Prices\n",
        "\n"
      ]
    },
    {
      "cell_type": "markdown",
      "metadata": {},
      "source": [
        "If price of a good increases/decreases, what&rsquo;s the cost to the\n",
        "household?  Ask a related question: If a price $p_1$ increases, how\n",
        "much *income* do we need to give to the household to make it just as\n",
        "well off as it was at the old prices?\n",
        "\n",
        "Summarize this as the  *compensating variation* associated with the\n",
        "price change.\n",
        "\n",
        "![img](./compensating_variation.png)\n",
        "\n",
        "Compensating Variation can also be measured as the (change in the)\n",
        "area under the **Hicksian** (or **compensated**) demand curve:\n",
        "\n",
        "![img](./compensating_variation_newexpenditure.png).\n",
        "\n"
      ]
    },
    {
      "cell_type": "markdown",
      "metadata": {},
      "source": [
        "#### Marshallian vs. Hicksian Demand Curves\n",
        "\n"
      ]
    },
    {
      "cell_type": "markdown",
      "metadata": {},
      "source": [
        "Let&rsquo;s look at Marshallian & Hicksian demands&#x2014;one way of thinking\n",
        "about the Hicksian (compensated) curves is that they  eliminate the\n",
        "income effect associated with changing prices.\n",
        "\n"
      ]
    },
    {
      "cell_type": "code",
      "execution_count": 1,
      "metadata": {},
      "outputs": [],
      "source": [
        "import matplotlib.pyplot as plt\n",
        "%matplotlib inline\n",
        "\n",
        "my_j = 'Millet'  # Interesting Ugandan staple\n",
        "\n",
        "P = np.geomspace(.01,10,50)*pbar[my_j]\n",
        "\n",
        "# Utility of median household, given prices\n",
        "U0 = r.indirect_utility(x0,pbar)\n",
        "\n",
        "plt.plot([r.demands(x0,my_prices(p0,j=my_j))[my_j] for p0 in P],P)\n",
        "plt.plot([r.demands(U0,my_prices(p0,j=my_j),type=\"Hicksian\")[my_j] for p0 in P],P)\n",
        "plt.ylabel('Price')\n",
        "plt.xlabel(my_j)\n",
        "plt.legend((\"Marshallian\",\"Hicksian\"))"
      ]
    },
    {
      "cell_type": "markdown",
      "metadata": {},
      "source": [
        "#### Welfare measures\n",
        "\n"
      ]
    },
    {
      "cell_type": "code",
      "execution_count": 1,
      "metadata": {},
      "outputs": [],
      "source": [
        "def compensating_variation(U0,p0,p1):\n",
        "    x0 = r.expenditure(U0,p0)\n",
        "    x1 = r.expenditure(U0,p1)\n",
        "\n",
        "    return x1-x0\n",
        "\n",
        "def revenue(U0,p0,p1,type='Marshallian'):\n",
        "    \"\"\"(Un)Compensated revenue from taxes changing vector of prices from p0 to p1.\n",
        "\n",
        "    Note that this is only for *demand* side (i.e., if supply perfectly elastic).\n",
        "    \"\"\"\n",
        "    \n",
        "    dp = p1 - p0 # Change in prices\n",
        "\n",
        "    c = r.demands(U0,p1,type=type)\n",
        "\n",
        "    dp,c = dp.align(c,join='inner')\n",
        "\n",
        "    return dp.T@c\n",
        "\n",
        "\n",
        "def deadweight_loss(U0,p0,p1):\n",
        "    \"\"\"\n",
        "    Deadweight loss of tax/subsidy scheme creating wedge in prices from p0 to p1.\n",
        "\n",
        "    Note that this is only for *demand* side (i.e., if supply perfectly elastic).\n",
        "    \"\"\"\n",
        "    cv = compensating_variation(U0,p0,p1)\n",
        "\n",
        "    return cv - revenue(U0,p0,p1,type='Hicksian')"
      ]
    },
    {
      "cell_type": "markdown",
      "metadata": {},
      "source": [
        "#### Price Changes, Revenue, and Compensating Variation\n",
        "\n"
      ]
    },
    {
      "cell_type": "markdown",
      "metadata": {},
      "source": [
        "Examine effects of price changes on revenue (if price change due to a\n",
        "tax or subsidy) and compensating variation.\n",
        "\n"
      ]
    },
    {
      "cell_type": "code",
      "execution_count": 1,
      "metadata": {},
      "outputs": [],
      "source": [
        "fig, ax1 = plt.subplots()\n",
        "\n",
        "ax1.plot(P,[compensating_variation(U0,pbar,my_prices(p0,j=my_j)) for p0 in P])\n",
        "ax1.set_xlabel(f\"Price of {my_j}\")\n",
        "ax1.set_ylabel(\"Compensating Variation\")\n",
        "\n",
        "ax1.plot(P,[revenue(U0,pbar,my_prices(p0,j=my_j),type='Hicksian') for p0 in P],'k')\n",
        "ax1.legend(('Compensating Variation','Revenue'))\n",
        "ax1.axhline(0)\n",
        "ax1.axvline(pbar.loc[my_j])"
      ]
    },
    {
      "cell_type": "markdown",
      "metadata": {},
      "source": [
        "#### Deadweight Loss\n",
        "\n"
      ]
    },
    {
      "cell_type": "markdown",
      "metadata": {},
      "source": [
        "Differences between revenue and compensating variation is deadweight-loss:\n",
        "\n"
      ]
    },
    {
      "cell_type": "code",
      "execution_count": 1,
      "metadata": {},
      "outputs": [],
      "source": [
        "fig, ax1 = plt.subplots()\n",
        "\n",
        "ax1.plot(P,[deadweight_loss(U0,pbar,my_prices(p0,j=my_j)) for p0 in P])\n",
        "ax1.set_xlabel(\"Price of %s\" % my_j)\n",
        "ax1.set_ylabel(\"Deadweight Loss\")"
      ]
    }
  ],
  "metadata": {
    "kernelspec": {
      "display_name": "Python 3",
      "language": "python",
      "name": "python3"
    },
    "language_info": {
      "codemirror_mode": {
        "name": "ipython",
        "version": 3
      },
      "file_extension": ".py",
      "mimetype": "text/x-python",
      "name": "python",
      "nbconvert_exporter": "python",
      "pygments_lexer": "ipython3",
      "version": "3.9.6"
    },
    "org": null
  },
  "nbformat": 4,
  "nbformat_minor": 0
}
