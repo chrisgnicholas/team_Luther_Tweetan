{
 "cells": [
  {
   "cell_type": "markdown",
   "id": "8f649394-6a59-480a-b60d-99f87d9b70f6",
   "metadata": {},
   "source": [
    "# Iron Deficiency in Households with Children in Northern Uganda"
   ]
  },
  {
   "cell_type": "code",
   "execution_count": null,
   "id": "622e19e1-8194-444a-a961-c93913b7979f",
   "metadata": {
    "scrolled": true
   },
   "outputs": [
    {
     "ename": "",
     "evalue": "",
     "output_type": "error",
     "traceback": [
      "\u001b[1;31mThe kernel failed to start as the Python Environment '.venv (Python 3.9.6)' is no longer available. Consider selecting another kernel or refreshing the list of Python Environments."
     ]
    }
   ],
   "source": [
    "# Loading in necessary packages\n",
    "%pip install -r requirements.txt\n",
    "import numpy as np\n",
    "import pandas as pd\n",
    "import cfe\n",
    "import matplotlib.pyplot as plt\n",
    "import wbdata\n",
    "from utils import get_clean_sheet, change_prices, increase_nutrient_content"
   ]
  },
  {
   "cell_type": "code",
   "execution_count": 12,
   "id": "442148ba-6da5-4309-9975-1162a9d517be",
   "metadata": {},
   "outputs": [
    {
     "ename": "OSError",
     "evalue": "Could not find a suitable TLS CA certificate bundle, invalid path: /Users/cnicholas/src/EEP153/team_Luther_Tweetan/.venv/lib/python3.9/site-packages/certifi/cacert.pem",
     "output_type": "error",
     "traceback": [
      "\u001b[0;31m---------------------------------------------------------------------------\u001b[0m",
      "\u001b[0;31mOSError\u001b[0m                                   Traceback (most recent call last)",
      "Cell \u001b[0;32mIn[12], line 12\u001b[0m\n\u001b[1;32m      4\u001b[0m InputFiles \u001b[38;5;241m=\u001b[39m {\u001b[38;5;124m'\u001b[39m\u001b[38;5;124mExpenditures\u001b[39m\u001b[38;5;124m'\u001b[39m:(\u001b[38;5;124m'\u001b[39m\u001b[38;5;124m1yVLriVpo7KGUXvR3hq_n53XpXlD5NmLaH1oOMZyV0gQ\u001b[39m\u001b[38;5;124m'\u001b[39m,\u001b[38;5;124m'\u001b[39m\u001b[38;5;124mExpenditures (2019-20)\u001b[39m\u001b[38;5;124m'\u001b[39m),\n\u001b[1;32m      5\u001b[0m               \u001b[38;5;124m'\u001b[39m\u001b[38;5;124mPrices\u001b[39m\u001b[38;5;124m'\u001b[39m:(\u001b[38;5;124m'\u001b[39m\u001b[38;5;124m1yVLriVpo7KGUXvR3hq_n53XpXlD5NmLaH1oOMZyV0gQ\u001b[39m\u001b[38;5;124m'\u001b[39m,\u001b[38;5;124m'\u001b[39m\u001b[38;5;124mPrices\u001b[39m\u001b[38;5;124m'\u001b[39m),\n\u001b[1;32m      6\u001b[0m               \u001b[38;5;124m'\u001b[39m\u001b[38;5;124mHH Characteristics\u001b[39m\u001b[38;5;124m'\u001b[39m:(\u001b[38;5;124m'\u001b[39m\u001b[38;5;124m1yVLriVpo7KGUXvR3hq_n53XpXlD5NmLaH1oOMZyV0gQ\u001b[39m\u001b[38;5;124m'\u001b[39m,\u001b[38;5;124m'\u001b[39m\u001b[38;5;124mHH Characteristics\u001b[39m\u001b[38;5;124m'\u001b[39m),\n\u001b[1;32m      7\u001b[0m               \u001b[38;5;124m'\u001b[39m\u001b[38;5;124mFCT\u001b[39m\u001b[38;5;124m'\u001b[39m:(\u001b[38;5;124m'\u001b[39m\u001b[38;5;124m1yVLriVpo7KGUXvR3hq_n53XpXlD5NmLaH1oOMZyV0gQ\u001b[39m\u001b[38;5;124m'\u001b[39m,\u001b[38;5;124m'\u001b[39m\u001b[38;5;124mFCT\u001b[39m\u001b[38;5;124m'\u001b[39m),\n\u001b[1;32m      8\u001b[0m               \u001b[38;5;124m'\u001b[39m\u001b[38;5;124mRDI\u001b[39m\u001b[38;5;124m'\u001b[39m:(\u001b[38;5;124m'\u001b[39m\u001b[38;5;124m1yVLriVpo7KGUXvR3hq_n53XpXlD5NmLaH1oOMZyV0gQ\u001b[39m\u001b[38;5;124m'\u001b[39m,\u001b[38;5;124m'\u001b[39m\u001b[38;5;124mRDI\u001b[39m\u001b[38;5;124m'\u001b[39m),}\n\u001b[1;32m     11\u001b[0m \u001b[38;5;66;03m# Get expenditures...\u001b[39;00m\n\u001b[0;32m---> 12\u001b[0m expenditures \u001b[38;5;241m=\u001b[39m \u001b[43mget_clean_sheet\u001b[49m\u001b[43m(\u001b[49m\u001b[43mInputFiles\u001b[49m\u001b[43m[\u001b[49m\u001b[38;5;124;43m'\u001b[39;49m\u001b[38;5;124;43mExpenditures\u001b[39;49m\u001b[38;5;124;43m'\u001b[39;49m\u001b[43m]\u001b[49m\u001b[43m[\u001b[49m\u001b[38;5;241;43m0\u001b[39;49m\u001b[43m]\u001b[49m\u001b[43m,\u001b[49m\n\u001b[1;32m     13\u001b[0m \u001b[43m                    \u001b[49m\u001b[43msheet\u001b[49m\u001b[38;5;241;43m=\u001b[39;49m\u001b[43mInputFiles\u001b[49m\u001b[43m[\u001b[49m\u001b[38;5;124;43m'\u001b[39;49m\u001b[38;5;124;43mExpenditures\u001b[39;49m\u001b[38;5;124;43m'\u001b[39;49m\u001b[43m]\u001b[49m\u001b[43m[\u001b[49m\u001b[38;5;241;43m1\u001b[39;49m\u001b[43m]\u001b[49m\u001b[43m)\u001b[49m\n\u001b[1;32m     15\u001b[0m \u001b[38;5;28;01mif\u001b[39;00m \u001b[38;5;124m'\u001b[39m\u001b[38;5;124mm\u001b[39m\u001b[38;5;124m'\u001b[39m \u001b[38;5;129;01mnot\u001b[39;00m \u001b[38;5;129;01min\u001b[39;00m expenditures\u001b[38;5;241m.\u001b[39mcolumns:\n\u001b[1;32m     16\u001b[0m     expenditures[\u001b[38;5;124m'\u001b[39m\u001b[38;5;124mm\u001b[39m\u001b[38;5;124m'\u001b[39m] \u001b[38;5;241m=\u001b[39m \u001b[38;5;241m1\u001b[39m\n",
      "File \u001b[0;32m~/src/EEP153/team_Luther_Tweetan/utils.py:27\u001b[0m, in \u001b[0;36mget_clean_sheet\u001b[0;34m(key, sheet)\u001b[0m\n\u001b[1;32m     17\u001b[0m \u001b[38;5;28;01mdef\u001b[39;00m \u001b[38;5;21mget_clean_sheet\u001b[39m(key: \u001b[38;5;28mstr\u001b[39m, sheet: \u001b[38;5;28mstr\u001b[39m \u001b[38;5;241m=\u001b[39m \u001b[38;5;28;01mNone\u001b[39;00m):\n\u001b[1;32m     18\u001b[0m \u001b[38;5;250m    \u001b[39m\u001b[38;5;124;03m\"\"\"Get a dataframe from a Google sheet.\u001b[39;00m\n\u001b[1;32m     19\u001b[0m \n\u001b[1;32m     20\u001b[0m \u001b[38;5;124;03m    Parameters:\u001b[39;00m\n\u001b[0;32m   (...)\u001b[0m\n\u001b[1;32m     24\u001b[0m \u001b[38;5;124;03m    Returns:\u001b[39;00m\n\u001b[1;32m     25\u001b[0m \u001b[38;5;124;03m        df: (pd.DataFrame) A dataframe of the spreadsheet\"\"\"\u001b[39;00m\n\u001b[0;32m---> 27\u001b[0m     df \u001b[38;5;241m=\u001b[39m \u001b[43mread_sheets\u001b[49m\u001b[43m(\u001b[49m\u001b[43mkey\u001b[49m\u001b[43m,\u001b[49m\u001b[43m \u001b[49m\u001b[43msheet\u001b[49m\u001b[38;5;241;43m=\u001b[39;49m\u001b[43msheet\u001b[49m\u001b[43m)\u001b[49m\n\u001b[1;32m     28\u001b[0m     df\u001b[38;5;241m.\u001b[39mcolumns \u001b[38;5;241m=\u001b[39m [c\u001b[38;5;241m.\u001b[39mstrip() \u001b[38;5;28;01mfor\u001b[39;00m c \u001b[38;5;129;01min\u001b[39;00m df\u001b[38;5;241m.\u001b[39mcolumns\u001b[38;5;241m.\u001b[39mtolist()]\n\u001b[1;32m     29\u001b[0m     df \u001b[38;5;241m=\u001b[39m df\u001b[38;5;241m.\u001b[39mloc[:, \u001b[38;5;241m~\u001b[39mdf\u001b[38;5;241m.\u001b[39mcolumns\u001b[38;5;241m.\u001b[39mduplicated(keep\u001b[38;5;241m=\u001b[39m\u001b[38;5;124m\"\u001b[39m\u001b[38;5;124mfirst\u001b[39m\u001b[38;5;124m\"\u001b[39m)]\n",
      "File \u001b[0;32m~/src/EEP153/team_Luther_Tweetan/.venv/lib/python3.9/site-packages/eep153_tools/sheets.py:163\u001b[0m, in \u001b[0;36mread_sheets\u001b[0;34m(key, json_creds, sheet, force_numeric, nheaders)\u001b[0m\n",
      "File \u001b[0;32m~/src/EEP153/team_Luther_Tweetan/.venv/lib/python3.9/site-packages/gspread/client.py:206\u001b[0m, in \u001b[0;36mopen_by_key\u001b[0;34m(self, key)\u001b[0m\n",
      "File \u001b[0;32m~/src/EEP153/team_Luther_Tweetan/.venv/lib/python3.9/site-packages/gspread/spreadsheet.py:37\u001b[0m, in \u001b[0;36m__init__\u001b[0;34m(self, client, properties)\u001b[0m\n",
      "File \u001b[0;32m~/src/EEP153/team_Luther_Tweetan/.venv/lib/python3.9/site-packages/gspread/spreadsheet.py:245\u001b[0m, in \u001b[0;36mfetch_sheet_metadata\u001b[0;34m(self, params)\u001b[0m\n",
      "File \u001b[0;32m~/src/EEP153/team_Luther_Tweetan/.venv/lib/python3.9/site-packages/gspread/client.py:80\u001b[0m, in \u001b[0;36mrequest\u001b[0;34m(self, method, endpoint, params, data, json, files, headers)\u001b[0m\n",
      "File \u001b[0;32m~/src/EEP153/team_Luther_Tweetan/.venv/lib/python3.9/site-packages/requests/sessions.py:602\u001b[0m, in \u001b[0;36mget\u001b[0;34m(self, url, **kwargs)\u001b[0m\n",
      "File \u001b[0;32m~/src/EEP153/team_Luther_Tweetan/.venv/lib/python3.9/site-packages/google/auth/transport/requests.py:537\u001b[0m, in \u001b[0;36mrequest\u001b[0;34m(self, method, url, data, headers, max_allowed_time, timeout, **kwargs)\u001b[0m\n",
      "File \u001b[0;32m~/src/EEP153/team_Luther_Tweetan/.venv/lib/python3.9/site-packages/google/auth/credentials.py:230\u001b[0m, in \u001b[0;36mbefore_request\u001b[0;34m(self, request, method, url, headers)\u001b[0m\n",
      "File \u001b[0;32m~/src/EEP153/team_Luther_Tweetan/.venv/lib/python3.9/site-packages/google/auth/credentials.py:193\u001b[0m, in \u001b[0;36m_blocking_refresh\u001b[0;34m(self, request)\u001b[0m\n",
      "File \u001b[0;32m~/src/EEP153/team_Luther_Tweetan/.venv/lib/python3.9/site-packages/google/oauth2/service_account.py:445\u001b[0m, in \u001b[0;36mrefresh\u001b[0;34m(self, request)\u001b[0m\n",
      "File \u001b[0;32m~/src/EEP153/team_Luther_Tweetan/.venv/lib/python3.9/site-packages/google/oauth2/_client.py:308\u001b[0m, in \u001b[0;36mjwt_grant\u001b[0;34m(request, token_uri, assertion, can_retry)\u001b[0m\n",
      "File \u001b[0;32m~/src/EEP153/team_Luther_Tweetan/.venv/lib/python3.9/site-packages/google/oauth2/_client.py:268\u001b[0m, in \u001b[0;36m_token_endpoint_request\u001b[0;34m(request, token_uri, body, access_token, use_json, can_retry, headers, **kwargs)\u001b[0m\n",
      "File \u001b[0;32m~/src/EEP153/team_Luther_Tweetan/.venv/lib/python3.9/site-packages/google/oauth2/_client.py:215\u001b[0m, in \u001b[0;36m_token_endpoint_request_no_throw\u001b[0;34m(request, token_uri, body, access_token, use_json, can_retry, headers, **kwargs)\u001b[0m\n",
      "File \u001b[0;32m~/src/EEP153/team_Luther_Tweetan/.venv/lib/python3.9/site-packages/google/oauth2/_client.py:191\u001b[0m, in \u001b[0;36m_perform_request\u001b[0;34m()\u001b[0m\n",
      "File \u001b[0;32m~/src/EEP153/team_Luther_Tweetan/.venv/lib/python3.9/site-packages/google/auth/transport/requests.py:186\u001b[0m, in \u001b[0;36m__call__\u001b[0;34m(self, url, method, body, headers, timeout, **kwargs)\u001b[0m\n",
      "File \u001b[0;32m~/src/EEP153/team_Luther_Tweetan/.venv/lib/python3.9/site-packages/requests/sessions.py:589\u001b[0m, in \u001b[0;36mrequest\u001b[0;34m(self, method, url, params, data, headers, cookies, files, auth, timeout, allow_redirects, proxies, hooks, stream, verify, cert, json)\u001b[0m\n",
      "File \u001b[0;32m~/src/EEP153/team_Luther_Tweetan/.venv/lib/python3.9/site-packages/requests/sessions.py:703\u001b[0m, in \u001b[0;36msend\u001b[0;34m(self, request, **kwargs)\u001b[0m\n",
      "File \u001b[0;32m~/src/EEP153/team_Luther_Tweetan/.venv/lib/python3.9/site-packages/requests/adapters.py:458\u001b[0m, in \u001b[0;36msend\u001b[0;34m(self, request, stream, timeout, verify, cert, proxies)\u001b[0m\n",
      "File \u001b[0;32m~/src/EEP153/team_Luther_Tweetan/.venv/lib/python3.9/site-packages/requests/adapters.py:261\u001b[0m, in \u001b[0;36mcert_verify\u001b[0;34m(self, conn, url, verify, cert)\u001b[0m\n",
      "\u001b[0;31mOSError\u001b[0m: Could not find a suitable TLS CA certificate bundle, invalid path: /Users/cnicholas/src/EEP153/team_Luther_Tweetan/.venv/lib/python3.9/site-packages/certifi/cacert.pem"
     ]
    }
   ],
   "source": [
    "#Loading in necessary dataframes\n",
    "import pandas as pd\n",
    "\n",
    "InputFiles = {'Expenditures':('1yVLriVpo7KGUXvR3hq_n53XpXlD5NmLaH1oOMZyV0gQ','Expenditures (2019-20)'),\n",
    "              'Prices':('1yVLriVpo7KGUXvR3hq_n53XpXlD5NmLaH1oOMZyV0gQ','Prices'),\n",
    "              'HH Characteristics':('1yVLriVpo7KGUXvR3hq_n53XpXlD5NmLaH1oOMZyV0gQ','HH Characteristics'),\n",
    "              'FCT':('1yVLriVpo7KGUXvR3hq_n53XpXlD5NmLaH1oOMZyV0gQ','FCT'),\n",
    "              'RDI':('1yVLriVpo7KGUXvR3hq_n53XpXlD5NmLaH1oOMZyV0gQ','RDI'),}\n",
    "\n",
    "\n",
    "# Get expenditures...\n",
    "expenditures = get_clean_sheet(InputFiles['Expenditures'][0],\n",
    "                    sheet=InputFiles['Expenditures'][1])\n",
    "\n",
    "if 'm' not in expenditures.columns:\n",
    "    expenditures['m'] = 1\n",
    "\n",
    "expenditures = expenditures.set_index(['i','t','m'])\n",
    "expenditures.columns.name = 'j'\n",
    "expenditures = expenditures.apply(lambda x: pd.to_numeric(x,errors='coerce'))\n",
    "expenditures = expenditures.replace(0,np.nan)\n",
    "\n",
    "# Get HH characteristics...\n",
    "hh_charactaristics = get_clean_sheet(InputFiles['HH Characteristics'][0],\n",
    "                    sheet=InputFiles['HH Characteristics'][1])\n",
    "\n",
    "if 'm' not in hh_charactaristics.columns:\n",
    "    hh_charactaristics['m'] = 1\n",
    "\n",
    "hh_charactaristics = hh_charactaristics.set_index(['i','t','m'])\n",
    "hh_charactaristics.columns.name = 'k'\n",
    "\n",
    "hh_charactaristics = hh_charactaristics.apply(lambda x: pd.to_numeric(x,errors='coerce'))\n",
    "\n",
    "# Get prices\n",
    "prices = get_clean_sheet(InputFiles['Prices'][0],\n",
    "                    sheet=InputFiles['Prices'][1])\n",
    "\n",
    "if 'm' not in prices.columns:  # Supply \"market\" indicator if missing\n",
    "    prices['m'] = 1\n",
    "\n",
    "prices = prices.set_index(['t','m'])\n",
    "prices.columns.name = 'j'\n",
    "\n",
    "prices = prices.apply(lambda x: pd.to_numeric(x,errors='coerce'))\n",
    "prices = prices.replace(0,np.nan)\n",
    "\n",
    "fct = get_clean_sheet(InputFiles['FCT'][0],\n",
    "                    sheet=InputFiles['FCT'][1])\n",
    "\n",
    "#### This bit peculiar to Niger FCT #####\n",
    "#fct = fct.loc[fct.Code.str.len()==6]\n",
    "#fct = fct.set_index('Code')\n",
    "#fct.columns = [v.replace('\\n',' ') for v in fct.columns]\n",
    "########################################\n",
    "fct = fct.set_index('j')\n",
    "fct.columns.name = 'n'\n",
    "\n",
    "fct = fct.apply(lambda x: pd.to_numeric(x,errors='coerce'))\n",
    "\n",
    "################## RDI, if available (consider using US) #####################\n",
    "rdi = get_clean_sheet(InputFiles['RDI'][0],\n",
    "                    sheet=InputFiles['RDI'][1])\n",
    "rdi = rdi.set_index('n')\n",
    "rdi.columns.name = 'k'\n",
    "\n",
    "# Take logs of expenditures; call this y\n",
    "y = np.log(expenditures)"
   ]
  },
  {
   "cell_type": "code",
   "execution_count": null,
   "id": "d7659409",
   "metadata": {},
   "outputs": [],
   "source": [
    "\n",
    "hh_charactaristics = hh_charactaristics[rdi.columns.tolist()]\n",
    "filtered_hh_charactaristics = hh_charactaristics[(hh_charactaristics['F 00-03']!=0) | (hh_charactaristics['M 00-03']!=0) | (hh_charactaristics['F 04-08']!=0) | (hh_charactaristics['M 04-08']!=0)]\n",
    "filtered_z = filtered_hh_charactaristics.xs('2019-20',level='t',drop_level=False)\n",
    "filtered_hh_rdi = filtered_hh_charactaristics@rdi.T\n",
    "\n",
    "# Uganda data is per week, so make this a recommended WEEKLY intake:\n",
    "filtered_hh_rwi = filtered_hh_rdi*7"
   ]
  },
  {
   "cell_type": "code",
   "execution_count": null,
   "id": "1ec2db5c-34bf-4dc5-83d8-caffb4b4f066",
   "metadata": {},
   "outputs": [],
   "source": [
    "result = cfe.Regression(y=np.log(expenditures.stack()),d=hh_charactaristics)\n",
    "\n",
    "xhat = result.predicted_expenditures()\n",
    "\n",
    "# Expenditures divided by prices/kg gives quantities in kgs...\n",
    "qhat = (xhat.unstack('j')/prices).dropna(how='all')\n",
    "\n",
    "# Drop missing columns\n",
    "qhat = qhat.loc[:,qhat.count()>0]\n",
    "\n",
    "use = fct.index.intersection(qhat.columns)\n",
    "nutrients = qhat[use]@fct.loc[use,:]\n",
    "use_nutrients = nutrients.columns.intersection(filtered_hh_rwi.columns)\n",
    "nutrient_ratio = (nutrients[use_nutrients]/filtered_hh_rwi[use_nutrients]).dropna()"
   ]
  },
  {
   "cell_type": "code",
   "execution_count": null,
   "id": "26046450",
   "metadata": {},
   "outputs": [],
   "source": [
    "ax = result.graph_beta()"
   ]
  },
  {
   "cell_type": "markdown",
   "id": "79dc0253-595a-4ccb-8363-ca1e21fd4953",
   "metadata": {},
   "source": [
    "## Introduction:\n",
    "\n",
    "We are exploring the percentage of Uganda households with children that suffer from iron deficiency, and exploring possible solutions to combat it. We chose iron as a nutrient because a significant amount of households fail to hit the recommended daily amount as shown by the histogram below."
   ]
  },
  {
   "cell_type": "code",
   "execution_count": null,
   "id": "99fb3146-e8be-49c7-932c-9b91049918ce",
   "metadata": {},
   "outputs": [],
   "source": [
    "\n",
    "nutrient_ratio['Iron'].hist(bins=100)\n",
    "plt.axvline(x = 1, color = 'r', label = 'axvline - full height')"
   ]
  },
  {
   "cell_type": "code",
   "execution_count": null,
   "id": "e0b22187-2c4d-44d8-b532-135827231297",
   "metadata": {},
   "outputs": [],
   "source": [
    "# Below is the percentage of households with at least one child 0-8 in Uganda that are below recommended iron levels\n",
    "percent_households_under_rdi = len(nutrient_ratio[nutrient_ratio['Iron']<1])/len(nutrient_ratio['Iron'])\n",
    "print(percent_households_under_rdi)\n",
    "print(nutrient_ratio['Iron'].mean())"
   ]
  },
  {
   "cell_type": "markdown",
   "id": "933baf9f-7519-4151-a0a0-ad7bae16b58b",
   "metadata": {},
   "source": [
    "## Iron content of beans and millet\n",
    "\n",
    "Beans (fresh and dry) and millet have significant amounts of iron in them, as shown by the FCT results below"
   ]
  },
  {
   "cell_type": "code",
   "execution_count": null,
   "id": "ff60015a-19b9-41cf-b16c-2e564ca6da25",
   "metadata": {},
   "outputs": [],
   "source": [
    "fct.loc[['Beans (dry)', 'Beans (fresh)', 'Millet']]['Iron']"
   ]
  },
  {
   "cell_type": "markdown",
   "id": "426034ab-b7f0-4b32-8675-781929bbae7f",
   "metadata": {},
   "source": [
    "However, these two products have very different elasticities:"
   ]
  },
  {
   "cell_type": "code",
   "execution_count": null,
   "id": "b837513e",
   "metadata": {},
   "outputs": [],
   "source": [
    "\n",
    "xhat = result.predicted_expenditures()\n",
    "\n",
    "# Total food expenditures per household\n",
    "xbar = xhat.groupby(['i','t','m']).sum()\n",
    "\n",
    "# Reference budget\n",
    "xref = xbar.quantile(0.5)  # Household at 0.5 quantile is median\n",
    "\n",
    "\n",
    "# Reference prices chosen from a particular time; average across place.\n",
    "# These are prices per kilogram:\n",
    "pbar = prices.mean()\n",
    "pbar = pbar[result.beta.index] # Only use prices for goods we can estimate\n",
    "\n",
    "#Finally, define a function to change a single price in the vector $p$:\n",
    "def my_prices(p0,p=pbar,j='Millet'):\n",
    "    \"\"\"\n",
    "    Change price of jth good to p0, holding other prices fixed.\n",
    "    \"\"\"\n",
    "    p = p.copy()\n",
    "    p.loc[j] = p0\n",
    "    return p\n",
    "pbar\n",
    "\n",
    "# Vary prices from 50% to 200% of reference.\n",
    "scale = np.linspace(.5,2,20)"
   ]
  },
  {
   "cell_type": "code",
   "execution_count": null,
   "id": "2a2bbdd8-b994-4a53-bab5-2e41be2ebe55",
   "metadata": {},
   "outputs": [],
   "source": [
    "\n",
    "%matplotlib inline\n",
    "\n",
    "use = 'Millet'  # Good we want demand curve for\n",
    "\n",
    "\n",
    "# Demand for Beans for household at median budget\n",
    "plt.plot([result.demands(xref,change_prices(pbar[use]*s,pbar,j='Millet'))[use] for s in scale],scale)\n",
    "\n",
    "# Demand for Beans for household at 25% percentile\n",
    "plt.plot([result.demands(xbar.quantile(0.25),change_prices(pbar[use]*s,pbar,j='Millet'))[use] for s in scale],scale)\n",
    "\n",
    "# Demand for Beans for household at 75% percentile\n",
    "plt.plot([result.demands(xbar.quantile(0.75),change_prices(pbar[use]*s,pbar,j='Millet'))[use] for s in scale],scale)\n",
    "\n",
    "plt.ylabel(f\"Price (relative to base of {pbar[use]:.2f})\")\n",
    "plt.xlabel(f\"Quantities of {use} Demanded\")"
   ]
  },
  {
   "cell_type": "code",
   "execution_count": null,
   "id": "2559c573",
   "metadata": {},
   "outputs": [],
   "source": [
    "\n",
    "use = 'Beans'  # Good we want demand curve for\n",
    "\n",
    "# Demand for Beans for household at median budget\n",
    "plt.plot([result.demands(xref,change_prices(pbar[use]*s,pbar,j='Beans'))[use] for s in scale],scale)\n",
    "\n",
    "# Demand for Beans for household at 25% percentile\n",
    "plt.plot([result.demands(xbar.quantile(0.25),change_prices(pbar[use]*s,pbar,j='Beans'))[use] for s in scale],scale)\n",
    "\n",
    "# Demand for Beans for household at 75% percentile\n",
    "plt.plot([result.demands(xbar.quantile(0.75),change_prices(pbar[use]*s,pbar,j='Beans'))[use] for s in scale],scale)\n",
    "\n",
    "plt.ylabel(f\"Price (relative to base of {pbar[use]:.2f})\")\n",
    "plt.xlabel(f\"Quantities of {use} Demanded\")"
   ]
  },
  {
   "cell_type": "markdown",
   "id": "aca21a07-573e-4bc4-b4f4-de8d0ae40fb5",
   "metadata": {},
   "source": [
    "## Fortification\n",
    "\n",
    "We want to see how much iron intake would change if the iron content of beans and millet were increased through new HarvestPlus varietals. Let's create the same stats as above but with a 30% increase in the iron content of fresh and dry beans."
   ]
  },
  {
   "cell_type": "code",
   "execution_count": null,
   "id": "2e1e00bf-dc88-457d-bfa6-384e69092201",
   "metadata": {},
   "outputs": [],
   "source": [
    "# Test the function with debug statements\n",
    "updated_fct = increase_nutrient_content(fct, ['Beans (dry)', 'Beans (fresh)', 'Millet'], nutrient='Iron', increase_percent=30)"
   ]
  },
  {
   "cell_type": "code",
   "execution_count": null,
   "id": "3e41ad94-9003-42cc-a018-ee0a10b2632a",
   "metadata": {},
   "outputs": [],
   "source": [
    "use = updated_fct.index.intersection(qhat.columns)\n",
    "nutrients_2 = qhat[use]@updated_fct.loc[use,:]\n",
    "use_nutrients2 = nutrients_2.columns.intersection(filtered_hh_rwi.columns)\n",
    "nutrient_ratio_2 = (nutrients_2[use_nutrients2]/filtered_hh_rwi[use_nutrients2]).dropna()"
   ]
  },
  {
   "cell_type": "code",
   "execution_count": null,
   "id": "f7ccdb67-890a-4772-9eb3-ea3341667f39",
   "metadata": {},
   "outputs": [],
   "source": [
    "nutrient_ratio_2['Iron'].hist(bins=100)\n",
    "plt.axvline(x = 1, color = 'r', label = 'axvline - full height')"
   ]
  },
  {
   "cell_type": "code",
   "execution_count": null,
   "id": "4f0aea52-f11d-4003-8159-dd34014c39c9",
   "metadata": {},
   "outputs": [],
   "source": [
    "percent_households_under_rdi_updated = len(nutrient_ratio_2[nutrient_ratio_2['Iron']<1])/len(nutrient_ratio_2['Iron'])\n",
    "print(percent_households_under_rdi_updated)\n",
    "print(nutrient_ratio_2['Iron'].mean())"
   ]
  },
  {
   "cell_type": "markdown",
   "id": "8e64cbd4",
   "metadata": {},
   "source": [
    "Not encouraging. Why is that?  Let's look at the Gamma function, and see what kids eat"
   ]
  },
  {
   "cell_type": "code",
   "execution_count": null,
   "id": "f3b70a14",
   "metadata": {},
   "outputs": [],
   "source": [
    "result.get_gamma()"
   ]
  },
  {
   "cell_type": "markdown",
   "id": "e57f040b",
   "metadata": {},
   "source": [
    "Not unsurprisingly, kids don't eat a lot of Beans or Millet"
   ]
  }
 ],
 "metadata": {
  "kernelspec": {
   "display_name": "Python 3 (ipykernel)",
   "language": "python",
   "name": "python3"
  },
  "language_info": {
   "codemirror_mode": {
    "name": "ipython",
    "version": 3
   },
   "file_extension": ".py",
   "mimetype": "text/x-python",
   "name": "python",
   "nbconvert_exporter": "python",
   "pygments_lexer": "ipython3",
   "version": "3.9.15"
  }
 },
 "nbformat": 4,
 "nbformat_minor": 5
}
