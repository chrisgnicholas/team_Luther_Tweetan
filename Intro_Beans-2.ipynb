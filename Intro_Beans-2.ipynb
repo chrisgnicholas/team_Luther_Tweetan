{
 "cells": [
  {
   "cell_type": "markdown",
   "id": "8f649394-6a59-480a-b60d-99f87d9b70f6",
   "metadata": {},
   "source": [
    "# Iron Deficiency in Households with Children in Northern Uganda"
   ]
  },
  {
   "cell_type": "code",
   "execution_count": 44,
   "id": "622e19e1-8194-444a-a961-c93913b7979f",
   "metadata": {
    "scrolled": true
   },
   "outputs": [
    {
     "name": "stdout",
     "output_type": "stream",
     "text": [
      "Requirement already satisfied: CFEDemands>=0.4.1 in ./.venv/lib/python3.9/site-packages (from -r requirements.txt (line 5)) (0.6.1)\n",
      "Requirement already satisfied: gspread>=5.0.1 in ./.venv/lib/python3.9/site-packages (from -r requirements.txt (line 7)) (5.12.4)\n",
      "Requirement already satisfied: gspread_pandas>=3.2.0 in ./.venv/lib/python3.9/site-packages (from -r requirements.txt (line 8)) (3.3.0)\n",
      "Requirement already satisfied: oauth2client>=4.1.3 in ./.venv/lib/python3.9/site-packages (from -r requirements.txt (line 11)) (4.1.3)\n",
      "Requirement already satisfied: scikit-learn in ./.venv/lib/python3.9/site-packages (from -r requirements.txt (line 20)) (1.4.2)\n",
      "Requirement already satisfied: eep153_tools>=0.11 in ./.venv/lib/python3.9/site-packages (from -r requirements.txt (line 21)) (0.12.4)\n",
      "Requirement already satisfied: python-gnupg in ./.venv/lib/python3.9/site-packages (from -r requirements.txt (line 22)) (0.5.2)\n",
      "Requirement already satisfied: ConsumerDemands in ./.venv/lib/python3.9/site-packages (from -r requirements.txt (line 23)) (0.4.2.dev0)\n",
      "Requirement already satisfied: sqlalchemy in ./.venv/lib/python3.9/site-packages (from -r requirements.txt (line 24)) (2.0.29)\n",
      "Requirement already satisfied: dvc>=2.18.1 in ./.venv/lib/python3.9/site-packages (from CFEDemands>=0.4.1->-r requirements.txt (line 5)) (3.50.0)\n",
      "Requirement already satisfied: joblib>=1.1.0 in ./.venv/lib/python3.9/site-packages (from CFEDemands>=0.4.1->-r requirements.txt (line 5)) (1.4.0)\n",
      "Requirement already satisfied: matplotlib>=3.5.1 in ./.venv/lib/python3.9/site-packages (from CFEDemands>=0.4.1->-r requirements.txt (line 5)) (3.8.4)\n",
      "Requirement already satisfied: numpy>=1.21.5 in ./.venv/lib/python3.9/site-packages (from CFEDemands>=0.4.1->-r requirements.txt (line 5)) (1.26.4)\n",
      "Requirement already satisfied: pandas>=1.4.2 in ./.venv/lib/python3.9/site-packages (from CFEDemands>=0.4.1->-r requirements.txt (line 5)) (2.2.2)\n",
      "Requirement already satisfied: pytest>=7.1.1 in ./.venv/lib/python3.9/site-packages (from CFEDemands>=0.4.1->-r requirements.txt (line 5)) (8.1.1)\n",
      "Requirement already satisfied: ray>=2.0.0 in ./.venv/lib/python3.9/site-packages (from CFEDemands>=0.4.1->-r requirements.txt (line 5)) (2.11.0)\n",
      "Requirement already satisfied: scipy>=1.7.3 in ./.venv/lib/python3.9/site-packages (from CFEDemands>=0.4.1->-r requirements.txt (line 5)) (1.13.0)\n",
      "Requirement already satisfied: statsmodels>=0.13.2 in ./.venv/lib/python3.9/site-packages (from CFEDemands>=0.4.1->-r requirements.txt (line 5)) (0.14.2)\n",
      "Requirement already satisfied: xarray>=0.20.1 in ./.venv/lib/python3.9/site-packages (from CFEDemands>=0.4.1->-r requirements.txt (line 5)) (2024.3.0)\n",
      "Requirement already satisfied: google-auth>=1.12.0 in ./.venv/lib/python3.9/site-packages (from gspread>=5.0.1->-r requirements.txt (line 7)) (2.29.0)\n",
      "Requirement already satisfied: google-auth-oauthlib>=0.4.1 in ./.venv/lib/python3.9/site-packages (from gspread>=5.0.1->-r requirements.txt (line 7)) (1.2.0)\n",
      "Requirement already satisfied: decorator in ./.venv/lib/python3.9/site-packages (from gspread_pandas>=3.2.0->-r requirements.txt (line 8)) (5.1.1)\n",
      "Requirement already satisfied: httplib2>=0.9.1 in ./.venv/lib/python3.9/site-packages (from oauth2client>=4.1.3->-r requirements.txt (line 11)) (0.22.0)\n",
      "Requirement already satisfied: pyasn1>=0.1.7 in ./.venv/lib/python3.9/site-packages (from oauth2client>=4.1.3->-r requirements.txt (line 11)) (0.6.0)\n",
      "Requirement already satisfied: pyasn1-modules>=0.0.5 in ./.venv/lib/python3.9/site-packages (from oauth2client>=4.1.3->-r requirements.txt (line 11)) (0.4.0)\n",
      "Requirement already satisfied: rsa>=3.1.4 in ./.venv/lib/python3.9/site-packages (from oauth2client>=4.1.3->-r requirements.txt (line 11)) (4.9)\n",
      "Requirement already satisfied: six>=1.6.1 in ./.venv/lib/python3.9/site-packages (from oauth2client>=4.1.3->-r requirements.txt (line 11)) (1.16.0)\n",
      "Requirement already satisfied: threadpoolctl>=2.0.0 in ./.venv/lib/python3.9/site-packages (from scikit-learn->-r requirements.txt (line 20)) (3.4.0)\n",
      "Requirement already satisfied: typing-extensions>=4.6.0 in ./.venv/lib/python3.9/site-packages (from sqlalchemy->-r requirements.txt (line 24)) (4.11.0)\n",
      "Requirement already satisfied: attrs>=22.2.0 in ./.venv/lib/python3.9/site-packages (from dvc>=2.18.1->CFEDemands>=0.4.1->-r requirements.txt (line 5)) (23.2.0)\n",
      "Requirement already satisfied: celery in ./.venv/lib/python3.9/site-packages (from dvc>=2.18.1->CFEDemands>=0.4.1->-r requirements.txt (line 5)) (5.4.0)\n",
      "Requirement already satisfied: colorama>=0.3.9 in ./.venv/lib/python3.9/site-packages (from dvc>=2.18.1->CFEDemands>=0.4.1->-r requirements.txt (line 5)) (0.4.6)\n",
      "Requirement already satisfied: configobj>=5.0.6 in ./.venv/lib/python3.9/site-packages (from dvc>=2.18.1->CFEDemands>=0.4.1->-r requirements.txt (line 5)) (5.0.8)\n",
      "Requirement already satisfied: distro>=1.3 in ./.venv/lib/python3.9/site-packages (from dvc>=2.18.1->CFEDemands>=0.4.1->-r requirements.txt (line 5)) (1.9.0)\n",
      "Requirement already satisfied: dpath<3,>=2.1.0 in ./.venv/lib/python3.9/site-packages (from dvc>=2.18.1->CFEDemands>=0.4.1->-r requirements.txt (line 5)) (2.1.6)\n",
      "Requirement already satisfied: dulwich in ./.venv/lib/python3.9/site-packages (from dvc>=2.18.1->CFEDemands>=0.4.1->-r requirements.txt (line 5)) (0.21.7)\n",
      "Requirement already satisfied: dvc-data<3.16,>=3.15 in ./.venv/lib/python3.9/site-packages (from dvc>=2.18.1->CFEDemands>=0.4.1->-r requirements.txt (line 5)) (3.15.1)\n",
      "Requirement already satisfied: dvc-http>=2.29.0 in ./.venv/lib/python3.9/site-packages (from dvc>=2.18.1->CFEDemands>=0.4.1->-r requirements.txt (line 5)) (2.32.0)\n",
      "Requirement already satisfied: dvc-objects in ./.venv/lib/python3.9/site-packages (from dvc>=2.18.1->CFEDemands>=0.4.1->-r requirements.txt (line 5)) (5.1.0)\n",
      "Requirement already satisfied: dvc-render<2,>=1.0.1 in ./.venv/lib/python3.9/site-packages (from dvc>=2.18.1->CFEDemands>=0.4.1->-r requirements.txt (line 5)) (1.0.2)\n",
      "Requirement already satisfied: dvc-studio-client<1,>=0.20 in ./.venv/lib/python3.9/site-packages (from dvc>=2.18.1->CFEDemands>=0.4.1->-r requirements.txt (line 5)) (0.20.0)\n",
      "Requirement already satisfied: dvc-task<1,>=0.3.0 in ./.venv/lib/python3.9/site-packages (from dvc>=2.18.1->CFEDemands>=0.4.1->-r requirements.txt (line 5)) (0.4.0)\n",
      "Requirement already satisfied: flatten-dict<1,>=0.4.1 in ./.venv/lib/python3.9/site-packages (from dvc>=2.18.1->CFEDemands>=0.4.1->-r requirements.txt (line 5)) (0.4.2)\n",
      "Requirement already satisfied: flufl.lock<8,>=5 in ./.venv/lib/python3.9/site-packages (from dvc>=2.18.1->CFEDemands>=0.4.1->-r requirements.txt (line 5)) (7.1.1)\n",
      "Requirement already satisfied: fsspec in ./.venv/lib/python3.9/site-packages (from dvc>=2.18.1->CFEDemands>=0.4.1->-r requirements.txt (line 5)) (2024.3.1)\n",
      "Requirement already satisfied: funcy>=1.14 in ./.venv/lib/python3.9/site-packages (from dvc>=2.18.1->CFEDemands>=0.4.1->-r requirements.txt (line 5)) (2.0)\n",
      "Requirement already satisfied: grandalf<1,>=0.7 in ./.venv/lib/python3.9/site-packages (from dvc>=2.18.1->CFEDemands>=0.4.1->-r requirements.txt (line 5)) (0.8)\n",
      "Requirement already satisfied: gto<2,>=1.6.0 in ./.venv/lib/python3.9/site-packages (from dvc>=2.18.1->CFEDemands>=0.4.1->-r requirements.txt (line 5)) (1.7.1)\n",
      "Requirement already satisfied: hydra-core>=1.1 in ./.venv/lib/python3.9/site-packages (from dvc>=2.18.1->CFEDemands>=0.4.1->-r requirements.txt (line 5)) (1.3.2)\n",
      "Requirement already satisfied: iterative-telemetry>=0.0.7 in ./.venv/lib/python3.9/site-packages (from dvc>=2.18.1->CFEDemands>=0.4.1->-r requirements.txt (line 5)) (0.0.8)\n",
      "Requirement already satisfied: kombu in ./.venv/lib/python3.9/site-packages (from dvc>=2.18.1->CFEDemands>=0.4.1->-r requirements.txt (line 5)) (5.3.7)\n",
      "Requirement already satisfied: networkx>=2.5 in ./.venv/lib/python3.9/site-packages (from dvc>=2.18.1->CFEDemands>=0.4.1->-r requirements.txt (line 5)) (3.2.1)\n",
      "Requirement already satisfied: omegaconf in ./.venv/lib/python3.9/site-packages (from dvc>=2.18.1->CFEDemands>=0.4.1->-r requirements.txt (line 5)) (2.3.0)\n",
      "Requirement already satisfied: packaging>=19 in ./.venv/lib/python3.9/site-packages (from dvc>=2.18.1->CFEDemands>=0.4.1->-r requirements.txt (line 5)) (24.0)\n",
      "Requirement already satisfied: pathspec>=0.10.3 in ./.venv/lib/python3.9/site-packages (from dvc>=2.18.1->CFEDemands>=0.4.1->-r requirements.txt (line 5)) (0.12.1)\n",
      "Requirement already satisfied: platformdirs<4,>=3.1.1 in ./.venv/lib/python3.9/site-packages (from dvc>=2.18.1->CFEDemands>=0.4.1->-r requirements.txt (line 5)) (3.11.0)\n",
      "Requirement already satisfied: psutil>=5.8 in ./.venv/lib/python3.9/site-packages (from dvc>=2.18.1->CFEDemands>=0.4.1->-r requirements.txt (line 5)) (5.9.8)\n",
      "Requirement already satisfied: pydot>=1.2.4 in ./.venv/lib/python3.9/site-packages (from dvc>=2.18.1->CFEDemands>=0.4.1->-r requirements.txt (line 5)) (2.0.0)\n",
      "Requirement already satisfied: pygtrie>=2.3.2 in ./.venv/lib/python3.9/site-packages (from dvc>=2.18.1->CFEDemands>=0.4.1->-r requirements.txt (line 5)) (2.5.0)\n",
      "Requirement already satisfied: pyparsing>=2.4.7 in ./.venv/lib/python3.9/site-packages (from dvc>=2.18.1->CFEDemands>=0.4.1->-r requirements.txt (line 5)) (3.1.2)\n",
      "Requirement already satisfied: requests>=2.22 in ./.venv/lib/python3.9/site-packages (from dvc>=2.18.1->CFEDemands>=0.4.1->-r requirements.txt (line 5)) (2.31.0)\n",
      "Requirement already satisfied: rich>=12 in ./.venv/lib/python3.9/site-packages (from dvc>=2.18.1->CFEDemands>=0.4.1->-r requirements.txt (line 5)) (13.7.1)\n",
      "Requirement already satisfied: ruamel.yaml>=0.17.11 in ./.venv/lib/python3.9/site-packages (from dvc>=2.18.1->CFEDemands>=0.4.1->-r requirements.txt (line 5)) (0.18.6)\n",
      "Requirement already satisfied: scmrepo<4,>=3 in ./.venv/lib/python3.9/site-packages (from dvc>=2.18.1->CFEDemands>=0.4.1->-r requirements.txt (line 5)) (3.3.1)\n",
      "Requirement already satisfied: shortuuid>=0.5 in ./.venv/lib/python3.9/site-packages (from dvc>=2.18.1->CFEDemands>=0.4.1->-r requirements.txt (line 5)) (1.0.13)\n",
      "Requirement already satisfied: shtab<2,>=1.3.4 in ./.venv/lib/python3.9/site-packages (from dvc>=2.18.1->CFEDemands>=0.4.1->-r requirements.txt (line 5)) (1.7.1)\n",
      "Requirement already satisfied: tabulate>=0.8.7 in ./.venv/lib/python3.9/site-packages (from dvc>=2.18.1->CFEDemands>=0.4.1->-r requirements.txt (line 5)) (0.8.10)\n",
      "Requirement already satisfied: tomlkit>=0.11.1 in ./.venv/lib/python3.9/site-packages (from dvc>=2.18.1->CFEDemands>=0.4.1->-r requirements.txt (line 5)) (0.12.4)\n",
      "Requirement already satisfied: tqdm<5,>=4.63.1 in ./.venv/lib/python3.9/site-packages (from dvc>=2.18.1->CFEDemands>=0.4.1->-r requirements.txt (line 5)) (4.66.2)\n",
      "Requirement already satisfied: voluptuous>=0.11.7 in ./.venv/lib/python3.9/site-packages (from dvc>=2.18.1->CFEDemands>=0.4.1->-r requirements.txt (line 5)) (0.14.2)\n",
      "Requirement already satisfied: zc.lockfile>=1.2.1 in ./.venv/lib/python3.9/site-packages (from dvc>=2.18.1->CFEDemands>=0.4.1->-r requirements.txt (line 5)) (3.0.post1)\n",
      "Requirement already satisfied: cachetools<6.0,>=2.0.0 in ./.venv/lib/python3.9/site-packages (from google-auth>=1.12.0->gspread>=5.0.1->-r requirements.txt (line 7)) (5.3.3)\n",
      "Requirement already satisfied: requests-oauthlib>=0.7.0 in ./.venv/lib/python3.9/site-packages (from google-auth-oauthlib>=0.4.1->gspread>=5.0.1->-r requirements.txt (line 7)) (2.0.0)\n",
      "Requirement already satisfied: contourpy>=1.0.1 in ./.venv/lib/python3.9/site-packages (from matplotlib>=3.5.1->CFEDemands>=0.4.1->-r requirements.txt (line 5)) (1.2.1)\n",
      "Requirement already satisfied: cycler>=0.10 in ./.venv/lib/python3.9/site-packages (from matplotlib>=3.5.1->CFEDemands>=0.4.1->-r requirements.txt (line 5)) (0.12.1)\n",
      "Requirement already satisfied: fonttools>=4.22.0 in ./.venv/lib/python3.9/site-packages (from matplotlib>=3.5.1->CFEDemands>=0.4.1->-r requirements.txt (line 5)) (4.51.0)\n",
      "Requirement already satisfied: kiwisolver>=1.3.1 in ./.venv/lib/python3.9/site-packages (from matplotlib>=3.5.1->CFEDemands>=0.4.1->-r requirements.txt (line 5)) (1.4.5)\n",
      "Requirement already satisfied: pillow>=8 in ./.venv/lib/python3.9/site-packages (from matplotlib>=3.5.1->CFEDemands>=0.4.1->-r requirements.txt (line 5)) (10.3.0)\n",
      "Requirement already satisfied: python-dateutil>=2.7 in ./.venv/lib/python3.9/site-packages (from matplotlib>=3.5.1->CFEDemands>=0.4.1->-r requirements.txt (line 5)) (2.9.0.post0)\n",
      "Requirement already satisfied: importlib-resources>=3.2.0 in ./.venv/lib/python3.9/site-packages (from matplotlib>=3.5.1->CFEDemands>=0.4.1->-r requirements.txt (line 5)) (6.4.0)\n",
      "Requirement already satisfied: pytz>=2020.1 in ./.venv/lib/python3.9/site-packages (from pandas>=1.4.2->CFEDemands>=0.4.1->-r requirements.txt (line 5)) (2024.1)\n",
      "Requirement already satisfied: tzdata>=2022.7 in ./.venv/lib/python3.9/site-packages (from pandas>=1.4.2->CFEDemands>=0.4.1->-r requirements.txt (line 5)) (2024.1)\n",
      "Requirement already satisfied: iniconfig in ./.venv/lib/python3.9/site-packages (from pytest>=7.1.1->CFEDemands>=0.4.1->-r requirements.txt (line 5)) (2.0.0)\n",
      "Requirement already satisfied: pluggy<2.0,>=1.4 in ./.venv/lib/python3.9/site-packages (from pytest>=7.1.1->CFEDemands>=0.4.1->-r requirements.txt (line 5)) (1.4.0)\n",
      "Requirement already satisfied: exceptiongroup>=1.0.0rc8 in ./.venv/lib/python3.9/site-packages (from pytest>=7.1.1->CFEDemands>=0.4.1->-r requirements.txt (line 5)) (1.2.1)\n",
      "Requirement already satisfied: tomli>=1 in ./.venv/lib/python3.9/site-packages (from pytest>=7.1.1->CFEDemands>=0.4.1->-r requirements.txt (line 5)) (2.0.1)\n",
      "Requirement already satisfied: click>=7.0 in ./.venv/lib/python3.9/site-packages (from ray>=2.0.0->CFEDemands>=0.4.1->-r requirements.txt (line 5)) (8.1.7)\n",
      "Requirement already satisfied: filelock in ./.venv/lib/python3.9/site-packages (from ray>=2.0.0->CFEDemands>=0.4.1->-r requirements.txt (line 5)) (3.13.4)\n",
      "Requirement already satisfied: jsonschema in ./.venv/lib/python3.9/site-packages (from ray>=2.0.0->CFEDemands>=0.4.1->-r requirements.txt (line 5)) (4.21.1)\n",
      "Requirement already satisfied: msgpack<2.0.0,>=1.0.0 in ./.venv/lib/python3.9/site-packages (from ray>=2.0.0->CFEDemands>=0.4.1->-r requirements.txt (line 5)) (1.0.8)\n",
      "Requirement already satisfied: protobuf!=3.19.5,>=3.15.3 in ./.venv/lib/python3.9/site-packages (from ray>=2.0.0->CFEDemands>=0.4.1->-r requirements.txt (line 5)) (5.26.1)\n",
      "Requirement already satisfied: pyyaml in ./.venv/lib/python3.9/site-packages (from ray>=2.0.0->CFEDemands>=0.4.1->-r requirements.txt (line 5)) (6.0.1)\n",
      "Requirement already satisfied: aiosignal in ./.venv/lib/python3.9/site-packages (from ray>=2.0.0->CFEDemands>=0.4.1->-r requirements.txt (line 5)) (1.3.1)\n",
      "Requirement already satisfied: frozenlist in ./.venv/lib/python3.9/site-packages (from ray>=2.0.0->CFEDemands>=0.4.1->-r requirements.txt (line 5)) (1.4.1)\n",
      "Requirement already satisfied: patsy>=0.5.6 in ./.venv/lib/python3.9/site-packages (from statsmodels>=0.13.2->CFEDemands>=0.4.1->-r requirements.txt (line 5)) (0.5.6)\n",
      "Requirement already satisfied: dictdiffer>=0.8.1 in ./.venv/lib/python3.9/site-packages (from dvc-data<3.16,>=3.15->dvc>=2.18.1->CFEDemands>=0.4.1->-r requirements.txt (line 5)) (0.9.0)\n",
      "Requirement already satisfied: diskcache>=5.2.1 in ./.venv/lib/python3.9/site-packages (from dvc-data<3.16,>=3.15->dvc>=2.18.1->CFEDemands>=0.4.1->-r requirements.txt (line 5)) (5.6.3)\n",
      "Requirement already satisfied: sqltrie<1,>=0.11.0 in ./.venv/lib/python3.9/site-packages (from dvc-data<3.16,>=3.15->dvc>=2.18.1->CFEDemands>=0.4.1->-r requirements.txt (line 5)) (0.11.0)\n",
      "Requirement already satisfied: aiohttp-retry>=2.5.0 in ./.venv/lib/python3.9/site-packages (from dvc-http>=2.29.0->dvc>=2.18.1->CFEDemands>=0.4.1->-r requirements.txt (line 5)) (2.8.3)\n",
      "Requirement already satisfied: billiard<5.0,>=4.2.0 in ./.venv/lib/python3.9/site-packages (from celery->dvc>=2.18.1->CFEDemands>=0.4.1->-r requirements.txt (line 5)) (4.2.0)\n",
      "Requirement already satisfied: vine<6.0,>=5.1.0 in ./.venv/lib/python3.9/site-packages (from celery->dvc>=2.18.1->CFEDemands>=0.4.1->-r requirements.txt (line 5)) (5.1.0)\n",
      "Requirement already satisfied: click-didyoumean>=0.3.0 in ./.venv/lib/python3.9/site-packages (from celery->dvc>=2.18.1->CFEDemands>=0.4.1->-r requirements.txt (line 5)) (0.3.1)\n",
      "Requirement already satisfied: click-repl>=0.2.0 in ./.venv/lib/python3.9/site-packages (from celery->dvc>=2.18.1->CFEDemands>=0.4.1->-r requirements.txt (line 5)) (0.3.0)\n",
      "Requirement already satisfied: click-plugins>=1.1.1 in ./.venv/lib/python3.9/site-packages (from celery->dvc>=2.18.1->CFEDemands>=0.4.1->-r requirements.txt (line 5)) (1.1.1)\n",
      "Requirement already satisfied: atpublic>=2.3 in ./.venv/lib/python3.9/site-packages (from flufl.lock<8,>=5->dvc>=2.18.1->CFEDemands>=0.4.1->-r requirements.txt (line 5)) (4.1.0)\n",
      "Requirement already satisfied: typer>=0.4.1 in ./.venv/lib/python3.9/site-packages (from gto<2,>=1.6.0->dvc>=2.18.1->CFEDemands>=0.4.1->-r requirements.txt (line 5)) (0.12.3)\n",
      "Requirement already satisfied: pydantic!=2.0.0,<3,>=1.9.0 in ./.venv/lib/python3.9/site-packages (from gto<2,>=1.6.0->dvc>=2.18.1->CFEDemands>=0.4.1->-r requirements.txt (line 5)) (2.7.0)\n",
      "Requirement already satisfied: semver>=2.13.0 in ./.venv/lib/python3.9/site-packages (from gto<2,>=1.6.0->dvc>=2.18.1->CFEDemands>=0.4.1->-r requirements.txt (line 5)) (3.0.2)\n",
      "Requirement already satisfied: entrypoints in ./.venv/lib/python3.9/site-packages (from gto<2,>=1.6.0->dvc>=2.18.1->CFEDemands>=0.4.1->-r requirements.txt (line 5)) (0.4)\n",
      "Requirement already satisfied: antlr4-python3-runtime==4.9.* in ./.venv/lib/python3.9/site-packages (from hydra-core>=1.1->dvc>=2.18.1->CFEDemands>=0.4.1->-r requirements.txt (line 5)) (4.9.3)\n",
      "Requirement already satisfied: zipp>=3.1.0 in ./.venv/lib/python3.9/site-packages (from importlib-resources>=3.2.0->matplotlib>=3.5.1->CFEDemands>=0.4.1->-r requirements.txt (line 5)) (3.18.1)\n",
      "Requirement already satisfied: appdirs in ./.venv/lib/python3.9/site-packages (from iterative-telemetry>=0.0.7->dvc>=2.18.1->CFEDemands>=0.4.1->-r requirements.txt (line 5)) (1.4.4)\n",
      "Requirement already satisfied: amqp<6.0.0,>=5.1.1 in ./.venv/lib/python3.9/site-packages (from kombu->dvc>=2.18.1->CFEDemands>=0.4.1->-r requirements.txt (line 5)) (5.2.0)\n",
      "Requirement already satisfied: charset-normalizer<4,>=2 in ./.venv/lib/python3.9/site-packages (from requests>=2.22->dvc>=2.18.1->CFEDemands>=0.4.1->-r requirements.txt (line 5)) (3.3.2)\n",
      "Requirement already satisfied: idna<4,>=2.5 in ./.venv/lib/python3.9/site-packages (from requests>=2.22->dvc>=2.18.1->CFEDemands>=0.4.1->-r requirements.txt (line 5)) (3.7)\n",
      "Requirement already satisfied: urllib3<3,>=1.21.1 in ./.venv/lib/python3.9/site-packages (from requests>=2.22->dvc>=2.18.1->CFEDemands>=0.4.1->-r requirements.txt (line 5)) (2.2.1)\n",
      "Requirement already satisfied: certifi>=2017.4.17 in ./.venv/lib/python3.9/site-packages (from requests>=2.22->dvc>=2.18.1->CFEDemands>=0.4.1->-r requirements.txt (line 5)) (2024.2.2)\n",
      "Requirement already satisfied: oauthlib>=3.0.0 in ./.venv/lib/python3.9/site-packages (from requests-oauthlib>=0.7.0->google-auth-oauthlib>=0.4.1->gspread>=5.0.1->-r requirements.txt (line 7)) (3.2.2)\n",
      "Requirement already satisfied: markdown-it-py>=2.2.0 in ./.venv/lib/python3.9/site-packages (from rich>=12->dvc>=2.18.1->CFEDemands>=0.4.1->-r requirements.txt (line 5)) (3.0.0)\n",
      "Requirement already satisfied: pygments<3.0.0,>=2.13.0 in ./.venv/lib/python3.9/site-packages (from rich>=12->dvc>=2.18.1->CFEDemands>=0.4.1->-r requirements.txt (line 5)) (2.17.2)\n",
      "Requirement already satisfied: ruamel.yaml.clib>=0.2.7 in ./.venv/lib/python3.9/site-packages (from ruamel.yaml>=0.17.11->dvc>=2.18.1->CFEDemands>=0.4.1->-r requirements.txt (line 5)) (0.2.8)\n",
      "Requirement already satisfied: gitpython>3 in ./.venv/lib/python3.9/site-packages (from scmrepo<4,>=3->dvc>=2.18.1->CFEDemands>=0.4.1->-r requirements.txt (line 5)) (3.1.43)\n",
      "Requirement already satisfied: pygit2>=1.14.0 in ./.venv/lib/python3.9/site-packages (from scmrepo<4,>=3->dvc>=2.18.1->CFEDemands>=0.4.1->-r requirements.txt (line 5)) (1.14.1)\n",
      "Requirement already satisfied: asyncssh<3,>=2.13.1 in ./.venv/lib/python3.9/site-packages (from scmrepo<4,>=3->dvc>=2.18.1->CFEDemands>=0.4.1->-r requirements.txt (line 5)) (2.14.2)\n",
      "Requirement already satisfied: setuptools in ./.venv/lib/python3.9/site-packages (from zc.lockfile>=1.2.1->dvc>=2.18.1->CFEDemands>=0.4.1->-r requirements.txt (line 5)) (58.0.4)\n",
      "Requirement already satisfied: jsonschema-specifications>=2023.03.6 in ./.venv/lib/python3.9/site-packages (from jsonschema->ray>=2.0.0->CFEDemands>=0.4.1->-r requirements.txt (line 5)) (2023.12.1)\n",
      "Requirement already satisfied: referencing>=0.28.4 in ./.venv/lib/python3.9/site-packages (from jsonschema->ray>=2.0.0->CFEDemands>=0.4.1->-r requirements.txt (line 5)) (0.34.0)\n",
      "Requirement already satisfied: rpds-py>=0.7.1 in ./.venv/lib/python3.9/site-packages (from jsonschema->ray>=2.0.0->CFEDemands>=0.4.1->-r requirements.txt (line 5)) (0.18.0)\n",
      "Requirement already satisfied: aiohttp in ./.venv/lib/python3.9/site-packages (from aiohttp-retry>=2.5.0->dvc-http>=2.29.0->dvc>=2.18.1->CFEDemands>=0.4.1->-r requirements.txt (line 5)) (3.9.5)\n",
      "Requirement already satisfied: cryptography>=39.0 in ./.venv/lib/python3.9/site-packages (from asyncssh<3,>=2.13.1->scmrepo<4,>=3->dvc>=2.18.1->CFEDemands>=0.4.1->-r requirements.txt (line 5)) (42.0.5)\n",
      "Requirement already satisfied: prompt-toolkit>=3.0.36 in ./.venv/lib/python3.9/site-packages (from click-repl>=0.2.0->celery->dvc>=2.18.1->CFEDemands>=0.4.1->-r requirements.txt (line 5)) (3.0.43)\n",
      "Requirement already satisfied: gitdb<5,>=4.0.1 in ./.venv/lib/python3.9/site-packages (from gitpython>3->scmrepo<4,>=3->dvc>=2.18.1->CFEDemands>=0.4.1->-r requirements.txt (line 5)) (4.0.11)\n",
      "Requirement already satisfied: mdurl~=0.1 in ./.venv/lib/python3.9/site-packages (from markdown-it-py>=2.2.0->rich>=12->dvc>=2.18.1->CFEDemands>=0.4.1->-r requirements.txt (line 5)) (0.1.2)\n",
      "Requirement already satisfied: annotated-types>=0.4.0 in ./.venv/lib/python3.9/site-packages (from pydantic!=2.0.0,<3,>=1.9.0->gto<2,>=1.6.0->dvc>=2.18.1->CFEDemands>=0.4.1->-r requirements.txt (line 5)) (0.6.0)\n",
      "Requirement already satisfied: pydantic-core==2.18.1 in ./.venv/lib/python3.9/site-packages (from pydantic!=2.0.0,<3,>=1.9.0->gto<2,>=1.6.0->dvc>=2.18.1->CFEDemands>=0.4.1->-r requirements.txt (line 5)) (2.18.1)\n",
      "Requirement already satisfied: cffi>=1.16.0 in ./.venv/lib/python3.9/site-packages (from pygit2>=1.14.0->scmrepo<4,>=3->dvc>=2.18.1->CFEDemands>=0.4.1->-r requirements.txt (line 5)) (1.16.0)\n",
      "Requirement already satisfied: orjson in ./.venv/lib/python3.9/site-packages (from sqltrie<1,>=0.11.0->dvc-data<3.16,>=3.15->dvc>=2.18.1->CFEDemands>=0.4.1->-r requirements.txt (line 5)) (3.10.1)\n",
      "Requirement already satisfied: shellingham>=1.3.0 in ./.venv/lib/python3.9/site-packages (from typer>=0.4.1->gto<2,>=1.6.0->dvc>=2.18.1->CFEDemands>=0.4.1->-r requirements.txt (line 5)) (1.5.4)\n",
      "Requirement already satisfied: multidict<7.0,>=4.5 in ./.venv/lib/python3.9/site-packages (from aiohttp->aiohttp-retry>=2.5.0->dvc-http>=2.29.0->dvc>=2.18.1->CFEDemands>=0.4.1->-r requirements.txt (line 5)) (6.0.5)\n",
      "Requirement already satisfied: yarl<2.0,>=1.0 in ./.venv/lib/python3.9/site-packages (from aiohttp->aiohttp-retry>=2.5.0->dvc-http>=2.29.0->dvc>=2.18.1->CFEDemands>=0.4.1->-r requirements.txt (line 5)) (1.9.4)\n",
      "Requirement already satisfied: async-timeout<5.0,>=4.0 in ./.venv/lib/python3.9/site-packages (from aiohttp->aiohttp-retry>=2.5.0->dvc-http>=2.29.0->dvc>=2.18.1->CFEDemands>=0.4.1->-r requirements.txt (line 5)) (4.0.3)\n",
      "Requirement already satisfied: pycparser in ./.venv/lib/python3.9/site-packages (from cffi>=1.16.0->pygit2>=1.14.0->scmrepo<4,>=3->dvc>=2.18.1->CFEDemands>=0.4.1->-r requirements.txt (line 5)) (2.22)\n",
      "Requirement already satisfied: smmap<6,>=3.0.1 in ./.venv/lib/python3.9/site-packages (from gitdb<5,>=4.0.1->gitpython>3->scmrepo<4,>=3->dvc>=2.18.1->CFEDemands>=0.4.1->-r requirements.txt (line 5)) (5.0.1)\n",
      "Requirement already satisfied: wcwidth in ./.venv/lib/python3.9/site-packages (from prompt-toolkit>=3.0.36->click-repl>=0.2.0->celery->dvc>=2.18.1->CFEDemands>=0.4.1->-r requirements.txt (line 5)) (0.2.13)\n"
     ]
    }
   ],
   "source": [
    "# Loading in necessary packages\n",
    "\n",
    "!pip install -r requirements.txt\n",
    "import pandas as pd\n",
    "import numpy as np\n",
    "from eep153_tools.sheets import read_sheets"
   ]
  },
  {
   "cell_type": "code",
   "execution_count": 45,
   "id": "442148ba-6da5-4309-9975-1162a9d517be",
   "metadata": {},
   "outputs": [],
   "source": [
    "#Loading in necessary dataframes\n",
    "\n",
    "InputFiles = {'Expenditures':('1yVLriVpo7KGUXvR3hq_n53XpXlD5NmLaH1oOMZyV0gQ','Expenditures (2019-20)'),\n",
    "              'Prices':('1yVLriVpo7KGUXvR3hq_n53XpXlD5NmLaH1oOMZyV0gQ','Prices'),\n",
    "              'HH Characteristics':('1yVLriVpo7KGUXvR3hq_n53XpXlD5NmLaH1oOMZyV0gQ','HH Characteristics'),\n",
    "              'FCT':('1yVLriVpo7KGUXvR3hq_n53XpXlD5NmLaH1oOMZyV0gQ','FCT'),\n",
    "              'RDI':('1yVLriVpo7KGUXvR3hq_n53XpXlD5NmLaH1oOMZyV0gQ','RDI'),}\n",
    "\n",
    "from eep153_tools.sheets import read_sheets\n",
    "import numpy as np\n",
    "import pandas as pd\n",
    "\n",
    "def get_clean_sheet(key,sheet=None):\n",
    "\n",
    "    df = read_sheets(key,sheet=sheet)\n",
    "    df.columns = [c.strip() for c in df.columns.tolist()]\n",
    "\n",
    "    df = df.loc[:,~df.columns.duplicated(keep='first')]   \n",
    "\n",
    "    df = df.drop([col for col in df.columns if col.startswith('Unnamed')], axis=1)\n",
    "\n",
    "    df = df.loc[~df.index.duplicated(), :]\n",
    "\n",
    "    return df\n",
    "\n",
    "# Get expenditures...\n",
    "x = get_clean_sheet(InputFiles['Expenditures'][0],\n",
    "                    sheet=InputFiles['Expenditures'][1])\n",
    "\n",
    "if 'm' not in x.columns:\n",
    "    x['m'] = 1\n",
    "\n",
    "x = x.set_index(['i','t','m'])\n",
    "x.columns.name = 'j'\n",
    "\n",
    "x = x.apply(lambda x: pd.to_numeric(x,errors='coerce'))\n",
    "x = x.replace(0,np.nan)\n",
    "\n",
    "# Get HH characteristics...\n",
    "z = get_clean_sheet(InputFiles['HH Characteristics'][0],\n",
    "                    sheet=InputFiles['HH Characteristics'][1])\n",
    "\n",
    "if 'm' not in z.columns:\n",
    "    z['m'] = 1\n",
    "\n",
    "z = z.set_index(['i','t','m'])\n",
    "z.columns.name = 'k'\n",
    "\n",
    "z = z.apply(lambda x: pd.to_numeric(x,errors='coerce'))\n",
    "\n",
    "# Get prices\n",
    "p = get_clean_sheet(InputFiles['Prices'][0],\n",
    "                    sheet=InputFiles['Prices'][1])\n",
    "\n",
    "if 'm' not in p.columns:  # Supply \"market\" indicator if missing\n",
    "    p['m'] = 1\n",
    "\n",
    "p = p.set_index(['t','m'])\n",
    "p.columns.name = 'j'\n",
    "\n",
    "p = p.apply(lambda x: pd.to_numeric(x,errors='coerce'))\n",
    "p = p.replace(0,np.nan)\n",
    "\n",
    "fct = get_clean_sheet(InputFiles['FCT'][0],\n",
    "                    sheet=InputFiles['FCT'][1])\n",
    "\n",
    "#### This bit peculiar to Niger FCT #####\n",
    "#fct = fct.loc[fct.Code.str.len()==6]\n",
    "#fct = fct.set_index('Code')\n",
    "#fct.columns = [v.replace('\\n',' ') for v in fct.columns]\n",
    "########################################\n",
    "fct = fct.set_index('j')\n",
    "fct.columns.name = 'n'\n",
    "\n",
    "fct = fct.apply(lambda x: pd.to_numeric(x,errors='coerce'))\n",
    "\n",
    "################## RDI, if available (consider using US) #####################\n",
    "rdi = get_clean_sheet(InputFiles['RDI'][0],\n",
    "                    sheet=InputFiles['RDI'][1])\n",
    "rdi = rdi.set_index('n')\n",
    "rdi.columns.name = 'k'\n",
    "\n",
    "# Take logs of expenditures; call this y\n",
    "y = np.log(x)"
   ]
  },
  {
   "cell_type": "code",
   "execution_count": 46,
   "id": "1ec2db5c-34bf-4dc5-83d8-caffb4b4f066",
   "metadata": {},
   "outputs": [],
   "source": [
    "import cfe\n",
    "result = cfe.Regression(y=np.log(x.stack()),d=z)\n",
    "result.to_pickle('./foo.pickle')\n",
    "\n",
    "import cfe\n",
    "\n",
    "result = cfe.read_pickle('foo.pickle')  # Get persistent result saved above...\n",
    "\n",
    "xhat = result.predicted_expenditures()\n",
    "\n",
    "# Expenditures divided by prices/kg gives quantities in kgs...\n",
    "qhat = (xhat.unstack('j')/p).dropna(how='all')\n",
    "\n",
    "# Drop missing columns\n",
    "qhat = qhat.loc[:,qhat.count()>0]\n",
    "\n",
    "use = fct.index.intersection(qhat.columns)\n",
    "\n",
    "nutrients = qhat[use]@fct.loc[use,:]\n",
    "\n",
    "z = z[rdi.columns.tolist()]\n",
    "filtered_z = z[(z['F 00-03']!=0) | (z['M 00-03']!=0) | (z['F 04-08']!=0) | (z['M 04-08']!=0)]\n",
    "filtered_z = filtered_z.xs('2019-20',level='t',drop_level=False)\n",
    "\n",
    "filtered_hh_rdi = filtered_z@rdi.T\n",
    "\n",
    "# Uganda data is per week, so make this a recommended WEEKLY intake:\n",
    "filtered_hh_rwi = filtered_hh_rdi*7\n",
    "\n",
    "use_nutrients = nutrients.columns.intersection(filtered_hh_rwi.columns)\n",
    "\n",
    "nutrient_ratio = (nutrients[use_nutrients]/filtered_hh_rwi[use_nutrients]).dropna()"
   ]
  },
  {
   "cell_type": "markdown",
   "id": "79dc0253-595a-4ccb-8363-ca1e21fd4953",
   "metadata": {},
   "source": [
    "## Introduction:\n",
    "\n",
    "We are exploring the percentage of Uganda households with children that suffer from iron deficiency, and exploring possible solutions to combat it. We chose iron as a nutrient because a significant amount of households fail to hit the recommended daily amount as shown by the histogram below."
   ]
  },
  {
   "cell_type": "code",
   "execution_count": 47,
   "id": "99fb3146-e8be-49c7-932c-9b91049918ce",
   "metadata": {},
   "outputs": [
    {
     "data": {
      "text/plain": [
       "<matplotlib.lines.Line2D at 0x167fc48e0>"
      ]
     },
     "execution_count": 47,
     "metadata": {},
     "output_type": "execute_result"
    },
    {
     "data": {
      "image/png": "[encoded data removed]",
      "text/plain": [
       "<Figure size 640x480 with 1 Axes>"
      ]
     },
     "metadata": {},
     "output_type": "display_data"
    }
   ],
   "source": [
    "%matplotlib inline\n",
    "import matplotlib.pyplot as plt\n",
    "nutrient_ratio['Iron'].hist(bins=100)\n",
    "plt.axvline(x = 1, color = 'r', label = 'axvline - full height')"
   ]
  },
  {
   "cell_type": "code",
   "execution_count": 48,
   "id": "e0b22187-2c4d-44d8-b532-135827231297",
   "metadata": {},
   "outputs": [
    {
     "data": {
      "text/plain": [
       "0.5562841530054645"
      ]
     },
     "execution_count": 48,
     "metadata": {},
     "output_type": "execute_result"
    }
   ],
   "source": [
    "# Below is the percentage of households with at least one child 0-8 in Uganda that are below recommended iron levels\n",
    "percent_households_under_rdi = len(nutrient_ratio[nutrient_ratio['Iron']<1])/len(nutrient_ratio['Iron'])\n",
    "percent_households_under_rdi"
   ]
  },
  {
   "cell_type": "markdown",
   "id": "933baf9f-7519-4151-a0a0-ad7bae16b58b",
   "metadata": {},
   "source": [
    "## Iron content of beans and millet\n",
    "\n",
    "Beans (fresh and dry) and millet have significant amounts of iron in them, as shown by the FCT results below"
   ]
  },
  {
   "cell_type": "code",
   "execution_count": 49,
   "id": "ff60015a-19b9-41cf-b16c-2e564ca6da25",
   "metadata": {},
   "outputs": [
    {
     "data": {
      "text/plain": [
       "j\n",
       "Beans (dry)      30.0\n",
       "Beans (fresh)    51.0\n",
       "Millet           30.0\n",
       "Name: Iron, dtype: float64"
      ]
     },
     "execution_count": 49,
     "metadata": {},
     "output_type": "execute_result"
    }
   ],
   "source": [
    "fct.loc[['Beans (dry)', 'Beans (fresh)', 'Millet']]['Iron']"
   ]
  },
  {
   "cell_type": "markdown",
   "id": "426034ab-b7f0-4b32-8675-781929bbae7f",
   "metadata": {},
   "source": [
    "However, these two products have very different elasticities:"
   ]
  },
  {
   "cell_type": "code",
   "execution_count": 50,
   "id": "2a2bbdd8-b994-4a53-bab5-2e41be2ebe55",
   "metadata": {},
   "outputs": [
    {
     "data": {
      "text/plain": [
       "Text(0.5, 0, 'Quantities of Beans Demanded')"
      ]
     },
     "execution_count": 50,
     "metadata": {},
     "output_type": "execute_result"
    },
    {
     "data": {
      "image/png": "[encoded data removed]",
      "text/plain": [
       "<Figure size 640x480 with 1 Axes>"
      ]
     },
     "metadata": {},
     "output_type": "display_data"
    }
   ],
   "source": [
    "import numpy as np\n",
    "\n",
    "xhat = result.predicted_expenditures()\n",
    "\n",
    "# Total food expenditures per household\n",
    "xbar = xhat.groupby(['i','t','m']).sum()\n",
    "\n",
    "# Reference budget\n",
    "xref = xbar.quantile(0.5)  # Household at 0.5 quantile is median\n",
    "\n",
    "\n",
    "# Reference prices chosen from a particular time; average across place.\n",
    "# These are prices per kilogram:\n",
    "pbar = p.mean()\n",
    "pbar = pbar[result.beta.index] # Only use prices for goods we can estimate\n",
    "\n",
    "#Finally, define a function to change a single price in the vector $p$:\n",
    "def my_prices(p0,p=pbar,j='Millet'):\n",
    "    \"\"\"\n",
    "    Change price of jth good to p0, holding other prices fixed.\n",
    "    \"\"\"\n",
    "    p = p.copy()\n",
    "    p.loc[j] = p0\n",
    "    return p\n",
    "pbar\n",
    "\n",
    "\n",
    "import matplotlib.pyplot as plt\n",
    "%matplotlib inline\n",
    "\n",
    "use = 'Beans'  # Good we want demand curve for\n",
    "\n",
    "# Vary prices from 50% to 200% of reference.\n",
    "scale = np.linspace(.5,2,20)\n",
    "\n",
    "# Demand for Beans for household at median budget\n",
    "plt.plot([result.demands(xref,my_prices(pbar[use]*s,pbar))[use] for s in scale],scale)\n",
    "\n",
    "# Demand for Beans for household at 25% percentile\n",
    "plt.plot([result.demands(xbar.quantile(0.25),my_prices(pbar[use]*s,pbar))[use] for s in scale],scale)\n",
    "\n",
    "# Demand for Beans for household at 75% percentile\n",
    "plt.plot([result.demands(xbar.quantile(0.75),my_prices(pbar[use]*s,pbar))[use] for s in scale],scale)\n",
    "\n",
    "plt.ylabel(f\"Price (relative to base of {pbar[use]:.2f})\")\n",
    "plt.xlabel(f\"Quantities of {use} Demanded\")"
   ]
  },
  {
   "cell_type": "markdown",
   "id": "c1c944ca-cfc2-4582-b8d6-8de2b214928d",
   "metadata": {},
   "source": [
    "In this project, we will exlore how different policies regarding beans and millet may have different effects on household iron intakes."
   ]
  },
  {
   "cell_type": "markdown",
   "id": "aca21a07-573e-4bc4-b4f4-de8d0ae40fb5",
   "metadata": {},
   "source": [
    "## Beans\n",
    "\n",
    "Beans have a high iron content, and specifically we want to see how much iron intake would change if the iron content of beans were increased, which is what the \"iron beans\" do. Let's create the same stats as above but with a 30% increase in the iron content of fresh and dry beans."
   ]
  },
  {
   "cell_type": "code",
   "execution_count": 51,
   "id": "2e1e00bf-dc88-457d-bfa6-384e69092201",
   "metadata": {},
   "outputs": [
    {
     "name": "stdout",
     "output_type": "stream",
     "text": [
      "Before update: Beans (dry) iron content = 30.0\n",
      "After update: Beans (dry) iron content = 39.0\n",
      "Before update: Beans (fresh) iron content = 51.0\n",
      "After update: Beans (fresh) iron content = 66.3\n",
      "Before update: Millet iron content = 30.0\n",
      "After update: Millet iron content = 39.0\n"
     ]
    }
   ],
   "source": [
    "def increase_iron_content(fct, food_items, nutrient='Iron', increase_percent=30):\n",
    "    new_fct = fct.to_dict()\n",
    "    for food_item in food_items:\n",
    "        if food_item in fct.index:\n",
    "            print(f\"Before update: {food_item} iron content = {fct.loc[food_item, nutrient]}\")\n",
    "            new_fct[nutrient][food_item] = fct.loc[food_item][nutrient] * (1 + (increase_percent / 100))\n",
    "            print(f\"After update: {food_item} iron content = {new_fct[nutrient][food_item]}\")\n",
    "        else:\n",
    "            print(f\"{food_item} not found in FCT.\")\n",
    "    return pd.DataFrame(new_fct)\n",
    "\n",
    "# Test the function with debug statements\n",
    "updated_fct = increase_iron_content(fct, ['Beans (dry)', 'Beans (fresh)', 'Millet'], nutrient='Iron', increase_percent=30)"
   ]
  },
  {
   "cell_type": "code",
   "execution_count": 52,
   "id": "98576bea",
   "metadata": {},
   "outputs": [
    {
     "name": "stdout",
     "output_type": "stream",
     "text": [
      "30.0\n",
      "30.0\n",
      "51.0\n",
      "--------------\n",
      "39.0\n",
      "39.0\n",
      "66.3\n"
     ]
    }
   ],
   "source": [
    "print(fct['Iron']['Millet'])\n",
    "print(fct['Iron']['Beans (dry)'])\n",
    "print(fct['Iron']['Beans (fresh)'])\n",
    "print('--------------')\n",
    "print(updated_fct['Iron']['Millet'])\n",
    "print(updated_fct['Iron']['Beans (dry)'])\n",
    "print(updated_fct['Iron']['Beans (fresh)'])"
   ]
  },
  {
   "cell_type": "code",
   "execution_count": 53,
   "id": "12d923e3-6f4d-464c-ae54-ac2dc4e70fff",
   "metadata": {},
   "outputs": [
    {
     "data": {
      "text/html": [
       "<div>\n",
       "<style scoped>\n",
       "    .dataframe tbody tr th:only-of-type {\n",
       "        vertical-align: middle;\n",
       "    }\n",
       "\n",
       "    .dataframe tbody tr th {\n",
       "        vertical-align: top;\n",
       "    }\n",
       "\n",
       "    .dataframe thead th {\n",
       "        text-align: right;\n",
       "    }\n",
       "</style>\n",
       "<table border=\"1\" class=\"dataframe\">\n",
       "  <thead>\n",
       "    <tr style=\"text-align: right;\">\n",
       "      <th></th>\n",
       "      <th>Energy</th>\n",
       "      <th>Protein</th>\n",
       "      <th>Fiber</th>\n",
       "      <th>Folate</th>\n",
       "      <th>Calcium</th>\n",
       "      <th>Carbohydrate</th>\n",
       "      <th>Iron</th>\n",
       "      <th>Niacin</th>\n",
       "      <th>Riboflavin</th>\n",
       "      <th>Thiamin</th>\n",
       "      <th>Vitamin A</th>\n",
       "      <th>Vitamin B-12</th>\n",
       "      <th>Vitamin B-6</th>\n",
       "      <th>Vitamin C</th>\n",
       "      <th>Zinc</th>\n",
       "    </tr>\n",
       "  </thead>\n",
       "  <tbody>\n",
       "    <tr>\n",
       "      <th>Avocado</th>\n",
       "      <td>1600</td>\n",
       "      <td>20.0</td>\n",
       "      <td>70.0</td>\n",
       "      <td>810</td>\n",
       "      <td>120</td>\n",
       "      <td>85.0</td>\n",
       "      <td>6.0</td>\n",
       "      <td>17.38</td>\n",
       "      <td>1.30</td>\n",
       "      <td>0.67</td>\n",
       "      <td>70</td>\n",
       "      <td>0.0</td>\n",
       "      <td>2.57</td>\n",
       "      <td>100</td>\n",
       "      <td>6.0</td>\n",
       "    </tr>\n",
       "    <tr>\n",
       "      <th>Beans (dry)</th>\n",
       "      <td>1700</td>\n",
       "      <td>98.0</td>\n",
       "      <td>60.0</td>\n",
       "      <td>500</td>\n",
       "      <td>580</td>\n",
       "      <td>325.0</td>\n",
       "      <td>39.0</td>\n",
       "      <td>7.00</td>\n",
       "      <td>1.20</td>\n",
       "      <td>3.40</td>\n",
       "      <td>0</td>\n",
       "      <td>0.0</td>\n",
       "      <td>2.15</td>\n",
       "      <td>10</td>\n",
       "      <td>8.0</td>\n",
       "    </tr>\n",
       "    <tr>\n",
       "      <th>Beans (fresh)</th>\n",
       "      <td>3470</td>\n",
       "      <td>214.0</td>\n",
       "      <td>160.0</td>\n",
       "      <td>5250</td>\n",
       "      <td>1130</td>\n",
       "      <td>626.0</td>\n",
       "      <td>66.3</td>\n",
       "      <td>11.74</td>\n",
       "      <td>2.12</td>\n",
       "      <td>7.13</td>\n",
       "      <td>0</td>\n",
       "      <td>0.0</td>\n",
       "      <td>4.74</td>\n",
       "      <td>63</td>\n",
       "      <td>23.0</td>\n",
       "    </tr>\n",
       "    <tr>\n",
       "      <th>Beef</th>\n",
       "      <td>2510</td>\n",
       "      <td>182.0</td>\n",
       "      <td>0.0</td>\n",
       "      <td>60</td>\n",
       "      <td>70</td>\n",
       "      <td>0.0</td>\n",
       "      <td>19.0</td>\n",
       "      <td>31.50</td>\n",
       "      <td>1.60</td>\n",
       "      <td>0.90</td>\n",
       "      <td>0</td>\n",
       "      <td>28.9</td>\n",
       "      <td>3.80</td>\n",
       "      <td>0</td>\n",
       "      <td>37.0</td>\n",
       "    </tr>\n",
       "    <tr>\n",
       "      <th>Beef (roasted)</th>\n",
       "      <td>2910</td>\n",
       "      <td>264.0</td>\n",
       "      <td>0.0</td>\n",
       "      <td>70</td>\n",
       "      <td>90</td>\n",
       "      <td>0.0</td>\n",
       "      <td>27.0</td>\n",
       "      <td>37.20</td>\n",
       "      <td>2.20</td>\n",
       "      <td>0.90</td>\n",
       "      <td>0</td>\n",
       "      <td>24.7</td>\n",
       "      <td>3.40</td>\n",
       "      <td>0</td>\n",
       "      <td>60.0</td>\n",
       "    </tr>\n",
       "    <tr>\n",
       "      <th>...</th>\n",
       "      <td>...</td>\n",
       "      <td>...</td>\n",
       "      <td>...</td>\n",
       "      <td>...</td>\n",
       "      <td>...</td>\n",
       "      <td>...</td>\n",
       "      <td>...</td>\n",
       "      <td>...</td>\n",
       "      <td>...</td>\n",
       "      <td>...</td>\n",
       "      <td>...</td>\n",
       "      <td>...</td>\n",
       "      <td>...</td>\n",
       "      <td>...</td>\n",
       "      <td>...</td>\n",
       "    </tr>\n",
       "    <tr>\n",
       "      <th>Tomatoes</th>\n",
       "      <td>180</td>\n",
       "      <td>9.0</td>\n",
       "      <td>10.0</td>\n",
       "      <td>150</td>\n",
       "      <td>100</td>\n",
       "      <td>39.0</td>\n",
       "      <td>3.0</td>\n",
       "      <td>5.94</td>\n",
       "      <td>0.19</td>\n",
       "      <td>0.37</td>\n",
       "      <td>420</td>\n",
       "      <td>0.0</td>\n",
       "      <td>0.80</td>\n",
       "      <td>127</td>\n",
       "      <td>2.0</td>\n",
       "    </tr>\n",
       "    <tr>\n",
       "      <th>Waragi</th>\n",
       "      <td>2630</td>\n",
       "      <td>0.0</td>\n",
       "      <td>0.0</td>\n",
       "      <td>0</td>\n",
       "      <td>0</td>\n",
       "      <td>0.0</td>\n",
       "      <td>0.0</td>\n",
       "      <td>0.00</td>\n",
       "      <td>0.00</td>\n",
       "      <td>0.00</td>\n",
       "      <td>0</td>\n",
       "      <td>0.0</td>\n",
       "      <td>0.00</td>\n",
       "      <td>0</td>\n",
       "      <td>0.0</td>\n",
       "    </tr>\n",
       "    <tr>\n",
       "      <th>Watermelon</th>\n",
       "      <td>300</td>\n",
       "      <td>6.1</td>\n",
       "      <td>4.0</td>\n",
       "      <td>30</td>\n",
       "      <td>70</td>\n",
       "      <td>75.5</td>\n",
       "      <td>2.4</td>\n",
       "      <td>1.78</td>\n",
       "      <td>0.21</td>\n",
       "      <td>0.33</td>\n",
       "      <td>280</td>\n",
       "      <td>0.0</td>\n",
       "      <td>0.45</td>\n",
       "      <td>81</td>\n",
       "      <td>1.0</td>\n",
       "    </tr>\n",
       "    <tr>\n",
       "      <th>Wheat (flour)</th>\n",
       "      <td>3640</td>\n",
       "      <td>103.0</td>\n",
       "      <td>30.0</td>\n",
       "      <td>260</td>\n",
       "      <td>150</td>\n",
       "      <td>763.0</td>\n",
       "      <td>12.0</td>\n",
       "      <td>12.50</td>\n",
       "      <td>0.40</td>\n",
       "      <td>1.20</td>\n",
       "      <td>0</td>\n",
       "      <td>0.0</td>\n",
       "      <td>0.44</td>\n",
       "      <td>0</td>\n",
       "      <td>7.0</td>\n",
       "    </tr>\n",
       "    <tr>\n",
       "      <th>Yams (arrowroot)</th>\n",
       "      <td>1180</td>\n",
       "      <td>15.0</td>\n",
       "      <td>40.0</td>\n",
       "      <td>230</td>\n",
       "      <td>170</td>\n",
       "      <td>279.0</td>\n",
       "      <td>5.0</td>\n",
       "      <td>5.52</td>\n",
       "      <td>0.32</td>\n",
       "      <td>1.12</td>\n",
       "      <td>70</td>\n",
       "      <td>0.0</td>\n",
       "      <td>2.93</td>\n",
       "      <td>171</td>\n",
       "      <td>2.0</td>\n",
       "    </tr>\n",
       "  </tbody>\n",
       "</table>\n",
       "<p>103 rows × 15 columns</p>\n",
       "</div>"
      ],
      "text/plain": [
       "                  Energy  Protein  Fiber  Folate  Calcium  Carbohydrate  Iron  \\\n",
       "Avocado             1600     20.0   70.0     810      120          85.0   6.0   \n",
       "Beans (dry)         1700     98.0   60.0     500      580         325.0  39.0   \n",
       "Beans (fresh)       3470    214.0  160.0    5250     1130         626.0  66.3   \n",
       "Beef                2510    182.0    0.0      60       70           0.0  19.0   \n",
       "Beef (roasted)      2910    264.0    0.0      70       90           0.0  27.0   \n",
       "...                  ...      ...    ...     ...      ...           ...   ...   \n",
       "Tomatoes             180      9.0   10.0     150      100          39.0   3.0   \n",
       "Waragi              2630      0.0    0.0       0        0           0.0   0.0   \n",
       "Watermelon           300      6.1    4.0      30       70          75.5   2.4   \n",
       "Wheat (flour)       3640    103.0   30.0     260      150         763.0  12.0   \n",
       "Yams (arrowroot)    1180     15.0   40.0     230      170         279.0   5.0   \n",
       "\n",
       "                  Niacin  Riboflavin  Thiamin  Vitamin A  Vitamin B-12  \\\n",
       "Avocado            17.38        1.30     0.67         70           0.0   \n",
       "Beans (dry)         7.00        1.20     3.40          0           0.0   \n",
       "Beans (fresh)      11.74        2.12     7.13          0           0.0   \n",
       "Beef               31.50        1.60     0.90          0          28.9   \n",
       "Beef (roasted)     37.20        2.20     0.90          0          24.7   \n",
       "...                  ...         ...      ...        ...           ...   \n",
       "Tomatoes            5.94        0.19     0.37        420           0.0   \n",
       "Waragi              0.00        0.00     0.00          0           0.0   \n",
       "Watermelon          1.78        0.21     0.33        280           0.0   \n",
       "Wheat (flour)      12.50        0.40     1.20          0           0.0   \n",
       "Yams (arrowroot)    5.52        0.32     1.12         70           0.0   \n",
       "\n",
       "                  Vitamin B-6  Vitamin C  Zinc  \n",
       "Avocado                  2.57        100   6.0  \n",
       "Beans (dry)              2.15         10   8.0  \n",
       "Beans (fresh)            4.74         63  23.0  \n",
       "Beef                     3.80          0  37.0  \n",
       "Beef (roasted)           3.40          0  60.0  \n",
       "...                       ...        ...   ...  \n",
       "Tomatoes                 0.80        127   2.0  \n",
       "Waragi                   0.00          0   0.0  \n",
       "Watermelon               0.45         81   1.0  \n",
       "Wheat (flour)            0.44          0   7.0  \n",
       "Yams (arrowroot)         2.93        171   2.0  \n",
       "\n",
       "[103 rows x 15 columns]"
      ]
     },
     "execution_count": 53,
     "metadata": {},
     "output_type": "execute_result"
    }
   ],
   "source": [
    "updated_fct"
   ]
  },
  {
   "cell_type": "code",
   "execution_count": 54,
   "id": "aa5d7cee-bfe6-4855-b487-35afc550fee3",
   "metadata": {},
   "outputs": [],
   "source": [
    "import cfe.regression as rgsn\n",
    "\n",
    "r = rgsn.read_pickle('uganda_2019-20.pickle')"
   ]
  },
  {
   "cell_type": "code",
   "execution_count": 55,
   "id": "3e41ad94-9003-42cc-a018-ee0a10b2632a",
   "metadata": {},
   "outputs": [],
   "source": [
    "use = updated_fct.index.intersection(qhat.columns)\n",
    "\n",
    "nutrients_2 = qhat[use]@updated_fct.loc[use,:]\n",
    "\n",
    "z = z[rdi.columns.tolist()]\n",
    "filtered_z = z[(z['F 00-03']!=0) | (z['M 00-03']!=0) | (z['F 04-08']!=0) | (z['M 04-08']!=0)]\n",
    "filtered_z = filtered_z.xs('2019-20',level='t',drop_level=False)\n",
    "\n",
    "filtered_hh_rdi = filtered_z@rdi.T\n",
    "\n",
    "# Uganda data is per week, so make this a recommended WEEKLY intake:\n",
    "filtered_hh_rwi = filtered_hh_rdi*7\n",
    "\n",
    "use_nutrients2 = nutrients_2.columns.intersection(filtered_hh_rwi.columns)\n",
    "\n",
    "nutrient_ratio_2 = (nutrients_2[use_nutrients2]/filtered_hh_rwi[use_nutrients2]).dropna()"
   ]
  },
  {
   "cell_type": "code",
   "execution_count": 56,
   "id": "f7ccdb67-890a-4772-9eb3-ea3341667f39",
   "metadata": {},
   "outputs": [
    {
     "data": {
      "text/plain": [
       "<matplotlib.lines.Line2D at 0x172289040>"
      ]
     },
     "execution_count": 56,
     "metadata": {},
     "output_type": "execute_result"
    },
    {
     "data": {
      "image/png": "[encoded data removed]",
      "text/plain": [
       "<Figure size 640x480 with 1 Axes>"
      ]
     },
     "metadata": {},
     "output_type": "display_data"
    }
   ],
   "source": [
    "nutrient_ratio_2['Iron'].hist(bins=100)\n",
    "plt.axvline(x = 1, color = 'r', label = 'axvline - full height')"
   ]
  },
  {
   "cell_type": "code",
   "execution_count": 57,
   "id": "4f0aea52-f11d-4003-8159-dd34014c39c9",
   "metadata": {},
   "outputs": [
    {
     "data": {
      "text/plain": [
       "0.5295081967213114"
      ]
     },
     "execution_count": 57,
     "metadata": {},
     "output_type": "execute_result"
    }
   ],
   "source": [
    "percent_households_under_rdi_updated = len(nutrient_ratio_2[nutrient_ratio_2['Iron']<1])/len(nutrient_ratio_2['Iron'])\n",
    "percent_households_under_rdi_updated"
   ]
  },
  {
   "cell_type": "code",
   "execution_count": 58,
   "id": "f75f4e34-af8e-4793-998e-ef88760a7833",
   "metadata": {},
   "outputs": [
    {
     "data": {
      "text/plain": [
       "i                                 t        m       \n",
       "00c9353d8ebe42faabf5919b81d7fae7  2019-20  Eastern     0.757565\n",
       "0d0e29faff394154a69562b4527b48b8  2019-20  Eastern     1.038396\n",
       "0e03e253c35d4333a1ffad2df9d38850  2019-20  Eastern     0.758040\n",
       "1013000202                        2019-20  Central     0.790738\n",
       "1021000709                        2019-20  Central     0.913523\n",
       "                                                         ...   \n",
       "ad9b7c4ba614444bb8004eb658693c9f  2019-20  Eastern     1.204087\n",
       "bfd8253bd59c4f3199fb4b83b9cee7a6  2019-20  Eastern     1.652089\n",
       "bfdf0d66403440ceab439b1e1c47cdea  2019-20  Eastern     0.831355\n",
       "d24fa50d02c041969a42102d8ebdadc9  2019-20  Eastern     1.136175\n",
       "e07bc322c4884559b4b8ca75c945dd3e  2019-20  Northern    0.897645\n",
       "Name: Iron, Length: 1830, dtype: float64"
      ]
     },
     "execution_count": 58,
     "metadata": {},
     "output_type": "execute_result"
    }
   ],
   "source": [
    "nutrient_ratio_2['Iron']"
   ]
  },
  {
   "cell_type": "code",
   "execution_count": 59,
   "id": "06c0ee7c-b8db-4d57-97df-2f4303d111fd",
   "metadata": {},
   "outputs": [
    {
     "data": {
      "text/plain": [
       "i                                 t        m       \n",
       "00c9353d8ebe42faabf5919b81d7fae7  2019-20  Eastern     0.736215\n",
       "0d0e29faff394154a69562b4527b48b8  2019-20  Eastern     1.010272\n",
       "0e03e253c35d4333a1ffad2df9d38850  2019-20  Eastern     0.733177\n",
       "1013000202                        2019-20  Central     0.761054\n",
       "1021000709                        2019-20  Central     0.888548\n",
       "                                                         ...   \n",
       "ad9b7c4ba614444bb8004eb658693c9f  2019-20  Eastern     1.176635\n",
       "bfd8253bd59c4f3199fb4b83b9cee7a6  2019-20  Eastern     1.608034\n",
       "bfdf0d66403440ceab439b1e1c47cdea  2019-20  Eastern     0.809916\n",
       "d24fa50d02c041969a42102d8ebdadc9  2019-20  Eastern     1.105949\n",
       "e07bc322c4884559b4b8ca75c945dd3e  2019-20  Northern    0.891731\n",
       "Name: Iron, Length: 1830, dtype: float64"
      ]
     },
     "execution_count": 59,
     "metadata": {},
     "output_type": "execute_result"
    }
   ],
   "source": [
    "nutrient_ratio['Iron']"
   ]
  },
  {
   "cell_type": "code",
   "execution_count": null,
   "id": "f7989153-b580-45cf-b313-1b7e73272217",
   "metadata": {},
   "outputs": [],
   "source": []
  }
 ],
 "metadata": {
  "kernelspec": {
   "display_name": "Python 3 (ipykernel)",
   "language": "python",
   "name": "python3"
  },
  "language_info": {
   "codemirror_mode": {
    "name": "ipython",
    "version": 3
   },
   "file_extension": ".py",
   "mimetype": "text/x-python",
   "name": "python",
   "nbconvert_exporter": "python",
   "pygments_lexer": "ipython3",
   "version": "3.9.15"
  }
 },
 "nbformat": 4,
 "nbformat_minor": 5
}
