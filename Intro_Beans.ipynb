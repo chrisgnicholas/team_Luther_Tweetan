{
 "cells": [
  {
   "cell_type": "markdown",
   "id": "8f649394-6a59-480a-b60d-99f87d9b70f6",
   "metadata": {},
   "source": [
    "# Iron Deficiency in Households with Children in Northern Uganda"
   ]
  },
  {
   "cell_type": "code",
   "execution_count": 22,
   "id": "622e19e1-8194-444a-a961-c93913b7979f",
   "metadata": {
    "scrolled": true
   },
   "outputs": [],
   "source": [
    "# Loading in necessary packages\n",
    "\n",
    "#!pip install -r requirements.txt\n",
    "import pandas as pd\n",
    "import numpy as np\n",
    "from eep153_tools.sheets import read_sheets"
   ]
  },
  {
   "cell_type": "code",
   "execution_count": 47,
   "id": "442148ba-6da5-4309-9975-1162a9d517be",
   "metadata": {},
   "outputs": [],
   "source": [
    "#Loading in necessary dataframes\n",
    "\n",
    "InputFiles = {'Expenditures':('1yVLriVpo7KGUXvR3hq_n53XpXlD5NmLaH1oOMZyV0gQ','Expenditures (2019-20)'),\n",
    "              'Prices':('1yVLriVpo7KGUXvR3hq_n53XpXlD5NmLaH1oOMZyV0gQ','Prices'),\n",
    "              'HH Characteristics':('1yVLriVpo7KGUXvR3hq_n53XpXlD5NmLaH1oOMZyV0gQ','HH Characteristics'),\n",
    "              'FCT':('1yVLriVpo7KGUXvR3hq_n53XpXlD5NmLaH1oOMZyV0gQ','FCT'),\n",
    "              'RDI':('1yVLriVpo7KGUXvR3hq_n53XpXlD5NmLaH1oOMZyV0gQ','RDI'),}\n",
    "\n",
    "from eep153_tools.sheets import read_sheets\n",
    "import numpy as np\n",
    "import pandas as pd\n",
    "\n",
    "def get_clean_sheet(key,sheet=None):\n",
    "\n",
    "    df = read_sheets(key,sheet=sheet)\n",
    "    df.columns = [c.strip() for c in df.columns.tolist()]\n",
    "\n",
    "    df = df.loc[:,~df.columns.duplicated(keep='first')]   \n",
    "\n",
    "    df = df.drop([col for col in df.columns if col.startswith('Unnamed')], axis=1)\n",
    "\n",
    "    df = df.loc[~df.index.duplicated(), :]\n",
    "\n",
    "    return df\n",
    "\n",
    "# Get expenditures...\n",
    "x = get_clean_sheet(InputFiles['Expenditures'][0],\n",
    "                    sheet=InputFiles['Expenditures'][1])\n",
    "\n",
    "if 'm' not in x.columns:\n",
    "    x['m'] = 1\n",
    "\n",
    "x = x.set_index(['i','t','m'])\n",
    "x.columns.name = 'j'\n",
    "\n",
    "x = x.apply(lambda x: pd.to_numeric(x,errors='coerce'))\n",
    "x = x.replace(0,np.nan)\n",
    "\n",
    "# Get HH characteristics...\n",
    "z = get_clean_sheet(InputFiles['HH Characteristics'][0],\n",
    "                    sheet=InputFiles['HH Characteristics'][1])\n",
    "\n",
    "if 'm' not in z.columns:\n",
    "    z['m'] = 1\n",
    "\n",
    "z = z.set_index(['i','t','m'])\n",
    "z.columns.name = 'k'\n",
    "\n",
    "z = z.apply(lambda x: pd.to_numeric(x,errors='coerce'))\n",
    "\n",
    "# Get prices\n",
    "p = get_clean_sheet(InputFiles['Prices'][0],\n",
    "                    sheet=InputFiles['Prices'][1])\n",
    "\n",
    "if 'm' not in p.columns:  # Supply \"market\" indicator if missing\n",
    "    p['m'] = 1\n",
    "\n",
    "p = p.set_index(['t','m'])\n",
    "p.columns.name = 'j'\n",
    "\n",
    "p = p.apply(lambda x: pd.to_numeric(x,errors='coerce'))\n",
    "p = p.replace(0,np.nan)\n",
    "\n",
    "fct = get_clean_sheet(InputFiles['FCT'][0],\n",
    "                    sheet=InputFiles['FCT'][1])\n",
    "\n",
    "#### This bit peculiar to Niger FCT #####\n",
    "#fct = fct.loc[fct.Code.str.len()==6]\n",
    "#fct = fct.set_index('Code')\n",
    "#fct.columns = [v.replace('\\n',' ') for v in fct.columns]\n",
    "########################################\n",
    "fct = fct.set_index('j')\n",
    "fct.columns.name = 'n'\n",
    "\n",
    "fct = fct.apply(lambda x: pd.to_numeric(x,errors='coerce'))\n",
    "\n",
    "################## RDI, if available (consider using US) #####################\n",
    "rdi = get_clean_sheet(InputFiles['RDI'][0],\n",
    "                    sheet=InputFiles['RDI'][1])\n",
    "rdi = rdi.set_index('n')\n",
    "rdi.columns.name = 'k'"
   ]
  },
  {
   "cell_type": "code",
   "execution_count": 48,
   "id": "9fac5ce1-be69-4402-94a5-f41cb1d148b5",
   "metadata": {},
   "outputs": [],
   "source": [
    "# Run regression on full dataset\n",
    "\n",
    "import cfe\n",
    "\n",
    "result = cfe.Regression(y=np.log(x.stack()),d=z)\n",
    "\n",
    "# Check that indices are in right places!\n",
    "assert y.index.names == ['i','t','m','j']\n",
    "assert d.index.names == ['i','t','m','k']\n",
    "\n",
    "from cfe import Regression\n",
    "\n",
    "result = Regression(y=y,d=d)\n",
    "xhat = result.predicted_expenditures()\n",
    "\n",
    "# Expenditures divided by prices/kg gives quantities in kgs...\n",
    "qhat = (xhat.unstack('j')/p).dropna(how='all')\n",
    "\n",
    "# Drop missing columns\n",
    "qhat = qhat.loc[:,qhat.count()>0]\n",
    "\n",
    "use = fct.index.intersection(qhat.columns)\n",
    "\n",
    "nutrients = qhat[use]@fct.loc[use,:]\n",
    "\n",
    "z = z[rdi.columns.tolist()]\n",
    "filtered_z = z[(z['F 00-03']!=0) | (z['M 00-03']!=0) | (z['F 04-08']!=0) | (z['M 04-08']!=0)]\n",
    "filtered_z = filtered_z.xs('2019-20',level='t',drop_level=False)\n",
    "filtered_z = filtered_z.xs('Northern',level='m',drop_level=False)\n",
    "\n",
    "filtered_hh_rdi = filtered_z@rdi.T\n",
    "\n",
    "# Uganda data is per week, so make this a recommended WEEKLY intake:\n",
    "filtered_hh_rwi = filtered_hh_rdi*7\n",
    "\n",
    "use_nutrients = nutrients.columns.intersection(filtered_hh_rwi.columns)\n",
    "\n",
    "nutrient_ratio = (nutrients[use_nutrients]/filtered_hh_rwi[use_nutrients]).dropna()"
   ]
  },
  {
   "cell_type": "markdown",
   "id": "79dc0253-595a-4ccb-8363-ca1e21fd4953",
   "metadata": {},
   "source": [
    "## Introduction:\n",
    "\n",
    "We are exploring the percentage of Northern Uganda households with children that suffer from iron deficiency, and exploring possible solutions to combat it. We chose iron as a nutrient because a significant amount of households in Northern Uganda with at least one child (0-8 years old) fail to hit the recommended daily amount as shown by the histogram below."
   ]
  },
  {
   "cell_type": "code",
   "execution_count": 55,
   "id": "99fb3146-e8be-49c7-932c-9b91049918ce",
   "metadata": {},
   "outputs": [
    {
     "data": {
      "text/plain": [
       "<matplotlib.lines.Line2D at 0x7aa8c4c17c40>"
      ]
     },
     "execution_count": 55,
     "metadata": {},
     "output_type": "execute_result"
    },
    {
     "data": {
      "image/png": "[encoded data removed]",
      "text/plain": [
       "<Figure size 640x480 with 1 Axes>"
      ]
     },
     "metadata": {},
     "output_type": "display_data"
    }
   ],
   "source": [
    "%matplotlib inline\n",
    "import matplotlib.pyplot as plt\n",
    "nutrient_ratio['Iron'].hist(bins=100)\n",
    "plt.axvline(x = 1, color = 'r', label = 'axvline - full height')"
   ]
  },
  {
   "cell_type": "code",
   "execution_count": 56,
   "id": "e0b22187-2c4d-44d8-b532-135827231297",
   "metadata": {},
   "outputs": [
    {
     "data": {
      "text/plain": [
       "0.52465483234714"
      ]
     },
     "execution_count": 56,
     "metadata": {},
     "output_type": "execute_result"
    }
   ],
   "source": [
    "# Below is the percentage of households with at least one child 0-8 in Northern Uganda that are below recommended iron levels\n",
    "percent_households_under_rdi = len(nutrient_ratio[nutrient_ratio['Iron']<1])/len(nutrient_ratio['Iron'])\n",
    "percent_households_under_rdi"
   ]
  },
  {
   "cell_type": "markdown",
   "id": "933baf9f-7519-4151-a0a0-ad7bae16b58b",
   "metadata": {},
   "source": [
    "## Iron content of beans and millet\n",
    "\n",
    "Beans (fresh and dry) and millet have significant amounts of iron in them, as shown by the FCT results below"
   ]
  },
  {
   "cell_type": "code",
   "execution_count": 74,
   "id": "93771ee8-56a7-4485-8cf2-2300b38de41a",
   "metadata": {},
   "outputs": [
    {
     "name": "stdout",
     "output_type": "stream",
     "text": [
      "n\n",
      "Iron    51.0\n",
      "Name: Beans (fresh), dtype: float64\n",
      "n\n",
      "Iron    30.0\n",
      "Name: Beans (dry), dtype: float64\n",
      "n\n",
      "Iron    30.0\n",
      "Name: Millet, dtype: float64\n"
     ]
    }
   ],
   "source": [
    "print(fct[['Iron']].loc['Beans (fresh)'])\n",
    "print(fct[['Iron']].loc['Beans (dry)'])\n",
    "print(fct[['Iron']].loc['Millet'])"
   ]
  },
  {
   "cell_type": "markdown",
   "id": "426034ab-b7f0-4b32-8675-781929bbae7f",
   "metadata": {},
   "source": [
    "However, these two products have very different elasticities:"
   ]
  },
  {
   "cell_type": "code",
   "execution_count": 75,
   "id": "2a2bbdd8-b994-4a53-bab5-2e41be2ebe55",
   "metadata": {},
   "outputs": [
    {
     "data": {
      "text/plain": [
       "Text(0.5, 0, 'Quantities of Beans Demanded')"
      ]
     },
     "execution_count": 75,
     "metadata": {},
     "output_type": "execute_result"
    },
    {
     "data": {
      "image/png": "[encoded data removed]",
      "text/plain": [
       "<Figure size 640x480 with 1 Axes>"
      ]
     },
     "metadata": {},
     "output_type": "display_data"
    }
   ],
   "source": [
    "import numpy as np\n",
    "\n",
    "xhat = result.predicted_expenditures()\n",
    "\n",
    "# Total food expenditures per household\n",
    "xbar = xhat.groupby(['i','t','m']).sum()\n",
    "\n",
    "# Reference budget\n",
    "xref = xbar.quantile(0.5)  # Household at 0.5 quantile is median\n",
    "\n",
    "\n",
    "# Reference prices chosen from a particular time; average across place.\n",
    "# These are prices per kilogram:\n",
    "pbar = p.mean()\n",
    "pbar = pbar[result.beta.index] # Only use prices for goods we can estimate\n",
    "\n",
    "#Finally, define a function to change a single price in the vector $p$:\n",
    "def my_prices(p0,p=pbar,j='Millet'):\n",
    "    \"\"\"\n",
    "    Change price of jth good to p0, holding other prices fixed.\n",
    "    \"\"\"\n",
    "    p = p.copy()\n",
    "    p.loc[j] = p0\n",
    "    return p\n",
    "pbar\n",
    "\n",
    "\n",
    "import matplotlib.pyplot as plt\n",
    "%matplotlib inline\n",
    "\n",
    "use = 'Beans'  # Good we want demand curve for\n",
    "\n",
    "# Vary prices from 50% to 200% of reference.\n",
    "scale = np.linspace(.5,2,20)\n",
    "\n",
    "# Demand for Millet for household at median budget\n",
    "plt.plot([result.demands(xref,my_prices(pbar[use]*s,pbar))[use] for s in scale],scale)\n",
    "\n",
    "# Demand for Millet for household at 25% percentile\n",
    "plt.plot([result.demands(xbar.quantile(0.25),my_prices(pbar[use]*s,pbar))[use] for s in scale],scale)\n",
    "\n",
    "# Demand for Millet for household at 75% percentile\n",
    "plt.plot([result.demands(xbar.quantile(0.75),my_prices(pbar[use]*s,pbar))[use] for s in scale],scale)\n",
    "\n",
    "plt.ylabel(f\"Price (relative to base of {pbar[use]:.2f})\")\n",
    "plt.xlabel(f\"Quantities of {use} Demanded\")"
   ]
  },
  {
   "cell_type": "code",
   "execution_count": 76,
   "id": "5a633f1b-3b3d-4f0a-9dc6-6f088bd725d6",
   "metadata": {},
   "outputs": [
    {
     "data": {
      "text/plain": [
       "Text(0.5, 0, 'Quantities of Millet Demanded')"
      ]
     },
     "execution_count": 76,
     "metadata": {},
     "output_type": "execute_result"
    },
    {
     "data": {
      "image/png": "[encoded data removed]",
      "text/plain": [
       "<Figure size 640x480 with 1 Axes>"
      ]
     },
     "metadata": {},
     "output_type": "display_data"
    }
   ],
   "source": [
    "import matplotlib.pyplot as plt\n",
    "%matplotlib inline\n",
    "\n",
    "use = 'Millet'  # Good we want demand curve for\n",
    "\n",
    "# Vary prices from 50% to 200% of reference.\n",
    "scale = np.linspace(.5,2,20)\n",
    "\n",
    "# Demand for Millet for household at median budget\n",
    "plt.plot([result.demands(xref,my_prices(pbar[use]*s,pbar))[use] for s in scale],scale)\n",
    "\n",
    "# Demand for Millet for household at 25% percentile\n",
    "plt.plot([result.demands(xbar.quantile(0.25),my_prices(pbar[use]*s,pbar))[use] for s in scale],scale)\n",
    "\n",
    "# Demand for Millet for household at 75% percentile\n",
    "plt.plot([result.demands(xbar.quantile(0.75),my_prices(pbar[use]*s,pbar))[use] for s in scale],scale)\n",
    "\n",
    "plt.ylabel(f\"Price (relative to base of {pbar[use]:.2f})\")\n",
    "plt.xlabel(f\"Quantities of {use} Demanded\")"
   ]
  },
  {
   "cell_type": "markdown",
   "id": "c1c944ca-cfc2-4582-b8d6-8de2b214928d",
   "metadata": {},
   "source": [
    "In this project, we will exlore how different policies regarding beans and millet may have different effects on household iron intakes."
   ]
  },
  {
   "cell_type": "markdown",
   "id": "aca21a07-573e-4bc4-b4f4-de8d0ae40fb5",
   "metadata": {},
   "source": [
    "## Beans\n",
    "\n",
    "Beans have a high iron content, and specifically we want to see how much iron intake would change if the iron content of beans were increased, which is what the \"iron beans\" do. Let's create the same stats as above but with a 30% increase in the iron content of fresh and dry beans."
   ]
  },
  {
   "cell_type": "code",
   "execution_count": 97,
   "id": "9ab5b9f2-6614-43b1-a9c8-8f167d8d1306",
   "metadata": {},
   "outputs": [
    {
     "data": {
      "text/html": [
       "<div>\n",
       "<style scoped>\n",
       "    .dataframe tbody tr th:only-of-type {\n",
       "        vertical-align: middle;\n",
       "    }\n",
       "\n",
       "    .dataframe tbody tr th {\n",
       "        vertical-align: top;\n",
       "    }\n",
       "\n",
       "    .dataframe thead th {\n",
       "        text-align: right;\n",
       "    }\n",
       "</style>\n",
       "<table border=\"1\" class=\"dataframe\">\n",
       "  <thead>\n",
       "    <tr style=\"text-align: right;\">\n",
       "      <th>n</th>\n",
       "      <th>Iron</th>\n",
       "    </tr>\n",
       "    <tr>\n",
       "      <th>j</th>\n",
       "      <th></th>\n",
       "    </tr>\n",
       "  </thead>\n",
       "  <tbody>\n",
       "    <tr>\n",
       "      <th>Avocado</th>\n",
       "      <td>6.0</td>\n",
       "    </tr>\n",
       "    <tr>\n",
       "      <th>Beans (dry)</th>\n",
       "      <td>30.0</td>\n",
       "    </tr>\n",
       "    <tr>\n",
       "      <th>Beans (fresh)</th>\n",
       "      <td>51.0</td>\n",
       "    </tr>\n",
       "    <tr>\n",
       "      <th>Beef</th>\n",
       "      <td>19.0</td>\n",
       "    </tr>\n",
       "    <tr>\n",
       "      <th>Beef (roasted)</th>\n",
       "      <td>27.0</td>\n",
       "    </tr>\n",
       "    <tr>\n",
       "      <th>...</th>\n",
       "      <td>...</td>\n",
       "    </tr>\n",
       "    <tr>\n",
       "      <th>Tomatoes</th>\n",
       "      <td>3.0</td>\n",
       "    </tr>\n",
       "    <tr>\n",
       "      <th>Waragi</th>\n",
       "      <td>0.0</td>\n",
       "    </tr>\n",
       "    <tr>\n",
       "      <th>Watermelon</th>\n",
       "      <td>2.4</td>\n",
       "    </tr>\n",
       "    <tr>\n",
       "      <th>Wheat (flour)</th>\n",
       "      <td>12.0</td>\n",
       "    </tr>\n",
       "    <tr>\n",
       "      <th>Yams (arrowroot)</th>\n",
       "      <td>5.0</td>\n",
       "    </tr>\n",
       "  </tbody>\n",
       "</table>\n",
       "<p>103 rows × 1 columns</p>\n",
       "</div>"
      ],
      "text/plain": [
       "n                 Iron\n",
       "j                     \n",
       "Avocado            6.0\n",
       "Beans (dry)       30.0\n",
       "Beans (fresh)     51.0\n",
       "Beef              19.0\n",
       "Beef (roasted)    27.0\n",
       "...                ...\n",
       "Tomatoes           3.0\n",
       "Waragi             0.0\n",
       "Watermelon         2.4\n",
       "Wheat (flour)     12.0\n",
       "Yams (arrowroot)   5.0\n",
       "\n",
       "[103 rows x 1 columns]"
      ]
     },
     "execution_count": 97,
     "metadata": {},
     "output_type": "execute_result"
    }
   ],
   "source": [
    "fct[['Iron']]\n",
    "#result = sr.replace(to_replace = ['New York', 'Rio'], value = ['London', 'Brisbane'])"
   ]
  },
  {
   "cell_type": "code",
   "execution_count": null,
   "id": "f7ccdb67-890a-4772-9eb3-ea3341667f39",
   "metadata": {},
   "outputs": [],
   "source": []
  }
 ],
 "metadata": {
  "kernelspec": {
   "display_name": "Python 3 (ipykernel)",
   "language": "python",
   "name": "python3"
  },
  "language_info": {
   "codemirror_mode": {
    "name": "ipython",
    "version": 3
   },
   "file_extension": ".py",
   "mimetype": "text/x-python",
   "name": "python",
   "nbconvert_exporter": "python",
   "pygments_lexer": "ipython3",
   "version": "3.9.15"
  }
 },
 "nbformat": 4,
 "nbformat_minor": 5
}
