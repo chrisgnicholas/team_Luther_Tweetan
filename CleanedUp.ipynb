{
 "cells": [
  {
   "cell_type": "markdown",
   "id": "8f649394-6a59-480a-b60d-99f87d9b70f6",
   "metadata": {},
   "source": [
    "# Iron Deficiency in Households with Children in Northern Uganda"
   ]
  },
  {
   "cell_type": "code",
   "execution_count": 74,
   "id": "622e19e1-8194-444a-a961-c93913b7979f",
   "metadata": {
    "scrolled": true
   },
   "outputs": [
    {
     "name": "stdout",
     "output_type": "stream",
     "text": [
      "Requirement already satisfied: CFEDemands>=0.4.1 in ./.venv/lib/python3.9/site-packages (from -r requirements.txt (line 5)) (0.6.1)\n",
      "Requirement already satisfied: gspread>=5.0.1 in ./.venv/lib/python3.9/site-packages (from -r requirements.txt (line 7)) (5.12.4)\n",
      "Requirement already satisfied: gspread_pandas>=3.2.0 in ./.venv/lib/python3.9/site-packages (from -r requirements.txt (line 8)) (3.3.0)\n",
      "Requirement already satisfied: oauth2client>=4.1.3 in ./.venv/lib/python3.9/site-packages (from -r requirements.txt (line 11)) (4.1.3)\n",
      "Requirement already satisfied: scikit-learn in ./.venv/lib/python3.9/site-packages (from -r requirements.txt (line 20)) (1.4.2)\n",
      "Requirement already satisfied: eep153_tools>=0.11 in ./.venv/lib/python3.9/site-packages (from -r requirements.txt (line 21)) (0.12.4)\n",
      "Requirement already satisfied: python-gnupg in ./.venv/lib/python3.9/site-packages (from -r requirements.txt (line 22)) (0.5.2)\n",
      "Requirement already satisfied: ConsumerDemands in ./.venv/lib/python3.9/site-packages (from -r requirements.txt (line 23)) (0.4.2.dev0)\n",
      "Requirement already satisfied: sqlalchemy in ./.venv/lib/python3.9/site-packages (from -r requirements.txt (line 24)) (2.0.29)\n",
      "Requirement already satisfied: dvc>=2.18.1 in ./.venv/lib/python3.9/site-packages (from CFEDemands>=0.4.1->-r requirements.txt (line 5)) (3.50.0)\n",
      "Requirement already satisfied: joblib>=1.1.0 in ./.venv/lib/python3.9/site-packages (from CFEDemands>=0.4.1->-r requirements.txt (line 5)) (1.4.0)\n",
      "Requirement already satisfied: matplotlib>=3.5.1 in ./.venv/lib/python3.9/site-packages (from CFEDemands>=0.4.1->-r requirements.txt (line 5)) (3.8.4)\n",
      "Requirement already satisfied: numpy>=1.21.5 in ./.venv/lib/python3.9/site-packages (from CFEDemands>=0.4.1->-r requirements.txt (line 5)) (1.26.4)\n",
      "Requirement already satisfied: pandas>=1.4.2 in ./.venv/lib/python3.9/site-packages (from CFEDemands>=0.4.1->-r requirements.txt (line 5)) (2.2.2)\n",
      "Requirement already satisfied: pytest>=7.1.1 in ./.venv/lib/python3.9/site-packages (from CFEDemands>=0.4.1->-r requirements.txt (line 5)) (8.1.1)\n",
      "Requirement already satisfied: ray>=2.0.0 in ./.venv/lib/python3.9/site-packages (from CFEDemands>=0.4.1->-r requirements.txt (line 5)) (2.11.0)\n",
      "Requirement already satisfied: scipy>=1.7.3 in ./.venv/lib/python3.9/site-packages (from CFEDemands>=0.4.1->-r requirements.txt (line 5)) (1.13.0)\n",
      "Requirement already satisfied: statsmodels>=0.13.2 in ./.venv/lib/python3.9/site-packages (from CFEDemands>=0.4.1->-r requirements.txt (line 5)) (0.14.2)\n",
      "Requirement already satisfied: xarray>=0.20.1 in ./.venv/lib/python3.9/site-packages (from CFEDemands>=0.4.1->-r requirements.txt (line 5)) (2024.3.0)\n",
      "Requirement already satisfied: google-auth>=1.12.0 in ./.venv/lib/python3.9/site-packages (from gspread>=5.0.1->-r requirements.txt (line 7)) (2.29.0)\n",
      "Requirement already satisfied: google-auth-oauthlib>=0.4.1 in ./.venv/lib/python3.9/site-packages (from gspread>=5.0.1->-r requirements.txt (line 7)) (1.2.0)\n",
      "Requirement already satisfied: decorator in ./.venv/lib/python3.9/site-packages (from gspread_pandas>=3.2.0->-r requirements.txt (line 8)) (5.1.1)\n",
      "Requirement already satisfied: httplib2>=0.9.1 in ./.venv/lib/python3.9/site-packages (from oauth2client>=4.1.3->-r requirements.txt (line 11)) (0.22.0)\n",
      "Requirement already satisfied: pyasn1>=0.1.7 in ./.venv/lib/python3.9/site-packages (from oauth2client>=4.1.3->-r requirements.txt (line 11)) (0.6.0)\n",
      "Requirement already satisfied: pyasn1-modules>=0.0.5 in ./.venv/lib/python3.9/site-packages (from oauth2client>=4.1.3->-r requirements.txt (line 11)) (0.4.0)\n",
      "Requirement already satisfied: rsa>=3.1.4 in ./.venv/lib/python3.9/site-packages (from oauth2client>=4.1.3->-r requirements.txt (line 11)) (4.9)\n",
      "Requirement already satisfied: six>=1.6.1 in ./.venv/lib/python3.9/site-packages (from oauth2client>=4.1.3->-r requirements.txt (line 11)) (1.16.0)\n",
      "Requirement already satisfied: threadpoolctl>=2.0.0 in ./.venv/lib/python3.9/site-packages (from scikit-learn->-r requirements.txt (line 20)) (3.4.0)\n",
      "Requirement already satisfied: typing-extensions>=4.6.0 in ./.venv/lib/python3.9/site-packages (from sqlalchemy->-r requirements.txt (line 24)) (4.11.0)\n",
      "Requirement already satisfied: attrs>=22.2.0 in ./.venv/lib/python3.9/site-packages (from dvc>=2.18.1->CFEDemands>=0.4.1->-r requirements.txt (line 5)) (23.2.0)\n",
      "Requirement already satisfied: celery in ./.venv/lib/python3.9/site-packages (from dvc>=2.18.1->CFEDemands>=0.4.1->-r requirements.txt (line 5)) (5.4.0)\n",
      "Requirement already satisfied: colorama>=0.3.9 in ./.venv/lib/python3.9/site-packages (from dvc>=2.18.1->CFEDemands>=0.4.1->-r requirements.txt (line 5)) (0.4.6)\n",
      "Requirement already satisfied: configobj>=5.0.6 in ./.venv/lib/python3.9/site-packages (from dvc>=2.18.1->CFEDemands>=0.4.1->-r requirements.txt (line 5)) (5.0.8)\n",
      "Requirement already satisfied: distro>=1.3 in ./.venv/lib/python3.9/site-packages (from dvc>=2.18.1->CFEDemands>=0.4.1->-r requirements.txt (line 5)) (1.9.0)\n",
      "Requirement already satisfied: dpath<3,>=2.1.0 in ./.venv/lib/python3.9/site-packages (from dvc>=2.18.1->CFEDemands>=0.4.1->-r requirements.txt (line 5)) (2.1.6)\n",
      "Requirement already satisfied: dulwich in ./.venv/lib/python3.9/site-packages (from dvc>=2.18.1->CFEDemands>=0.4.1->-r requirements.txt (line 5)) (0.21.7)\n",
      "Requirement already satisfied: dvc-data<3.16,>=3.15 in ./.venv/lib/python3.9/site-packages (from dvc>=2.18.1->CFEDemands>=0.4.1->-r requirements.txt (line 5)) (3.15.1)\n",
      "Requirement already satisfied: dvc-http>=2.29.0 in ./.venv/lib/python3.9/site-packages (from dvc>=2.18.1->CFEDemands>=0.4.1->-r requirements.txt (line 5)) (2.32.0)\n",
      "Requirement already satisfied: dvc-objects in ./.venv/lib/python3.9/site-packages (from dvc>=2.18.1->CFEDemands>=0.4.1->-r requirements.txt (line 5)) (5.1.0)\n",
      "Requirement already satisfied: dvc-render<2,>=1.0.1 in ./.venv/lib/python3.9/site-packages (from dvc>=2.18.1->CFEDemands>=0.4.1->-r requirements.txt (line 5)) (1.0.2)\n",
      "Requirement already satisfied: dvc-studio-client<1,>=0.20 in ./.venv/lib/python3.9/site-packages (from dvc>=2.18.1->CFEDemands>=0.4.1->-r requirements.txt (line 5)) (0.20.0)\n",
      "Requirement already satisfied: dvc-task<1,>=0.3.0 in ./.venv/lib/python3.9/site-packages (from dvc>=2.18.1->CFEDemands>=0.4.1->-r requirements.txt (line 5)) (0.4.0)\n",
      "Requirement already satisfied: flatten-dict<1,>=0.4.1 in ./.venv/lib/python3.9/site-packages (from dvc>=2.18.1->CFEDemands>=0.4.1->-r requirements.txt (line 5)) (0.4.2)\n",
      "Requirement already satisfied: flufl.lock<8,>=5 in ./.venv/lib/python3.9/site-packages (from dvc>=2.18.1->CFEDemands>=0.4.1->-r requirements.txt (line 5)) (7.1.1)\n",
      "Requirement already satisfied: fsspec in ./.venv/lib/python3.9/site-packages (from dvc>=2.18.1->CFEDemands>=0.4.1->-r requirements.txt (line 5)) (2024.3.1)\n",
      "Requirement already satisfied: funcy>=1.14 in ./.venv/lib/python3.9/site-packages (from dvc>=2.18.1->CFEDemands>=0.4.1->-r requirements.txt (line 5)) (2.0)\n",
      "Requirement already satisfied: grandalf<1,>=0.7 in ./.venv/lib/python3.9/site-packages (from dvc>=2.18.1->CFEDemands>=0.4.1->-r requirements.txt (line 5)) (0.8)\n",
      "Requirement already satisfied: gto<2,>=1.6.0 in ./.venv/lib/python3.9/site-packages (from dvc>=2.18.1->CFEDemands>=0.4.1->-r requirements.txt (line 5)) (1.7.1)\n",
      "Requirement already satisfied: hydra-core>=1.1 in ./.venv/lib/python3.9/site-packages (from dvc>=2.18.1->CFEDemands>=0.4.1->-r requirements.txt (line 5)) (1.3.2)\n",
      "Requirement already satisfied: iterative-telemetry>=0.0.7 in ./.venv/lib/python3.9/site-packages (from dvc>=2.18.1->CFEDemands>=0.4.1->-r requirements.txt (line 5)) (0.0.8)\n",
      "Requirement already satisfied: kombu in ./.venv/lib/python3.9/site-packages (from dvc>=2.18.1->CFEDemands>=0.4.1->-r requirements.txt (line 5)) (5.3.7)\n",
      "Requirement already satisfied: networkx>=2.5 in ./.venv/lib/python3.9/site-packages (from dvc>=2.18.1->CFEDemands>=0.4.1->-r requirements.txt (line 5)) (3.2.1)\n",
      "Requirement already satisfied: omegaconf in ./.venv/lib/python3.9/site-packages (from dvc>=2.18.1->CFEDemands>=0.4.1->-r requirements.txt (line 5)) (2.3.0)\n",
      "Requirement already satisfied: packaging>=19 in ./.venv/lib/python3.9/site-packages (from dvc>=2.18.1->CFEDemands>=0.4.1->-r requirements.txt (line 5)) (24.0)\n",
      "Requirement already satisfied: pathspec>=0.10.3 in ./.venv/lib/python3.9/site-packages (from dvc>=2.18.1->CFEDemands>=0.4.1->-r requirements.txt (line 5)) (0.12.1)\n",
      "Requirement already satisfied: platformdirs<4,>=3.1.1 in ./.venv/lib/python3.9/site-packages (from dvc>=2.18.1->CFEDemands>=0.4.1->-r requirements.txt (line 5)) (3.11.0)\n",
      "Requirement already satisfied: psutil>=5.8 in ./.venv/lib/python3.9/site-packages (from dvc>=2.18.1->CFEDemands>=0.4.1->-r requirements.txt (line 5)) (5.9.8)\n",
      "Requirement already satisfied: pydot>=1.2.4 in ./.venv/lib/python3.9/site-packages (from dvc>=2.18.1->CFEDemands>=0.4.1->-r requirements.txt (line 5)) (2.0.0)\n",
      "Requirement already satisfied: pygtrie>=2.3.2 in ./.venv/lib/python3.9/site-packages (from dvc>=2.18.1->CFEDemands>=0.4.1->-r requirements.txt (line 5)) (2.5.0)\n",
      "Requirement already satisfied: pyparsing>=2.4.7 in ./.venv/lib/python3.9/site-packages (from dvc>=2.18.1->CFEDemands>=0.4.1->-r requirements.txt (line 5)) (3.1.2)\n",
      "Requirement already satisfied: requests>=2.22 in ./.venv/lib/python3.9/site-packages (from dvc>=2.18.1->CFEDemands>=0.4.1->-r requirements.txt (line 5)) (2.31.0)\n",
      "Requirement already satisfied: rich>=12 in ./.venv/lib/python3.9/site-packages (from dvc>=2.18.1->CFEDemands>=0.4.1->-r requirements.txt (line 5)) (13.7.1)\n",
      "Requirement already satisfied: ruamel.yaml>=0.17.11 in ./.venv/lib/python3.9/site-packages (from dvc>=2.18.1->CFEDemands>=0.4.1->-r requirements.txt (line 5)) (0.18.6)\n",
      "Requirement already satisfied: scmrepo<4,>=3 in ./.venv/lib/python3.9/site-packages (from dvc>=2.18.1->CFEDemands>=0.4.1->-r requirements.txt (line 5)) (3.3.1)\n",
      "Requirement already satisfied: shortuuid>=0.5 in ./.venv/lib/python3.9/site-packages (from dvc>=2.18.1->CFEDemands>=0.4.1->-r requirements.txt (line 5)) (1.0.13)\n",
      "Requirement already satisfied: shtab<2,>=1.3.4 in ./.venv/lib/python3.9/site-packages (from dvc>=2.18.1->CFEDemands>=0.4.1->-r requirements.txt (line 5)) (1.7.1)\n",
      "Requirement already satisfied: tabulate>=0.8.7 in ./.venv/lib/python3.9/site-packages (from dvc>=2.18.1->CFEDemands>=0.4.1->-r requirements.txt (line 5)) (0.8.10)\n",
      "Requirement already satisfied: tomlkit>=0.11.1 in ./.venv/lib/python3.9/site-packages (from dvc>=2.18.1->CFEDemands>=0.4.1->-r requirements.txt (line 5)) (0.12.4)\n",
      "Requirement already satisfied: tqdm<5,>=4.63.1 in ./.venv/lib/python3.9/site-packages (from dvc>=2.18.1->CFEDemands>=0.4.1->-r requirements.txt (line 5)) (4.66.2)\n",
      "Requirement already satisfied: voluptuous>=0.11.7 in ./.venv/lib/python3.9/site-packages (from dvc>=2.18.1->CFEDemands>=0.4.1->-r requirements.txt (line 5)) (0.14.2)\n",
      "Requirement already satisfied: zc.lockfile>=1.2.1 in ./.venv/lib/python3.9/site-packages (from dvc>=2.18.1->CFEDemands>=0.4.1->-r requirements.txt (line 5)) (3.0.post1)\n",
      "Requirement already satisfied: cachetools<6.0,>=2.0.0 in ./.venv/lib/python3.9/site-packages (from google-auth>=1.12.0->gspread>=5.0.1->-r requirements.txt (line 7)) (5.3.3)\n",
      "Requirement already satisfied: requests-oauthlib>=0.7.0 in ./.venv/lib/python3.9/site-packages (from google-auth-oauthlib>=0.4.1->gspread>=5.0.1->-r requirements.txt (line 7)) (2.0.0)\n",
      "Requirement already satisfied: contourpy>=1.0.1 in ./.venv/lib/python3.9/site-packages (from matplotlib>=3.5.1->CFEDemands>=0.4.1->-r requirements.txt (line 5)) (1.2.1)\n",
      "Requirement already satisfied: cycler>=0.10 in ./.venv/lib/python3.9/site-packages (from matplotlib>=3.5.1->CFEDemands>=0.4.1->-r requirements.txt (line 5)) (0.12.1)\n",
      "Requirement already satisfied: fonttools>=4.22.0 in ./.venv/lib/python3.9/site-packages (from matplotlib>=3.5.1->CFEDemands>=0.4.1->-r requirements.txt (line 5)) (4.51.0)\n",
      "Requirement already satisfied: kiwisolver>=1.3.1 in ./.venv/lib/python3.9/site-packages (from matplotlib>=3.5.1->CFEDemands>=0.4.1->-r requirements.txt (line 5)) (1.4.5)\n",
      "Requirement already satisfied: pillow>=8 in ./.venv/lib/python3.9/site-packages (from matplotlib>=3.5.1->CFEDemands>=0.4.1->-r requirements.txt (line 5)) (10.3.0)\n",
      "Requirement already satisfied: python-dateutil>=2.7 in ./.venv/lib/python3.9/site-packages (from matplotlib>=3.5.1->CFEDemands>=0.4.1->-r requirements.txt (line 5)) (2.9.0.post0)\n",
      "Requirement already satisfied: importlib-resources>=3.2.0 in ./.venv/lib/python3.9/site-packages (from matplotlib>=3.5.1->CFEDemands>=0.4.1->-r requirements.txt (line 5)) (6.4.0)\n",
      "Requirement already satisfied: pytz>=2020.1 in ./.venv/lib/python3.9/site-packages (from pandas>=1.4.2->CFEDemands>=0.4.1->-r requirements.txt (line 5)) (2024.1)\n",
      "Requirement already satisfied: tzdata>=2022.7 in ./.venv/lib/python3.9/site-packages (from pandas>=1.4.2->CFEDemands>=0.4.1->-r requirements.txt (line 5)) (2024.1)\n",
      "Requirement already satisfied: iniconfig in ./.venv/lib/python3.9/site-packages (from pytest>=7.1.1->CFEDemands>=0.4.1->-r requirements.txt (line 5)) (2.0.0)\n",
      "Requirement already satisfied: pluggy<2.0,>=1.4 in ./.venv/lib/python3.9/site-packages (from pytest>=7.1.1->CFEDemands>=0.4.1->-r requirements.txt (line 5)) (1.4.0)\n",
      "Requirement already satisfied: exceptiongroup>=1.0.0rc8 in ./.venv/lib/python3.9/site-packages (from pytest>=7.1.1->CFEDemands>=0.4.1->-r requirements.txt (line 5)) (1.2.1)\n",
      "Requirement already satisfied: tomli>=1 in ./.venv/lib/python3.9/site-packages (from pytest>=7.1.1->CFEDemands>=0.4.1->-r requirements.txt (line 5)) (2.0.1)\n",
      "Requirement already satisfied: click>=7.0 in ./.venv/lib/python3.9/site-packages (from ray>=2.0.0->CFEDemands>=0.4.1->-r requirements.txt (line 5)) (8.1.7)\n",
      "Requirement already satisfied: filelock in ./.venv/lib/python3.9/site-packages (from ray>=2.0.0->CFEDemands>=0.4.1->-r requirements.txt (line 5)) (3.13.4)\n",
      "Requirement already satisfied: jsonschema in ./.venv/lib/python3.9/site-packages (from ray>=2.0.0->CFEDemands>=0.4.1->-r requirements.txt (line 5)) (4.21.1)\n",
      "Requirement already satisfied: msgpack<2.0.0,>=1.0.0 in ./.venv/lib/python3.9/site-packages (from ray>=2.0.0->CFEDemands>=0.4.1->-r requirements.txt (line 5)) (1.0.8)\n",
      "Requirement already satisfied: protobuf!=3.19.5,>=3.15.3 in ./.venv/lib/python3.9/site-packages (from ray>=2.0.0->CFEDemands>=0.4.1->-r requirements.txt (line 5)) (5.26.1)\n",
      "Requirement already satisfied: pyyaml in ./.venv/lib/python3.9/site-packages (from ray>=2.0.0->CFEDemands>=0.4.1->-r requirements.txt (line 5)) (6.0.1)\n",
      "Requirement already satisfied: aiosignal in ./.venv/lib/python3.9/site-packages (from ray>=2.0.0->CFEDemands>=0.4.1->-r requirements.txt (line 5)) (1.3.1)\n",
      "Requirement already satisfied: frozenlist in ./.venv/lib/python3.9/site-packages (from ray>=2.0.0->CFEDemands>=0.4.1->-r requirements.txt (line 5)) (1.4.1)\n",
      "Requirement already satisfied: patsy>=0.5.6 in ./.venv/lib/python3.9/site-packages (from statsmodels>=0.13.2->CFEDemands>=0.4.1->-r requirements.txt (line 5)) (0.5.6)\n",
      "Requirement already satisfied: dictdiffer>=0.8.1 in ./.venv/lib/python3.9/site-packages (from dvc-data<3.16,>=3.15->dvc>=2.18.1->CFEDemands>=0.4.1->-r requirements.txt (line 5)) (0.9.0)\n",
      "Requirement already satisfied: diskcache>=5.2.1 in ./.venv/lib/python3.9/site-packages (from dvc-data<3.16,>=3.15->dvc>=2.18.1->CFEDemands>=0.4.1->-r requirements.txt (line 5)) (5.6.3)\n",
      "Requirement already satisfied: sqltrie<1,>=0.11.0 in ./.venv/lib/python3.9/site-packages (from dvc-data<3.16,>=3.15->dvc>=2.18.1->CFEDemands>=0.4.1->-r requirements.txt (line 5)) (0.11.0)\n",
      "Requirement already satisfied: aiohttp-retry>=2.5.0 in ./.venv/lib/python3.9/site-packages (from dvc-http>=2.29.0->dvc>=2.18.1->CFEDemands>=0.4.1->-r requirements.txt (line 5)) (2.8.3)\n",
      "Requirement already satisfied: billiard<5.0,>=4.2.0 in ./.venv/lib/python3.9/site-packages (from celery->dvc>=2.18.1->CFEDemands>=0.4.1->-r requirements.txt (line 5)) (4.2.0)\n",
      "Requirement already satisfied: vine<6.0,>=5.1.0 in ./.venv/lib/python3.9/site-packages (from celery->dvc>=2.18.1->CFEDemands>=0.4.1->-r requirements.txt (line 5)) (5.1.0)\n",
      "Requirement already satisfied: click-didyoumean>=0.3.0 in ./.venv/lib/python3.9/site-packages (from celery->dvc>=2.18.1->CFEDemands>=0.4.1->-r requirements.txt (line 5)) (0.3.1)\n",
      "Requirement already satisfied: click-repl>=0.2.0 in ./.venv/lib/python3.9/site-packages (from celery->dvc>=2.18.1->CFEDemands>=0.4.1->-r requirements.txt (line 5)) (0.3.0)\n",
      "Requirement already satisfied: click-plugins>=1.1.1 in ./.venv/lib/python3.9/site-packages (from celery->dvc>=2.18.1->CFEDemands>=0.4.1->-r requirements.txt (line 5)) (1.1.1)\n",
      "Requirement already satisfied: atpublic>=2.3 in ./.venv/lib/python3.9/site-packages (from flufl.lock<8,>=5->dvc>=2.18.1->CFEDemands>=0.4.1->-r requirements.txt (line 5)) (4.1.0)\n",
      "Requirement already satisfied: typer>=0.4.1 in ./.venv/lib/python3.9/site-packages (from gto<2,>=1.6.0->dvc>=2.18.1->CFEDemands>=0.4.1->-r requirements.txt (line 5)) (0.12.3)\n",
      "Requirement already satisfied: pydantic!=2.0.0,<3,>=1.9.0 in ./.venv/lib/python3.9/site-packages (from gto<2,>=1.6.0->dvc>=2.18.1->CFEDemands>=0.4.1->-r requirements.txt (line 5)) (2.7.0)\n",
      "Requirement already satisfied: semver>=2.13.0 in ./.venv/lib/python3.9/site-packages (from gto<2,>=1.6.0->dvc>=2.18.1->CFEDemands>=0.4.1->-r requirements.txt (line 5)) (3.0.2)\n",
      "Requirement already satisfied: entrypoints in ./.venv/lib/python3.9/site-packages (from gto<2,>=1.6.0->dvc>=2.18.1->CFEDemands>=0.4.1->-r requirements.txt (line 5)) (0.4)\n",
      "Requirement already satisfied: antlr4-python3-runtime==4.9.* in ./.venv/lib/python3.9/site-packages (from hydra-core>=1.1->dvc>=2.18.1->CFEDemands>=0.4.1->-r requirements.txt (line 5)) (4.9.3)\n",
      "Requirement already satisfied: zipp>=3.1.0 in ./.venv/lib/python3.9/site-packages (from importlib-resources>=3.2.0->matplotlib>=3.5.1->CFEDemands>=0.4.1->-r requirements.txt (line 5)) (3.18.1)\n",
      "Requirement already satisfied: appdirs in ./.venv/lib/python3.9/site-packages (from iterative-telemetry>=0.0.7->dvc>=2.18.1->CFEDemands>=0.4.1->-r requirements.txt (line 5)) (1.4.4)\n",
      "Requirement already satisfied: amqp<6.0.0,>=5.1.1 in ./.venv/lib/python3.9/site-packages (from kombu->dvc>=2.18.1->CFEDemands>=0.4.1->-r requirements.txt (line 5)) (5.2.0)\n",
      "Requirement already satisfied: charset-normalizer<4,>=2 in ./.venv/lib/python3.9/site-packages (from requests>=2.22->dvc>=2.18.1->CFEDemands>=0.4.1->-r requirements.txt (line 5)) (3.3.2)\n",
      "Requirement already satisfied: idna<4,>=2.5 in ./.venv/lib/python3.9/site-packages (from requests>=2.22->dvc>=2.18.1->CFEDemands>=0.4.1->-r requirements.txt (line 5)) (3.7)\n",
      "Requirement already satisfied: urllib3<3,>=1.21.1 in ./.venv/lib/python3.9/site-packages (from requests>=2.22->dvc>=2.18.1->CFEDemands>=0.4.1->-r requirements.txt (line 5)) (2.2.1)\n",
      "Requirement already satisfied: certifi>=2017.4.17 in ./.venv/lib/python3.9/site-packages (from requests>=2.22->dvc>=2.18.1->CFEDemands>=0.4.1->-r requirements.txt (line 5)) (2024.2.2)\n",
      "Requirement already satisfied: oauthlib>=3.0.0 in ./.venv/lib/python3.9/site-packages (from requests-oauthlib>=0.7.0->google-auth-oauthlib>=0.4.1->gspread>=5.0.1->-r requirements.txt (line 7)) (3.2.2)\n",
      "Requirement already satisfied: markdown-it-py>=2.2.0 in ./.venv/lib/python3.9/site-packages (from rich>=12->dvc>=2.18.1->CFEDemands>=0.4.1->-r requirements.txt (line 5)) (3.0.0)\n",
      "Requirement already satisfied: pygments<3.0.0,>=2.13.0 in ./.venv/lib/python3.9/site-packages (from rich>=12->dvc>=2.18.1->CFEDemands>=0.4.1->-r requirements.txt (line 5)) (2.17.2)\n",
      "Requirement already satisfied: ruamel.yaml.clib>=0.2.7 in ./.venv/lib/python3.9/site-packages (from ruamel.yaml>=0.17.11->dvc>=2.18.1->CFEDemands>=0.4.1->-r requirements.txt (line 5)) (0.2.8)\n",
      "Requirement already satisfied: gitpython>3 in ./.venv/lib/python3.9/site-packages (from scmrepo<4,>=3->dvc>=2.18.1->CFEDemands>=0.4.1->-r requirements.txt (line 5)) (3.1.43)\n",
      "Requirement already satisfied: pygit2>=1.14.0 in ./.venv/lib/python3.9/site-packages (from scmrepo<4,>=3->dvc>=2.18.1->CFEDemands>=0.4.1->-r requirements.txt (line 5)) (1.14.1)\n",
      "Requirement already satisfied: asyncssh<3,>=2.13.1 in ./.venv/lib/python3.9/site-packages (from scmrepo<4,>=3->dvc>=2.18.1->CFEDemands>=0.4.1->-r requirements.txt (line 5)) (2.14.2)\n",
      "Requirement already satisfied: setuptools in ./.venv/lib/python3.9/site-packages (from zc.lockfile>=1.2.1->dvc>=2.18.1->CFEDemands>=0.4.1->-r requirements.txt (line 5)) (58.0.4)\n",
      "Requirement already satisfied: jsonschema-specifications>=2023.03.6 in ./.venv/lib/python3.9/site-packages (from jsonschema->ray>=2.0.0->CFEDemands>=0.4.1->-r requirements.txt (line 5)) (2023.12.1)\n",
      "Requirement already satisfied: referencing>=0.28.4 in ./.venv/lib/python3.9/site-packages (from jsonschema->ray>=2.0.0->CFEDemands>=0.4.1->-r requirements.txt (line 5)) (0.34.0)\n",
      "Requirement already satisfied: rpds-py>=0.7.1 in ./.venv/lib/python3.9/site-packages (from jsonschema->ray>=2.0.0->CFEDemands>=0.4.1->-r requirements.txt (line 5)) (0.18.0)\n",
      "Requirement already satisfied: aiohttp in ./.venv/lib/python3.9/site-packages (from aiohttp-retry>=2.5.0->dvc-http>=2.29.0->dvc>=2.18.1->CFEDemands>=0.4.1->-r requirements.txt (line 5)) (3.9.5)\n",
      "Requirement already satisfied: cryptography>=39.0 in ./.venv/lib/python3.9/site-packages (from asyncssh<3,>=2.13.1->scmrepo<4,>=3->dvc>=2.18.1->CFEDemands>=0.4.1->-r requirements.txt (line 5)) (42.0.5)\n",
      "Requirement already satisfied: prompt-toolkit>=3.0.36 in ./.venv/lib/python3.9/site-packages (from click-repl>=0.2.0->celery->dvc>=2.18.1->CFEDemands>=0.4.1->-r requirements.txt (line 5)) (3.0.43)\n",
      "Requirement already satisfied: gitdb<5,>=4.0.1 in ./.venv/lib/python3.9/site-packages (from gitpython>3->scmrepo<4,>=3->dvc>=2.18.1->CFEDemands>=0.4.1->-r requirements.txt (line 5)) (4.0.11)\n",
      "Requirement already satisfied: mdurl~=0.1 in ./.venv/lib/python3.9/site-packages (from markdown-it-py>=2.2.0->rich>=12->dvc>=2.18.1->CFEDemands>=0.4.1->-r requirements.txt (line 5)) (0.1.2)\n",
      "Requirement already satisfied: annotated-types>=0.4.0 in ./.venv/lib/python3.9/site-packages (from pydantic!=2.0.0,<3,>=1.9.0->gto<2,>=1.6.0->dvc>=2.18.1->CFEDemands>=0.4.1->-r requirements.txt (line 5)) (0.6.0)\n",
      "Requirement already satisfied: pydantic-core==2.18.1 in ./.venv/lib/python3.9/site-packages (from pydantic!=2.0.0,<3,>=1.9.0->gto<2,>=1.6.0->dvc>=2.18.1->CFEDemands>=0.4.1->-r requirements.txt (line 5)) (2.18.1)\n",
      "Requirement already satisfied: cffi>=1.16.0 in ./.venv/lib/python3.9/site-packages (from pygit2>=1.14.0->scmrepo<4,>=3->dvc>=2.18.1->CFEDemands>=0.4.1->-r requirements.txt (line 5)) (1.16.0)\n",
      "Requirement already satisfied: orjson in ./.venv/lib/python3.9/site-packages (from sqltrie<1,>=0.11.0->dvc-data<3.16,>=3.15->dvc>=2.18.1->CFEDemands>=0.4.1->-r requirements.txt (line 5)) (3.10.1)\n",
      "Requirement already satisfied: shellingham>=1.3.0 in ./.venv/lib/python3.9/site-packages (from typer>=0.4.1->gto<2,>=1.6.0->dvc>=2.18.1->CFEDemands>=0.4.1->-r requirements.txt (line 5)) (1.5.4)\n",
      "Requirement already satisfied: multidict<7.0,>=4.5 in ./.venv/lib/python3.9/site-packages (from aiohttp->aiohttp-retry>=2.5.0->dvc-http>=2.29.0->dvc>=2.18.1->CFEDemands>=0.4.1->-r requirements.txt (line 5)) (6.0.5)\n",
      "Requirement already satisfied: yarl<2.0,>=1.0 in ./.venv/lib/python3.9/site-packages (from aiohttp->aiohttp-retry>=2.5.0->dvc-http>=2.29.0->dvc>=2.18.1->CFEDemands>=0.4.1->-r requirements.txt (line 5)) (1.9.4)\n",
      "Requirement already satisfied: async-timeout<5.0,>=4.0 in ./.venv/lib/python3.9/site-packages (from aiohttp->aiohttp-retry>=2.5.0->dvc-http>=2.29.0->dvc>=2.18.1->CFEDemands>=0.4.1->-r requirements.txt (line 5)) (4.0.3)\n",
      "Requirement already satisfied: pycparser in ./.venv/lib/python3.9/site-packages (from cffi>=1.16.0->pygit2>=1.14.0->scmrepo<4,>=3->dvc>=2.18.1->CFEDemands>=0.4.1->-r requirements.txt (line 5)) (2.22)\n",
      "Requirement already satisfied: smmap<6,>=3.0.1 in ./.venv/lib/python3.9/site-packages (from gitdb<5,>=4.0.1->gitpython>3->scmrepo<4,>=3->dvc>=2.18.1->CFEDemands>=0.4.1->-r requirements.txt (line 5)) (5.0.1)\n",
      "Requirement already satisfied: wcwidth in ./.venv/lib/python3.9/site-packages (from prompt-toolkit>=3.0.36->click-repl>=0.2.0->celery->dvc>=2.18.1->CFEDemands>=0.4.1->-r requirements.txt (line 5)) (0.2.13)\n"
     ]
    }
   ],
   "source": [
    "# Loading in necessary packages\n",
    "\n",
    "#!pip install -r requirements.txt\n",
    "import pandas as pd\n",
    "import numpy as np\n",
    "from eep153_tools.sheets import read_sheets"
   ]
  },
  {
   "cell_type": "code",
   "execution_count": 2,
   "id": "442148ba-6da5-4309-9975-1162a9d517be",
   "metadata": {},
   "outputs": [],
   "source": [
    "#Loading in necessary dataframes\n",
    "\n",
    "InputFiles = {'Expenditures':('1yVLriVpo7KGUXvR3hq_n53XpXlD5NmLaH1oOMZyV0gQ','Expenditures (2019-20)'),\n",
    "              'Prices':('1yVLriVpo7KGUXvR3hq_n53XpXlD5NmLaH1oOMZyV0gQ','Prices'),\n",
    "              'HH Characteristics':('1yVLriVpo7KGUXvR3hq_n53XpXlD5NmLaH1oOMZyV0gQ','HH Characteristics'),\n",
    "              'FCT':('1yVLriVpo7KGUXvR3hq_n53XpXlD5NmLaH1oOMZyV0gQ','FCT'),\n",
    "              'RDI':('1yVLriVpo7KGUXvR3hq_n53XpXlD5NmLaH1oOMZyV0gQ','RDI'),}\n",
    "\n",
    "from eep153_tools.sheets import read_sheets\n",
    "import numpy as np\n",
    "import pandas as pd\n",
    "\n",
    "def get_clean_sheet(key,sheet=None):\n",
    "    \"\"\"Get a dataframe from a Google sheet.\"\"\"\n",
    "\n",
    "    df = read_sheets(key,sheet=sheet)\n",
    "    df.columns = [c.strip() for c in df.columns.tolist()]\n",
    "    df = df.loc[:,~df.columns.duplicated(keep='first')]   \n",
    "    df = df.drop([col for col in df.columns if col.startswith('Unnamed')], axis=1)\n",
    "    df = df.loc[~df.index.duplicated(), :]\n",
    "\n",
    "    return df\n",
    "\n",
    "# Get expenditures...\n",
    "expenditures = get_clean_sheet(InputFiles['Expenditures'][0],\n",
    "                    sheet=InputFiles['Expenditures'][1])\n",
    "\n",
    "if 'm' not in expenditures.columns:\n",
    "    expenditures['m'] = 1\n",
    "\n",
    "expenditures = expenditures.set_index(['i','t','m'])\n",
    "expenditures.columns.name = 'j'\n",
    "\n",
    "expenditures = expenditures.apply(lambda x: pd.to_numeric(x,errors='coerce'))\n",
    "expenditures = expenditures.replace(0,np.nan)\n",
    "\n",
    "# Get HH characteristics...\n",
    "hh_charactaristics = get_clean_sheet(InputFiles['HH Characteristics'][0],\n",
    "                    sheet=InputFiles['HH Characteristics'][1])\n",
    "\n",
    "if 'm' not in hh_charactaristics.columns:\n",
    "    hh_charactaristics['m'] = 1\n",
    "\n",
    "hh_charactaristics = hh_charactaristics.set_index(['i','t','m'])\n",
    "hh_charactaristics.columns.name = 'k'\n",
    "\n",
    "hh_charactaristics = hh_charactaristics.apply(lambda x: pd.to_numeric(x,errors='coerce'))\n",
    "\n",
    "# Get prices\n",
    "prices = get_clean_sheet(InputFiles['Prices'][0],\n",
    "                    sheet=InputFiles['Prices'][1])\n",
    "\n",
    "if 'm' not in prices.columns:  # Supply \"market\" indicator if missing\n",
    "    prices['m'] = 1\n",
    "\n",
    "prices = prices.set_index(['t','m'])\n",
    "prices.columns.name = 'j'\n",
    "\n",
    "prices = prices.apply(lambda x: pd.to_numeric(x,errors='coerce'))\n",
    "prices = prices.replace(0,np.nan)\n",
    "\n",
    "fct = get_clean_sheet(InputFiles['FCT'][0],\n",
    "                    sheet=InputFiles['FCT'][1])\n",
    "\n",
    "#### This bit peculiar to Niger FCT #####\n",
    "#fct = fct.loc[fct.Code.str.len()==6]\n",
    "#fct = fct.set_index('Code')\n",
    "#fct.columns = [v.replace('\\n',' ') for v in fct.columns]\n",
    "########################################\n",
    "fct = fct.set_index('j')\n",
    "fct.columns.name = 'n'\n",
    "\n",
    "fct = fct.apply(lambda x: pd.to_numeric(x,errors='coerce'))\n",
    "\n",
    "################## RDI, if available (consider using US) #####################\n",
    "rdi = get_clean_sheet(InputFiles['RDI'][0],\n",
    "                    sheet=InputFiles['RDI'][1])\n",
    "rdi = rdi.set_index('n')\n",
    "rdi.columns.name = 'k'\n",
    "\n",
    "# Take logs of expenditures; call this y\n",
    "y = np.log(expenditures)"
   ]
  },
  {
   "cell_type": "code",
   "execution_count": 11,
   "id": "d7659409",
   "metadata": {},
   "outputs": [],
   "source": [
    "\n",
    "hh_charactaristics = hh_charactaristics[rdi.columns.tolist()]\n",
    "filtered_hh_charactaristics = hh_charactaristics[(hh_charactaristics['F 00-03']!=0) | (hh_charactaristics['M 00-03']!=0) | (hh_charactaristics['F 04-08']!=0) | (hh_charactaristics['M 04-08']!=0)]\n",
    "filtered_z = filtered_hh_charactaristics.xs('2019-20',level='t',drop_level=False)\n",
    "filtered_hh_rdi = filtered_hh_charactaristics@rdi.T\n",
    "\n",
    "# Uganda data is per week, so make this a recommended WEEKLY intake:\n",
    "filtered_hh_rwi = filtered_hh_rdi*7"
   ]
  },
  {
   "cell_type": "code",
   "execution_count": 12,
   "id": "1ec2db5c-34bf-4dc5-83d8-caffb4b4f066",
   "metadata": {},
   "outputs": [],
   "source": [
    "import cfe\n",
    "result = cfe.Regression(y=np.log(expenditures.stack()),d=hh_charactaristics)\n",
    "\n",
    "xhat = result.predicted_expenditures()\n",
    "\n",
    "# Expenditures divided by prices/kg gives quantities in kgs...\n",
    "qhat = (xhat.unstack('j')/prices).dropna(how='all')\n",
    "\n",
    "# Drop missing columns\n",
    "qhat = qhat.loc[:,qhat.count()>0]\n",
    "\n",
    "use = fct.index.intersection(qhat.columns)\n",
    "nutrients = qhat[use]@fct.loc[use,:]\n",
    "use_nutrients = nutrients.columns.intersection(filtered_hh_rwi.columns)\n",
    "nutrient_ratio = (nutrients[use_nutrients]/filtered_hh_rwi[use_nutrients]).dropna()"
   ]
  },
  {
   "cell_type": "markdown",
   "id": "79dc0253-595a-4ccb-8363-ca1e21fd4953",
   "metadata": {},
   "source": [
    "## Introduction:\n",
    "\n",
    "We are exploring the percentage of Uganda households with children that suffer from iron deficiency, and exploring possible solutions to combat it. We chose iron as a nutrient because a significant amount of households fail to hit the recommended daily amount as shown by the histogram below."
   ]
  },
  {
   "cell_type": "code",
   "execution_count": 13,
   "id": "99fb3146-e8be-49c7-932c-9b91049918ce",
   "metadata": {},
   "outputs": [
    {
     "data": {
      "text/plain": [
       "<matplotlib.lines.Line2D at 0x301984a00>"
      ]
     },
     "execution_count": 13,
     "metadata": {},
     "output_type": "execute_result"
    },
    {
     "data": {
      "image/png": "[encoded data removed]",
      "text/plain": [
       "<Figure size 640x480 with 1 Axes>"
      ]
     },
     "metadata": {},
     "output_type": "display_data"
    }
   ],
   "source": [
    "%matplotlib inline\n",
    "import matplotlib.pyplot as plt\n",
    "nutrient_ratio['Iron'].hist(bins=100)\n",
    "plt.axvline(x = 1, color = 'r', label = 'axvline - full height')"
   ]
  },
  {
   "cell_type": "code",
   "execution_count": 22,
   "id": "e0b22187-2c4d-44d8-b532-135827231297",
   "metadata": {},
   "outputs": [
    {
     "name": "stdout",
     "output_type": "stream",
     "text": [
      "0.5530054644808743\n",
      "1.0511811928828787\n"
     ]
    }
   ],
   "source": [
    "# Below is the percentage of households with at least one child 0-8 in Uganda that are below recommended iron levels\n",
    "percent_households_under_rdi = len(nutrient_ratio[nutrient_ratio['Iron']<1])/len(nutrient_ratio['Iron'])\n",
    "print(percent_households_under_rdi)\n",
    "print(nutrient_ratio['Iron'].mean())"
   ]
  },
  {
   "cell_type": "markdown",
   "id": "933baf9f-7519-4151-a0a0-ad7bae16b58b",
   "metadata": {},
   "source": [
    "## Iron content of beans and millet\n",
    "\n",
    "Beans (fresh and dry) and millet have significant amounts of iron in them, as shown by the FCT results below"
   ]
  },
  {
   "cell_type": "code",
   "execution_count": 92,
   "id": "ff60015a-19b9-41cf-b16c-2e564ca6da25",
   "metadata": {},
   "outputs": [
    {
     "data": {
      "text/plain": [
       "j\n",
       "Beans (dry)      39.0\n",
       "Beans (fresh)    66.3\n",
       "Millet           39.0\n",
       "Name: Iron, dtype: float64"
      ]
     },
     "execution_count": 92,
     "metadata": {},
     "output_type": "execute_result"
    }
   ],
   "source": [
    "fct.loc[['Beans (dry)', 'Beans (fresh)', 'Millet']]['Iron']"
   ]
  },
  {
   "cell_type": "markdown",
   "id": "426034ab-b7f0-4b32-8675-781929bbae7f",
   "metadata": {},
   "source": [
    "However, these two products have very different elasticities:"
   ]
  },
  {
   "cell_type": "code",
   "execution_count": 5,
   "id": "2a2bbdd8-b994-4a53-bab5-2e41be2ebe55",
   "metadata": {},
   "outputs": [
    {
     "data": {
      "text/plain": [
       "Text(0.5, 0, 'Quantities of Beans Demanded')"
      ]
     },
     "execution_count": 5,
     "metadata": {},
     "output_type": "execute_result"
    },
    {
     "data": {
      "image/png": "[encoded data removed]",
      "text/plain": [
       "<Figure size 640x480 with 1 Axes>"
      ]
     },
     "metadata": {},
     "output_type": "display_data"
    }
   ],
   "source": [
    "import numpy as np\n",
    "\n",
    "xhat = result.predicted_expenditures()\n",
    "\n",
    "# Total food expenditures per household\n",
    "xbar = xhat.groupby(['i','t','m']).sum()\n",
    "\n",
    "# Reference budget\n",
    "xref = xbar.quantile(0.5)  # Household at 0.5 quantile is median\n",
    "\n",
    "\n",
    "# Reference prices chosen from a particular time; average across place.\n",
    "# These are prices per kilogram:\n",
    "pbar = prices.mean()\n",
    "pbar = pbar[result.beta.index] # Only use prices for goods we can estimate\n",
    "\n",
    "#Finally, define a function to change a single price in the vector $p$:\n",
    "def my_prices(p0,p=pbar,j='Millet'):\n",
    "    \"\"\"\n",
    "    Change price of jth good to p0, holding other prices fixed.\n",
    "    \"\"\"\n",
    "    p = p.copy()\n",
    "    p.loc[j] = p0\n",
    "    return p\n",
    "pbar\n",
    "\n",
    "\n",
    "import matplotlib.pyplot as plt\n",
    "%matplotlib inline\n",
    "\n",
    "use = 'Beans'  # Good we want demand curve for\n",
    "\n",
    "# Vary prices from 50% to 200% of reference.\n",
    "scale = np.linspace(.5,2,20)\n",
    "\n",
    "# Demand for Beans for household at median budget\n",
    "plt.plot([result.demands(xref,my_prices(pbar[use]*s,pbar))[use] for s in scale],scale)\n",
    "\n",
    "# Demand for Beans for household at 25% percentile\n",
    "plt.plot([result.demands(xbar.quantile(0.25),my_prices(pbar[use]*s,pbar))[use] for s in scale],scale)\n",
    "\n",
    "# Demand for Beans for household at 75% percentile\n",
    "plt.plot([result.demands(xbar.quantile(0.75),my_prices(pbar[use]*s,pbar))[use] for s in scale],scale)\n",
    "\n",
    "plt.ylabel(f\"Price (relative to base of {pbar[use]:.2f})\")\n",
    "plt.xlabel(f\"Quantities of {use} Demanded\")"
   ]
  },
  {
   "cell_type": "markdown",
   "id": "aca21a07-573e-4bc4-b4f4-de8d0ae40fb5",
   "metadata": {},
   "source": [
    "## Fortification\n",
    "\n",
    "We want to see how much iron intake would change if the iron content of beans and millet were increased through new HarvestPlus varietals. Let's create the same stats as above but with a 30% increase in the iron content of fresh and dry beans."
   ]
  },
  {
   "cell_type": "code",
   "execution_count": 6,
   "id": "2e1e00bf-dc88-457d-bfa6-384e69092201",
   "metadata": {},
   "outputs": [
    {
     "name": "stdout",
     "output_type": "stream",
     "text": [
      "Before update: Beans (dry) iron content = 30.0\n",
      "After update: Beans (dry) iron content = 39.0\n",
      "Before update: Beans (fresh) iron content = 51.0\n",
      "After update: Beans (fresh) iron content = 66.3\n",
      "Before update: Millet iron content = 30.0\n",
      "After update: Millet iron content = 39.0\n"
     ]
    }
   ],
   "source": [
    "def increase_iron_content(fct, food_items, nutrient='Iron', increase_percent=30):\n",
    "    new_fct = fct.to_dict()\n",
    "    for food_item in food_items:\n",
    "        if food_item in fct.index:\n",
    "            print(f\"Before update: {food_item} iron content = {fct.loc[food_item, nutrient]}\")\n",
    "            new_fct[nutrient][food_item] = fct.loc[food_item][nutrient] * (1 + (increase_percent / 100))\n",
    "            print(f\"After update: {food_item} iron content = {new_fct[nutrient][food_item]}\")\n",
    "        else:\n",
    "            print(f\"{food_item} not found in FCT.\")\n",
    "    return pd.DataFrame(new_fct)\n",
    "\n",
    "# Test the function with debug statements\n",
    "updated_fct = increase_iron_content(fct, ['Beans (dry)', 'Beans (fresh)', 'Millet'], nutrient='Iron', increase_percent=30)"
   ]
  },
  {
   "cell_type": "code",
   "execution_count": 24,
   "id": "3e41ad94-9003-42cc-a018-ee0a10b2632a",
   "metadata": {},
   "outputs": [],
   "source": [
    "use = updated_fct.index.intersection(qhat.columns)\n",
    "nutrients_2 = qhat[use]@updated_fct.loc[use,:]\n",
    "use_nutrients2 = nutrients_2.columns.intersection(filtered_hh_rwi.columns)\n",
    "nutrient_ratio_2 = (nutrients_2[use_nutrients2]/filtered_hh_rwi[use_nutrients2]).dropna()"
   ]
  },
  {
   "cell_type": "code",
   "execution_count": 25,
   "id": "f7ccdb67-890a-4772-9eb3-ea3341667f39",
   "metadata": {},
   "outputs": [
    {
     "data": {
      "text/plain": [
       "<matplotlib.lines.Line2D at 0x3016f5850>"
      ]
     },
     "execution_count": 25,
     "metadata": {},
     "output_type": "execute_result"
    },
    {
     "data": {
      "image/png": "[encoded data removed]",
      "text/plain": [
       "<Figure size 640x480 with 1 Axes>"
      ]
     },
     "metadata": {},
     "output_type": "display_data"
    }
   ],
   "source": [
    "nutrient_ratio_2['Iron'].hist(bins=100)\n",
    "plt.axvline(x = 1, color = 'r', label = 'axvline - full height')"
   ]
  },
  {
   "cell_type": "code",
   "execution_count": 23,
   "id": "4f0aea52-f11d-4003-8159-dd34014c39c9",
   "metadata": {},
   "outputs": [
    {
     "name": "stdout",
     "output_type": "stream",
     "text": [
      "0.5300546448087432\n",
      "1.07879288665324\n"
     ]
    }
   ],
   "source": [
    "percent_households_under_rdi_updated = len(nutrient_ratio_2[nutrient_ratio_2['Iron']<1])/len(nutrient_ratio_2['Iron'])\n",
    "print(percent_households_under_rdi_updated)\n",
    "print(nutrient_ratio_2['Iron'].mean())"
   ]
  }
 ],
 "metadata": {
  "kernelspec": {
   "display_name": "Python 3 (ipykernel)",
   "language": "python",
   "name": "python3"
  },
  "language_info": {
   "codemirror_mode": {
    "name": "ipython",
    "version": 3
   },
   "file_extension": ".py",
   "mimetype": "text/x-python",
   "name": "python",
   "nbconvert_exporter": "python",
   "pygments_lexer": "ipython3",
   "version": "3.9.6"
  }
 },
 "nbformat": 4,
 "nbformat_minor": 5
}
