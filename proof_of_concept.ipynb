{
  "cells": [
    {
      "cell_type": "markdown",
      "metadata": {},
      "source": [
        "## Proof of Concept\n",
        "\n"
      ]
    },
    {
      "cell_type": "markdown",
      "metadata": {},
      "source": [
        "### Preface\n",
        "\n"
      ]
    },
    {
      "cell_type": "markdown",
      "metadata": {},
      "source": [
        "This file is meant to basically check the sanity and correctness of\n",
        "the data and code used to work out nutrition from household\n",
        "expenditure data.\n",
        "\n",
        "There are a few modules you may need to install:\n",
        "\n"
      ]
    },
    {
      "cell_type": "code",
      "execution_count": 1,
      "metadata": {},
      "outputs": [],
      "source": [
        "# !pip install -r requirements.txt"
      ]
    },
    {
      "cell_type": "markdown",
      "metadata": {},
      "source": [
        "All the data required for estimation and calculation can be found\n",
        "  in a google spreadsheet.  Choose one to explore!\n",
        "\n"
      ]
    },
    {
      "cell_type": "code",
      "execution_count": 2,
      "metadata": {},
      "outputs": [],
      "source": [
        "COUNTRY = 'Nigeria'"
      ]
    },
    {
      "cell_type": "code",
      "execution_count": 3,
      "metadata": {},
      "outputs": [],
      "source": [
        "URL = {'Uganda':'https://docs.google.com/spreadsheets/d/1yVLriVpo7KGUXvR3hq_n53XpXlD5NmLaH1oOMZyV0gQ/',\n",
        "       'Tanzania':'https://docs.google.com/spreadsheets/d/1Tknc2F8K6SaA7j0R7J_NE8yJBTsCPPw77_Bfc04MY40/',\n",
        "       'ICRISAT':'https://docs.google.com/spreadsheets/d/13Ig5hZif-NSHtgkKRp_cEgKXk0lOsdUB2BAD6O_FnRo',\n",
        "       'Nigeria':{'Expenditures':'https://docs.google.com/spreadsheets/d/1qzz6XGhPWLZLmwjrUY4W9k9U2PYukWblQKXWu0l37C4/',\n",
        "                  'FCT':'https://docs.google.com/spreadsheets/d/1whE_EW5x-jxrsKvYWfefdBppzp_TZhPP61bdEN-FEJ4/',\n",
        "                  'RDI':'https://docs.google.com/spreadsheets/d/1whE_EW5x-jxrsKvYWfefdBppzp_TZhPP61bdEN-FEJ4/',\n",
        "                  'HH Characteristics':'https://docs.google.com/spreadsheets/d/1whE_EW5x-jxrsKvYWfefdBppzp_TZhPP61bdEN-FEJ4/',\n",
        "                  'Prices':'https://docs.google.com/spreadsheets/d/1whE_EW5x-jxrsKvYWfefdBppzp_TZhPP61bdEN-FEJ4/'}\n",
        "                  }\n",
        "DAYS_PER_PERIOD = {'Uganda':7,'Tanzania':7,'ICRISAT':365.25,'Nigeria':7} # Number of days of expenditure recall"
      ]
    },
    {
      "cell_type": "markdown",
      "metadata": {},
      "source": [
        "### Estimation\n",
        "\n"
      ]
    },
    {
      "cell_type": "markdown",
      "metadata": {},
      "source": [
        "You may already have access to an estimated demand system.  If so,\n",
        "   use it!  Then you can skip down to &ldquo;Plotting Food Demands&rdquo;.\n",
        "   Otherwise, we pull in data on expenditures, household characteristics,\n",
        "   and price:\n",
        "\n"
      ]
    },
    {
      "cell_type": "code",
      "execution_count": 3,
      "metadata": {},
      "outputs": [
        {
          "name": "stderr",
          "output_type": "stream",
          "text": [
            "/Users/cnicholas/src/EEP153/EEP153_Materials/Project4/.venv/lib/python3.9/site-packages/urllib3/__init__.py:35: NotOpenSSLWarning: urllib3 v2 only supports OpenSSL 1.1.1+, currently the 'ssl' module is compiled with 'LibreSSL 2.8.3'. See: https://github.com/urllib3/urllib3/issues/3020\n",
            "  warnings.warn(\n"
          ]
        }
      ],
      "source": [
        "import cfe\n",
        "import pandas as pd\n",
        "import numpy as np\n",
        "from eep153_tools.sheets import read_sheets\n",
        "\n",
        "x = read_sheets(URL[COUNTRY],sheet='Expenditures')\n",
        "\n",
        "if len(x.columns==5): # stored as a series\n",
        "    x = x.set_index(['j','t','m','i']).squeeze()\n",
        "else:    \n",
        "    x = x.set_index(['j','t','m'])\n",
        "    x.columns.name = 'i'\n",
        "    x = x.stack().dropna()\n",
        "x.index.names = ['i','t','m','j']\n",
        "    \n",
        "x = x.replace(0,np.nan).dropna()\n",
        "\n",
        "y = np.log(x)\n",
        "\n",
        "z = read_sheets(URL[COUNTRY],sheet='HH Characteristics').set_index(['j','t','m'])\n",
        "z.columns.name = 'k'\n",
        "z.index.names=['i','t','m']\n",
        "\n",
        "p = read_sheets(URL[COUNTRY],sheet='Prices').set_index(['t','m'])\n",
        "p.columns.name = 'j'"
      ]
    },
    {
      "cell_type": "markdown",
      "metadata": {},
      "source": [
        "Let&rsquo;s take a look at the  different periods that appear in the\n",
        "data. If you can&rsquo;t estimate (the next step) because your kernel dies\n",
        "it may be that you should use a subset of the periods.\n",
        "\n"
      ]
    },
    {
      "cell_type": "code",
      "execution_count": 4,
      "metadata": {},
      "outputs": [
        {
          "data": {
            "text/plain": [
              "['2015Q3', '2016Q1']"
            ]
          },
          "execution_count": 4,
          "metadata": {},
          "output_type": "execute_result"
        }
      ],
      "source": [
        "use_periods = p.index.levels[0].tolist()\n",
        "\n",
        "# If you want to use just a subset of periods, redefine\n",
        "# use_periods here; e.g.,\n",
        "#\n",
        "use_periods = ['2015Q3','2016Q1']\n",
        "y = y.loc[y.index.get_level_values('t').isin(use_periods)]\n",
        "z = z.loc[z.index.get_level_values('t').isin(use_periods)]\n",
        "p = p.loc[p.index.get_level_values('t').isin(use_periods)]\n",
        "\n",
        "use_periods"
      ]
    },
    {
      "cell_type": "markdown",
      "metadata": {},
      "source": [
        "Next, we construct an object we can use in the estimation.\n",
        "\n"
      ]
    },
    {
      "cell_type": "code",
      "execution_count": 5,
      "metadata": {},
      "outputs": [],
      "source": [
        "r = cfe.Regression(y=y,d=z)"
      ]
    },
    {
      "cell_type": "markdown",
      "metadata": {},
      "source": [
        "Next, we estimate CFE demands *given* the prices and budgets of households in the data.\n",
        "\n"
      ]
    },
    {
      "cell_type": "code",
      "execution_count": 6,
      "metadata": {},
      "outputs": [],
      "source": [
        "xhat = r.predicted_expenditures()"
      ]
    },
    {
      "cell_type": "markdown",
      "metadata": {},
      "source": [
        "Estimation is kind of expensive, so you might want to save these\n",
        "results to use in your later code.\n",
        "\n"
      ]
    },
    {
      "cell_type": "code",
      "execution_count": 7,
      "metadata": {},
      "outputs": [],
      "source": [
        "r.to_pickle(\"my %s.pickle\" % COUNTRY)"
      ]
    },
    {
      "cell_type": "markdown",
      "metadata": {},
      "source": [
        "### Plotting Food Demands\n",
        "\n"
      ]
    },
    {
      "cell_type": "markdown",
      "metadata": {},
      "source": [
        "Now we&rsquo;re interested in predicting what quantities of different\n",
        "   kinds of food *would* have been, if something (e.g., a price,\n",
        "   budget, household characteristics) was different.\n",
        "\n"
      ]
    },
    {
      "cell_type": "markdown",
      "metadata": {},
      "source": [
        "#### Ceteris Paribus\n",
        "\n"
      ]
    },
    {
      "cell_type": "markdown",
      "metadata": {},
      "source": [
        "We begin by setting up some benchmarks for prices and budgets, so\n",
        "    the things we don&rsquo;t want to change we can hold fixed.\n",
        "\n"
      ]
    },
    {
      "cell_type": "markdown",
      "metadata": {},
      "source": [
        "##### Reference Prices\n",
        "\n"
      ]
    },
    {
      "cell_type": "markdown",
      "metadata": {},
      "source": [
        "Choose reference prices.  Here we&rsquo;ll choose a particular year, and average prices across markets.  If you wanted to focus on particular market you&rsquo;d do this differently.\n",
        "\n"
      ]
    },
    {
      "cell_type": "code",
      "execution_count": 8,
      "metadata": {},
      "outputs": [],
      "source": [
        "# Reference prices chosen from a particular time; average across place.\n",
        "# These are prices per kilogram:\n",
        "my_t = use_periods[0]  # Choose from periods available in your dataset!\n",
        "\n",
        "pbar = p.xs(my_t,level='t').mean()\n",
        "pbar = pbar[r.beta.index] # Only use prices for goods we can estimate\n",
        "\n",
        "my_j = 'Onions'  # Choose a reference good for analysis; should satisfy\n",
        "\n",
        "assert my_j in pbar.index, f\"The label {my_j} does not match a good for which demands have been estimated.\""
      ]
    },
    {
      "cell_type": "markdown",
      "metadata": {},
      "source": [
        "##### Budgets\n",
        "\n"
      ]
    },
    {
      "cell_type": "markdown",
      "metadata": {},
      "source": [
        "Get food budget for all households, then find median budget:\n",
        "\n"
      ]
    },
    {
      "cell_type": "code",
      "execution_count": 9,
      "metadata": {},
      "outputs": [
        {
          "data": {
            "text/plain": [
              "'Median income is 14052.557192322249 in local currency.'"
            ]
          },
          "execution_count": 9,
          "metadata": {},
          "output_type": "execute_result"
        }
      ],
      "source": [
        "import numpy as np\n",
        "\n",
        "xhat = r.predicted_expenditures()\n",
        "\n",
        "# Total food expenditures per household\n",
        "xbar = xhat.groupby(['i','t','m']).sum()\n",
        "\n",
        "# Reference budget\n",
        "x0 = xbar.quantile(0.5)  # Household at 0.5 quantile is median\n",
        "\n",
        "f\"Median income is {x0} in local currency.\""
      ]
    },
    {
      "cell_type": "markdown",
      "metadata": {},
      "source": [
        "##### Changing one price, holding others fixed\n",
        "\n"
      ]
    },
    {
      "cell_type": "markdown",
      "metadata": {},
      "source": [
        "Finally, define a function to change a single price in the vector $p$:\n",
        "\n"
      ]
    },
    {
      "cell_type": "code",
      "execution_count": 10,
      "metadata": {},
      "outputs": [],
      "source": [
        "def my_prices(p0,p=pbar,j=my_j):\n",
        "    \"\"\"\n",
        "    Change price of jth good to p0, holding other prices fixed.\n",
        "    \"\"\"\n",
        "    p = p.copy()\n",
        "    p.loc[j] = p0\n",
        "    return p"
      ]
    },
    {
      "cell_type": "markdown",
      "metadata": {},
      "source": [
        "##### Plot demand schedule\n",
        "\n"
      ]
    },
    {
      "cell_type": "code",
      "execution_count": 11,
      "metadata": {},
      "outputs": [
        {
          "ename": "AssertionError",
          "evalue": "Missing or non-finite values in prices.",
          "output_type": "error",
          "traceback": [
            "\u001b[0;31m---------------------------------------------------------------------------\u001b[0m",
            "\u001b[0;31mAssertionError\u001b[0m                            Traceback (most recent call last)",
            "Cell \u001b[0;32mIn[11], line 9\u001b[0m\n\u001b[1;32m      6\u001b[0m P \u001b[38;5;241m=\u001b[39m np\u001b[38;5;241m.\u001b[39mlinspace(ref_price\u001b[38;5;241m/\u001b[39m\u001b[38;5;241m5\u001b[39m,ref_price\u001b[38;5;241m*\u001b[39m\u001b[38;5;241m5\u001b[39m,\u001b[38;5;241m50\u001b[39m)\n\u001b[1;32m      8\u001b[0m \u001b[38;5;28;01mfor\u001b[39;00m x \u001b[38;5;129;01min\u001b[39;00m [x0\u001b[38;5;241m*\u001b[39ms \u001b[38;5;28;01mfor\u001b[39;00m s \u001b[38;5;129;01min\u001b[39;00m [\u001b[38;5;241m.25\u001b[39m,\u001b[38;5;241m.5\u001b[39m,\u001b[38;5;241m1.\u001b[39m,\u001b[38;5;241m2\u001b[39m,\u001b[38;5;241m4\u001b[39m]]:\n\u001b[0;32m----> 9\u001b[0m     plt\u001b[38;5;241m.\u001b[39mplot([r\u001b[38;5;241m.\u001b[39mdemands(x,my_prices(p0))[my_j] \u001b[38;5;28;01mfor\u001b[39;00m p0 \u001b[38;5;129;01min\u001b[39;00m P],P)\n\u001b[1;32m     11\u001b[0m plt\u001b[38;5;241m.\u001b[39mxlabel(my_j)\n\u001b[1;32m     12\u001b[0m plt\u001b[38;5;241m.\u001b[39mylabel(\u001b[38;5;124mf\u001b[39m\u001b[38;5;124m'\u001b[39m\u001b[38;5;124mPrice of \u001b[39m\u001b[38;5;132;01m{\u001b[39;00mmy_j\u001b[38;5;132;01m}\u001b[39;00m\u001b[38;5;124m'\u001b[39m)\n",
            "Cell \u001b[0;32mIn[11], line 9\u001b[0m, in \u001b[0;36m<listcomp>\u001b[0;34m(.0)\u001b[0m\n\u001b[1;32m      6\u001b[0m P \u001b[38;5;241m=\u001b[39m np\u001b[38;5;241m.\u001b[39mlinspace(ref_price\u001b[38;5;241m/\u001b[39m\u001b[38;5;241m5\u001b[39m,ref_price\u001b[38;5;241m*\u001b[39m\u001b[38;5;241m5\u001b[39m,\u001b[38;5;241m50\u001b[39m)\n\u001b[1;32m      8\u001b[0m \u001b[38;5;28;01mfor\u001b[39;00m x \u001b[38;5;129;01min\u001b[39;00m [x0\u001b[38;5;241m*\u001b[39ms \u001b[38;5;28;01mfor\u001b[39;00m s \u001b[38;5;129;01min\u001b[39;00m [\u001b[38;5;241m.25\u001b[39m,\u001b[38;5;241m.5\u001b[39m,\u001b[38;5;241m1.\u001b[39m,\u001b[38;5;241m2\u001b[39m,\u001b[38;5;241m4\u001b[39m]]:\n\u001b[0;32m----> 9\u001b[0m     plt\u001b[38;5;241m.\u001b[39mplot([\u001b[43mr\u001b[49m\u001b[38;5;241;43m.\u001b[39;49m\u001b[43mdemands\u001b[49m\u001b[43m(\u001b[49m\u001b[43mx\u001b[49m\u001b[43m,\u001b[49m\u001b[43mmy_prices\u001b[49m\u001b[43m(\u001b[49m\u001b[43mp0\u001b[49m\u001b[43m)\u001b[49m\u001b[43m)\u001b[49m[my_j] \u001b[38;5;28;01mfor\u001b[39;00m p0 \u001b[38;5;129;01min\u001b[39;00m P],P)\n\u001b[1;32m     11\u001b[0m plt\u001b[38;5;241m.\u001b[39mxlabel(my_j)\n\u001b[1;32m     12\u001b[0m plt\u001b[38;5;241m.\u001b[39mylabel(\u001b[38;5;124mf\u001b[39m\u001b[38;5;124m'\u001b[39m\u001b[38;5;124mPrice of \u001b[39m\u001b[38;5;132;01m{\u001b[39;00mmy_j\u001b[38;5;132;01m}\u001b[39;00m\u001b[38;5;124m'\u001b[39m)\n",
            "File \u001b[0;32m~/src/EEP153/EEP153_Materials/Project4/.venv/lib/python3.9/site-packages/cfe/regression.py:1308\u001b[0m, in \u001b[0;36m_demands\u001b[0;34m(self, x, p, z, type)\u001b[0m\n\u001b[1;32m   1302\u001b[0m p,pparms \u001b[38;5;241m=\u001b[39m _demand_parameters(\u001b[38;5;28mself\u001b[39m,p,z)\n\u001b[1;32m   1304\u001b[0m Qs \u001b[38;5;241m=\u001b[39m {\u001b[38;5;124m'\u001b[39m\u001b[38;5;124mMarshallian\u001b[39m\u001b[38;5;124m'\u001b[39m:consumerdemands\u001b[38;5;241m.\u001b[39mmarshallian\u001b[38;5;241m.\u001b[39mdemands,\n\u001b[1;32m   1305\u001b[0m       \u001b[38;5;124m'\u001b[39m\u001b[38;5;124mHicksian\u001b[39m\u001b[38;5;124m'\u001b[39m:consumerdemands\u001b[38;5;241m.\u001b[39mhicksian\u001b[38;5;241m.\u001b[39mdemands,\n\u001b[1;32m   1306\u001b[0m       \u001b[38;5;124m'\u001b[39m\u001b[38;5;124mFrischian\u001b[39m\u001b[38;5;124m'\u001b[39m:consumerdemands\u001b[38;5;241m.\u001b[39mfrischian\u001b[38;5;241m.\u001b[39mdemands}\n\u001b[0;32m-> 1308\u001b[0m q \u001b[38;5;241m=\u001b[39m pd\u001b[38;5;241m.\u001b[39mSeries(\u001b[43mQs\u001b[49m\u001b[43m[\u001b[49m\u001b[38;5;28;43mtype\u001b[39;49m\u001b[43m]\u001b[49m\u001b[43m(\u001b[49m\u001b[43mx\u001b[49m\u001b[43m,\u001b[49m\u001b[43mp\u001b[49m\u001b[43m,\u001b[49m\u001b[43mpparms\u001b[49m\u001b[43m)\u001b[49m,index\u001b[38;5;241m=\u001b[39midx,name\u001b[38;5;241m=\u001b[39m\u001b[38;5;124m'\u001b[39m\u001b[38;5;124mquantities\u001b[39m\u001b[38;5;124m'\u001b[39m)\n\u001b[1;32m   1310\u001b[0m \u001b[38;5;28;01mreturn\u001b[39;00m q\n",
            "File \u001b[0;32m~/src/EEP153/EEP153_Materials/Project4/.venv/lib/python3.9/site-packages/consumerdemands/marshallian.py:14\u001b[0m, in \u001b[0;36mdemands\u001b[0;34m(y, p, parms, NegativeDemands)\u001b[0m\n\u001b[1;32m     12\u001b[0m \u001b[38;5;28;01mdef\u001b[39;00m \u001b[38;5;21mdemands\u001b[39m(y,p,parms,NegativeDemands\u001b[38;5;241m=\u001b[39m\u001b[38;5;28;01mTrue\u001b[39;00m):\n\u001b[0;32m---> 14\u001b[0m     n,parms \u001b[38;5;241m=\u001b[39m \u001b[43mcheck_args\u001b[49m\u001b[43m(\u001b[49m\u001b[43mp\u001b[49m\u001b[38;5;241;43m=\u001b[39;49m\u001b[43mp\u001b[49m\u001b[43m,\u001b[49m\u001b[38;5;241;43m*\u001b[39;49m\u001b[38;5;241;43m*\u001b[39;49m\u001b[43mparms\u001b[49m\u001b[43m)\u001b[49m\n\u001b[1;32m     16\u001b[0m     lbda\u001b[38;5;241m=\u001b[39mlambdavalue(y,p,parms,NegativeDemands\u001b[38;5;241m=\u001b[39mNegativeDemands)\n\u001b[1;32m     18\u001b[0m     \u001b[38;5;28;01mreturn\u001b[39;00m frischian\u001b[38;5;241m.\u001b[39mdemands(lbda,p,parms,NegativeDemands\u001b[38;5;241m=\u001b[39mNegativeDemands)\n",
            "File \u001b[0;32m~/src/EEP153/EEP153_Materials/Project4/.venv/lib/python3.9/site-packages/consumerdemands/_utils.py:19\u001b[0m, in \u001b[0;36mcheck_args\u001b[0;34m(p, alpha, beta, phi, tol, **extra)\u001b[0m\n\u001b[1;32m     17\u001b[0m     N\u001b[38;5;241m.\u001b[39mappend(\u001b[38;5;28mlen\u001b[39m(p))\n\u001b[1;32m     18\u001b[0m     \u001b[38;5;66;03m#Check for problem values in p:\u001b[39;00m\n\u001b[0;32m---> 19\u001b[0m     \u001b[38;5;28;01massert\u001b[39;00m \u001b[38;5;28mall\u001b[39m(isfinite(p)), \u001b[38;5;124m\"\u001b[39m\u001b[38;5;124mMissing or non-finite values in prices.\u001b[39m\u001b[38;5;124m\"\u001b[39m\n\u001b[1;32m     21\u001b[0m \u001b[38;5;28;01mtry\u001b[39;00m:\n\u001b[1;32m     22\u001b[0m     \u001b[38;5;28mlen\u001b[39m(alpha) \u001b[38;5;66;03m# If len() not defined, then must be a singleton\u001b[39;00m\n",
            "\u001b[0;31mAssertionError\u001b[0m: Missing or non-finite values in prices."
          ]
        }
      ],
      "source": [
        "import matplotlib.pyplot as plt\n",
        "%matplotlib inline\n",
        "\n",
        "# Values for prices\n",
        "ref_price = pbar[my_j]\n",
        "P = np.linspace(ref_price/5,ref_price*5,50)\n",
        "\n",
        "for x in [x0*s for s in [.25,.5,1.,2,4]]:\n",
        "    plt.plot([r.demands(x,my_prices(p0))[my_j] for p0 in P],P)\n",
        "\n",
        "plt.xlabel(my_j)\n",
        "plt.ylabel(f'Price of {my_j}')"
      ]
    },
    {
      "cell_type": "markdown",
      "metadata": {},
      "source": [
        "### Plotting Nutrient Demands\n",
        "\n"
      ]
    },
    {
      "cell_type": "markdown",
      "metadata": {},
      "source": [
        "The nutrient value of food consumed by the household is just the\n",
        "   product of its diet and a food conversion table.  So let&rsquo;s write a\n",
        "   function that describes that product:\n",
        "\n"
      ]
    },
    {
      "cell_type": "code",
      "execution_count": 1,
      "metadata": {},
      "outputs": [],
      "source": [
        "from eep153_tools.sheets import read_sheets\n",
        "import warnings \n",
        "\n",
        "# Get FCT:\n",
        "fct = read_sheets(URL[COUNTRY],\n",
        "                  sheet='FCT').set_index('i')\n",
        "fct.columns.name='n'\n",
        "\n",
        "\n",
        "def nutrient_demand(x,p):\n",
        "    with warnings.catch_warnings():\n",
        "        warnings.simplefilter(\"ignore\")\n",
        "        c = r.demands(x,p)\n",
        "\n",
        "    fct0,c0 = fct.align(c,axis=0,join='inner')\n",
        "    N = fct0.T@c0\n",
        "\n",
        "    N = N.loc[~N.index.duplicated()]\n",
        "    \n",
        "    return N"
      ]
    },
    {
      "cell_type": "markdown",
      "metadata": {},
      "source": [
        "With this `nutrient_demand` function in hand, we can see how nutrient\n",
        " outcomes vary with budget, given prices:\n",
        "\n"
      ]
    },
    {
      "cell_type": "code",
      "execution_count": 1,
      "metadata": {},
      "outputs": [],
      "source": [
        "import numpy as np\n",
        "import pandas as pd\n",
        "\n",
        "X = np.linspace(x0/5,x0*5,50)\n",
        "\n",
        "# UseNutrients = ['Protein','Calories','Iron','Calcium']\n",
        "UseNutrients = fct.columns.tolist()\n",
        "\n",
        "plt.plot(X,[np.log(nutrient_demand(x,pbar))[UseNutrients] for x in X])\n",
        "plt.legend(UseNutrients)\n",
        "plt.xlabel('Budget')\n",
        "plt.ylabel('log nutrient')"
      ]
    },
    {
      "cell_type": "markdown",
      "metadata": {},
      "source": [
        "### Nutritional requirements\n",
        "\n"
      ]
    },
    {
      "cell_type": "markdown",
      "metadata": {},
      "source": [
        "Individuals have nutritional requirements established by nutrition\n",
        " scientists.  Here we grab one such set of requirements:\n",
        "\n"
      ]
    },
    {
      "cell_type": "code",
      "execution_count": 1,
      "metadata": {},
      "outputs": [],
      "source": [
        "rdi = read_sheets(URL[COUNTRY],\n",
        "                  sheet='RDI').set_index('n').replace(np.nan,0)\n",
        "rdi.columns.name = 'k'\n",
        "\n",
        "rdi = rdi.replace('',0)\n",
        "rdi"
      ]
    },
    {
      "cell_type": "markdown",
      "metadata": {},
      "source": [
        "#### Nutritional Needs of Households\n",
        "\n"
      ]
    },
    {
      "cell_type": "markdown",
      "metadata": {},
      "source": [
        "Our data on demand and nutrients is at the *household* level; we\n",
        "    can&rsquo;t directly compare household level nutrition with individual\n",
        "    level requirements.  What we **can** do is add up minimum individual\n",
        "    requirements, and see whether household total exceed these.  This\n",
        "    isn&rsquo;t a guarantee that all individuals have adequate nutrition\n",
        "    (since the way food is allocated in the household might be quite\n",
        "    unequal, or unrelated to individual requirements), but it is\n",
        "    *necessary* if all individuals are to have adequate nutrition.\n",
        "\n",
        "For the average household, the number of different kinds of people\n",
        "can be computed by averaging over households:\n",
        "\n"
      ]
    },
    {
      "cell_type": "code",
      "execution_count": 1,
      "metadata": {},
      "outputs": [],
      "source": [
        "# Find average household characteristics for reference period & place\n",
        "zbar = r.d.mean()"
      ]
    },
    {
      "cell_type": "markdown",
      "metadata": {},
      "source": [
        "Now, the inner/dot/matrix product between `zbar` and the `rda`\n",
        " DataFrame of requirements will give us minimum requirements for the\n",
        " average household:\n",
        "\n"
      ]
    },
    {
      "cell_type": "code",
      "execution_count": 1,
      "metadata": {},
      "outputs": [],
      "source": [
        "# This matrix product gives minimum nutrient requirements for average\n",
        "# household in reference year & place\n",
        "my_rdi,my_zbar = rdi.align(zbar.T,axis=1,join='inner')\n",
        "hh_rdi = my_rdi@my_zbar.T\n",
        "\n",
        "# But this is per *day*, while our data is per period:\n",
        "hh_rdi = hh_rdi*DAYS_PER_PERIOD[COUNTRY]\n",
        "hh_rdi"
      ]
    },
    {
      "cell_type": "markdown",
      "metadata": {},
      "source": [
        "#### Nutritional Adequacy of Food Demands\n",
        "\n"
      ]
    },
    {
      "cell_type": "markdown",
      "metadata": {},
      "source": [
        "Since we can trace out demands for nutrients as a function of $(x,p)$,\n",
        " and we&rsquo;ve computed minimum nutritional requirements for the average\n",
        " household, we can *normalize* nutritional intake to check the adequacy\n",
        " of diet.\n",
        "\n"
      ]
    },
    {
      "cell_type": "code",
      "execution_count": 1,
      "metadata": {},
      "outputs": [],
      "source": [
        "def nutrient_adequacy_ratio(x,p):\n",
        "    return (nutrient_demand(x,p)/hh_rdi.T).squeeze()"
      ]
    },
    {
      "cell_type": "markdown",
      "metadata": {},
      "source": [
        "In terms of normalized nutrients, any household with more than one\n",
        " unit of any given nutrient (or zero in logs) will be consuming a\n",
        " minimally adequate level of the nutrient; below this level there&rsquo;s\n",
        " clearly nutritional inadequacy.  For this reason the ratio of\n",
        " actual nutrients to required nutrients is termed the &ldquo;nutrient\n",
        " adequacy ratio,&rdquo; or NAR.\n",
        "\n"
      ]
    },
    {
      "cell_type": "code",
      "execution_count": 1,
      "metadata": {},
      "outputs": [],
      "source": [
        "plt.plot(X,[np.log(nutrient_adequacy_ratio(x,pbar))[UseNutrients] for x in X])\n",
        "plt.legend(UseNutrients)\n",
        "plt.xlabel('Budget')\n",
        "plt.ylabel('log nutrient adequacy ratio')\n",
        "plt.axhline(0)"
      ]
    },
    {
      "cell_type": "markdown",
      "metadata": {},
      "source": [
        "As before, we can also vary relative prices.  Here we trace out\n",
        " nutritional adequacy varying the price of a single good:\n",
        "\n"
      ]
    },
    {
      "cell_type": "code",
      "execution_count": 1,
      "metadata": {},
      "outputs": [],
      "source": [
        "poorer_x = x0/2\n",
        "\n",
        "plt.plot([np.log(nutrient_adequacy_ratio(poorer_x,my_prices(p0,j=my_j)))[UseNutrients] for p0 in P],P)\n",
        "plt.legend(UseNutrients)\n",
        "plt.ylabel('Price')\n",
        "plt.xlabel('log nutrient adequacy ratio')\n",
        "plt.axvline(0)\n",
        "plt.axhline(phat[my_j])"
      ]
    }
  ],
  "metadata": {
    "kernelspec": {
      "display_name": "Python 3",
      "language": "python",
      "name": "python3"
    },
    "language_info": {
      "codemirror_mode": {
        "name": "ipython",
        "version": 3
      },
      "file_extension": ".py",
      "mimetype": "text/x-python",
      "name": "python",
      "nbconvert_exporter": "python",
      "pygments_lexer": "ipython3",
      "version": "3.9.6"
    },
    "org": null
  },
  "nbformat": 4,
  "nbformat_minor": 0
}
