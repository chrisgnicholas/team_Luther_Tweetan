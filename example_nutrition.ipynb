{
  "cells": [
    {
      "cell_type": "markdown",
      "metadata": {},
      "source": [
        "## Nutrient Demands\n",
        "\n"
      ]
    },
    {
      "cell_type": "markdown",
      "metadata": {},
      "source": [
        "### Introduction\n",
        "\n"
      ]
    },
    {
      "cell_type": "markdown",
      "metadata": {},
      "source": [
        "In our last project we used data to estimate systems of food demand\n",
        "using different datasets.  An output from that project was as set of\n",
        "`cfe.Regression` objects; these bundle together both data and the results\n",
        "from the demand system estimation, and can be used for prediction as\n",
        "well.\n",
        "\n",
        "Here we&rsquo;ll explore some of the uses of the `cfe.Regression` class, using\n",
        "an instance created previously (as in Project 3).\n",
        "\n",
        "After having estimated a demand system using data from our favorite country, we can imagine different counterfactual scenarios.  What if prices were different?  What if we give a cash transfer to a household?  What if school fees reduce the budget for food?  What are the consequences of any of these for diet & nutrition?\n",
        "\n",
        "If you don&rsquo;t already have the latest version of the `CFEDemands` package\n",
        "installed, grab it, along with some dependencies:\n",
        "\n"
      ]
    },
    {
      "cell_type": "code",
      "execution_count": 1,
      "metadata": {},
      "outputs": [],
      "source": [
        "#!pip install -r requirements.txt"
      ]
    },
    {
      "cell_type": "code",
      "execution_count": 2,
      "metadata": {},
      "outputs": [],
      "source": [
        "import pandas as pd\n",
        "import cfe.regression as rgsn"
      ]
    },
    {
      "cell_type": "markdown",
      "metadata": {},
      "source": [
        "### Data\n",
        "\n"
      ]
    },
    {
      "cell_type": "markdown",
      "metadata": {},
      "source": [
        "We&rsquo;ll get data from two places.  First, basic data, including a food\n",
        " conversion table and recommended daily intakes table can be found in\n",
        " a google spreadsheet.\n",
        "\n",
        "Here are addresses of google sheets for different dataframes for the\n",
        "case of Uganda:\n",
        "\n"
      ]
    },
    {
      "cell_type": "code",
      "execution_count": 3,
      "metadata": {},
      "outputs": [],
      "source": [
        "InputFiles = {'Expenditures':('1yVLriVpo7KGUXvR3hq_n53XpXlD5NmLaH1oOMZyV0gQ','Expenditures (2019-20)'),\n",
        "              'Prices':('1yVLriVpo7KGUXvR3hq_n53XpXlD5NmLaH1oOMZyV0gQ','Prices'),\n",
        "              'HH Characteristics':('1yVLriVpo7KGUXvR3hq_n53XpXlD5NmLaH1oOMZyV0gQ','HH Characteristics'),\n",
        "              'FCT':('1yVLriVpo7KGUXvR3hq_n53XpXlD5NmLaH1oOMZyV0gQ','FCT'),\n",
        "              'RDI':('1yVLriVpo7KGUXvR3hq_n53XpXlD5NmLaH1oOMZyV0gQ','RDI'),}"
      ]
    },
    {
      "cell_type": "markdown",
      "metadata": {},
      "source": [
        "#### Prices, FCT, RDI\n",
        "\n"
      ]
    },
    {
      "cell_type": "code",
      "execution_count": 4,
      "metadata": {},
      "outputs": [
        {
          "name": "stderr",
          "output_type": "stream",
          "text": [
            "/Users/cnicholas/src/EEP153/EEP153_Materials/Project4/.venv/lib/python3.9/site-packages/urllib3/__init__.py:35: NotOpenSSLWarning: urllib3 v2 only supports OpenSSL 1.1.1+, currently the 'ssl' module is compiled with 'LibreSSL 2.8.3'. See: https://github.com/urllib3/urllib3/issues/3020\n",
            "  warnings.warn(\n"
          ]
        }
      ],
      "source": [
        "from eep153_tools.sheets import read_sheets\n",
        "import numpy as np\n",
        "import pandas as pd\n",
        "\n",
        "def get_clean_sheet(key,sheet=None):\n",
        "\n",
        "    df = read_sheets(key,sheet=sheet)\n",
        "    df.columns = [c.strip() for c in df.columns.tolist()]\n",
        "\n",
        "    df = df.loc[:,~df.columns.duplicated(keep='first')]\n",
        "\n",
        "    df = df.drop([col for col in df.columns if col.startswith('Unnamed')], axis=1)\n",
        "\n",
        "    df = df.loc[~df.index.duplicated(), :]\n",
        "\n",
        "    return df\n",
        "\n",
        "# Get prices\n",
        "p = get_clean_sheet(InputFiles['Prices'][0],\n",
        "                    sheet=InputFiles['Prices'][1])\n",
        "\n",
        "if 'm' not in p.columns:  # Supply \"market\" indicator if missing\n",
        "    p['m'] = 1\n",
        "\n",
        "p = p.set_index(['t','m'])\n",
        "p.columns.name = 'j'\n",
        "\n",
        "p = p.apply(lambda x: pd.to_numeric(x,errors='coerce'))\n",
        "p = p.replace(0,np.nan)\n",
        "\n",
        "fct = get_clean_sheet(InputFiles['FCT'][0],\n",
        "                    sheet=InputFiles['FCT'][1])\n",
        "\n",
        "fct = fct.set_index('j')\n",
        "fct.columns.name = 'n'\n",
        "\n",
        "fct = fct.apply(lambda x: pd.to_numeric(x,errors='coerce'))\n",
        "\n",
        "################## RDI, if available (consider using US) #####################\n",
        "rdi = get_clean_sheet(InputFiles['RDI'][0],\n",
        "                    sheet=InputFiles['RDI'][1])\n",
        "rdi = rdi.set_index('n')\n",
        "rdi.columns.name = 'k'"
      ]
    },
    {
      "cell_type": "markdown",
      "metadata": {},
      "source": [
        "#### Pre-estimated Demand Systems\n",
        "\n"
      ]
    },
    {
      "cell_type": "markdown",
      "metadata": {},
      "source": [
        "An instance `r` of `cfe.Regression` can be made persistent with\n",
        " `r.to_pickle('my_result.pickle')`, which saves the instance &ldquo;on disk&rdquo;, and can be loaded using `cfe.regression.read_pickle`.  We use  this method below to load data and demand system previously estimated for Uganda:\n",
        "\n"
      ]
    },
    {
      "cell_type": "code",
      "execution_count": 5,
      "metadata": {},
      "outputs": [],
      "source": [
        "r = rgsn.read_pickle('uganda_2019-20.pickle')  # Assumes you've already set this up e.g., in Project 3"
      ]
    },
    {
      "cell_type": "markdown",
      "metadata": {},
      "source": [
        "#### Reference Prices\n",
        "\n"
      ]
    },
    {
      "cell_type": "markdown",
      "metadata": {},
      "source": [
        "Choose reference prices.  Here we&rsquo;ll choose a particular year, and average prices across markets.  If you wanted to focus on particular market you&rsquo;d do this differently.\n",
        "\n"
      ]
    },
    {
      "cell_type": "code",
      "execution_count": 6,
      "metadata": {},
      "outputs": [],
      "source": [
        "# Reference prices chosen from a particular time; average across place.\n",
        "# These are prices per kilogram:\n",
        "pbar = p.xs('2019-20',level='t').mean()\n",
        "pbar = pbar[r.beta.index] # Only use prices for goods we can estimate"
      ]
    },
    {
      "cell_type": "markdown",
      "metadata": {},
      "source": [
        "#### Budgets\n",
        "\n"
      ]
    },
    {
      "cell_type": "markdown",
      "metadata": {},
      "source": [
        "Get food budget for all households, then find median budget:\n",
        "\n"
      ]
    },
    {
      "cell_type": "code",
      "execution_count": 7,
      "metadata": {},
      "outputs": [],
      "source": [
        "import numpy as np\n",
        "\n",
        "xhat = r.predicted_expenditures()\n",
        "\n",
        "# Total food expenditures per household\n",
        "xbar = xhat.groupby(['i','t','m']).sum()\n",
        "\n",
        "# Reference budget\n",
        "xref = xbar.quantile(0.5)  # Household at 0.5 quantile is median"
      ]
    },
    {
      "cell_type": "markdown",
      "metadata": {},
      "source": [
        "#### Food Quantities\n",
        "\n"
      ]
    },
    {
      "cell_type": "markdown",
      "metadata": {},
      "source": [
        "Get quantities of food by dividing expenditures by prices:\n",
        "\n"
      ]
    },
    {
      "cell_type": "code",
      "execution_count": 8,
      "metadata": {},
      "outputs": [
        {
          "data": {
            "text/html": [
              "<div>\n",
              "<style scoped>\n",
              "    .dataframe tbody tr th:only-of-type {\n",
              "        vertical-align: middle;\n",
              "    }\n",
              "\n",
              "    .dataframe tbody tr th {\n",
              "        vertical-align: top;\n",
              "    }\n",
              "\n",
              "    .dataframe thead th {\n",
              "        text-align: right;\n",
              "    }\n",
              "</style>\n",
              "<table border=\"1\" class=\"dataframe\">\n",
              "  <thead>\n",
              "    <tr style=\"text-align: right;\">\n",
              "      <th></th>\n",
              "      <th></th>\n",
              "      <th>j</th>\n",
              "      <th>Beans</th>\n",
              "      <th>Beef</th>\n",
              "      <th>Biscuits</th>\n",
              "      <th>Bread</th>\n",
              "      <th>Cabbages</th>\n",
              "      <th>Cassava</th>\n",
              "      <th>Chapati</th>\n",
              "      <th>Cooking Oil</th>\n",
              "      <th>Dodo</th>\n",
              "      <th>Eggs</th>\n",
              "      <th>...</th>\n",
              "      <th>Rice</th>\n",
              "      <th>Salt</th>\n",
              "      <th>Sim Sim</th>\n",
              "      <th>Soda</th>\n",
              "      <th>Sorghum</th>\n",
              "      <th>Sweet Bananas</th>\n",
              "      <th>Sweet Potatoes</th>\n",
              "      <th>Tea</th>\n",
              "      <th>Tomatoes</th>\n",
              "      <th>Waragi</th>\n",
              "    </tr>\n",
              "    <tr>\n",
              "      <th>i</th>\n",
              "      <th>t</th>\n",
              "      <th>m</th>\n",
              "      <th></th>\n",
              "      <th></th>\n",
              "      <th></th>\n",
              "      <th></th>\n",
              "      <th></th>\n",
              "      <th></th>\n",
              "      <th></th>\n",
              "      <th></th>\n",
              "      <th></th>\n",
              "      <th></th>\n",
              "      <th></th>\n",
              "      <th></th>\n",
              "      <th></th>\n",
              "      <th></th>\n",
              "      <th></th>\n",
              "      <th></th>\n",
              "      <th></th>\n",
              "      <th></th>\n",
              "      <th></th>\n",
              "      <th></th>\n",
              "      <th></th>\n",
              "    </tr>\n",
              "  </thead>\n",
              "  <tbody>\n",
              "    <tr>\n",
              "      <th>00c9353d8ebe42faabf5919b81d7fae7</th>\n",
              "      <th>2019-20</th>\n",
              "      <th>Eastern</th>\n",
              "      <td>0.908344</td>\n",
              "      <td>0.873736</td>\n",
              "      <td>0.278641</td>\n",
              "      <td>0.679694</td>\n",
              "      <td>0.542311</td>\n",
              "      <td>7.076232</td>\n",
              "      <td>1.225904</td>\n",
              "      <td>0.768595</td>\n",
              "      <td>2.102513</td>\n",
              "      <td>1.300093</td>\n",
              "      <td>...</td>\n",
              "      <td>1.904098</td>\n",
              "      <td>0.210626</td>\n",
              "      <td>0.169969</td>\n",
              "      <td>0.828589</td>\n",
              "      <td>1.032246</td>\n",
              "      <td>1.855447</td>\n",
              "      <td>9.106649</td>\n",
              "      <td>0.020781</td>\n",
              "      <td>2.065636</td>\n",
              "      <td>0.547677</td>\n",
              "    </tr>\n",
              "    <tr>\n",
              "      <th>0d0e29faff394154a69562b4527b48b8</th>\n",
              "      <th>2019-20</th>\n",
              "      <th>Eastern</th>\n",
              "      <td>0.630212</td>\n",
              "      <td>0.704890</td>\n",
              "      <td>0.332241</td>\n",
              "      <td>0.547917</td>\n",
              "      <td>0.386812</td>\n",
              "      <td>4.651378</td>\n",
              "      <td>1.117598</td>\n",
              "      <td>0.688879</td>\n",
              "      <td>1.406102</td>\n",
              "      <td>1.218035</td>\n",
              "      <td>...</td>\n",
              "      <td>1.200659</td>\n",
              "      <td>0.159736</td>\n",
              "      <td>0.182561</td>\n",
              "      <td>0.863060</td>\n",
              "      <td>0.734592</td>\n",
              "      <td>1.631692</td>\n",
              "      <td>5.637060</td>\n",
              "      <td>0.015357</td>\n",
              "      <td>1.934006</td>\n",
              "      <td>1.241320</td>\n",
              "    </tr>\n",
              "    <tr>\n",
              "      <th>0e03e253c35d4333a1ffad2df9d38850</th>\n",
              "      <th>2019-20</th>\n",
              "      <th>Eastern</th>\n",
              "      <td>0.613338</td>\n",
              "      <td>0.545572</td>\n",
              "      <td>0.129055</td>\n",
              "      <td>0.371819</td>\n",
              "      <td>0.290441</td>\n",
              "      <td>5.161206</td>\n",
              "      <td>0.725595</td>\n",
              "      <td>0.516824</td>\n",
              "      <td>1.212362</td>\n",
              "      <td>0.887650</td>\n",
              "      <td>...</td>\n",
              "      <td>0.853833</td>\n",
              "      <td>0.156937</td>\n",
              "      <td>0.098278</td>\n",
              "      <td>0.419683</td>\n",
              "      <td>0.466584</td>\n",
              "      <td>0.810668</td>\n",
              "      <td>5.261903</td>\n",
              "      <td>0.011435</td>\n",
              "      <td>1.357342</td>\n",
              "      <td>0.826227</td>\n",
              "    </tr>\n",
              "    <tr>\n",
              "      <th>1013000201</th>\n",
              "      <th>2019-20</th>\n",
              "      <th>Central</th>\n",
              "      <td>0.962721</td>\n",
              "      <td>1.172347</td>\n",
              "      <td>1.375567</td>\n",
              "      <td>1.003591</td>\n",
              "      <td>0.523225</td>\n",
              "      <td>3.037451</td>\n",
              "      <td>1.864472</td>\n",
              "      <td>0.697341</td>\n",
              "      <td>2.265463</td>\n",
              "      <td>1.793179</td>\n",
              "      <td>...</td>\n",
              "      <td>1.355894</td>\n",
              "      <td>0.143342</td>\n",
              "      <td>0.210153</td>\n",
              "      <td>1.689991</td>\n",
              "      <td>0.925546</td>\n",
              "      <td>2.539598</td>\n",
              "      <td>4.600645</td>\n",
              "      <td>0.029232</td>\n",
              "      <td>2.506099</td>\n",
              "      <td>0.878415</td>\n",
              "    </tr>\n",
              "    <tr>\n",
              "      <th>1013000202</th>\n",
              "      <th>2019-20</th>\n",
              "      <th>Central</th>\n",
              "      <td>0.783036</td>\n",
              "      <td>0.588576</td>\n",
              "      <td>0.214716</td>\n",
              "      <td>0.411769</td>\n",
              "      <td>0.272860</td>\n",
              "      <td>3.188167</td>\n",
              "      <td>0.608036</td>\n",
              "      <td>0.379958</td>\n",
              "      <td>1.262848</td>\n",
              "      <td>1.067309</td>\n",
              "      <td>...</td>\n",
              "      <td>0.643904</td>\n",
              "      <td>0.167656</td>\n",
              "      <td>0.066803</td>\n",
              "      <td>0.347818</td>\n",
              "      <td>0.351393</td>\n",
              "      <td>0.987588</td>\n",
              "      <td>3.197720</td>\n",
              "      <td>0.013198</td>\n",
              "      <td>1.131102</td>\n",
              "      <td>0.537512</td>\n",
              "    </tr>\n",
              "    <tr>\n",
              "      <th>...</th>\n",
              "      <th>...</th>\n",
              "      <th>...</th>\n",
              "      <td>...</td>\n",
              "      <td>...</td>\n",
              "      <td>...</td>\n",
              "      <td>...</td>\n",
              "      <td>...</td>\n",
              "      <td>...</td>\n",
              "      <td>...</td>\n",
              "      <td>...</td>\n",
              "      <td>...</td>\n",
              "      <td>...</td>\n",
              "      <td>...</td>\n",
              "      <td>...</td>\n",
              "      <td>...</td>\n",
              "      <td>...</td>\n",
              "      <td>...</td>\n",
              "      <td>...</td>\n",
              "      <td>...</td>\n",
              "      <td>...</td>\n",
              "      <td>...</td>\n",
              "      <td>...</td>\n",
              "      <td>...</td>\n",
              "    </tr>\n",
              "    <tr>\n",
              "      <th>bfdf0d66403440ceab439b1e1c47cdea</th>\n",
              "      <th>2019-20</th>\n",
              "      <th>Eastern</th>\n",
              "      <td>1.474756</td>\n",
              "      <td>1.084495</td>\n",
              "      <td>0.410866</td>\n",
              "      <td>0.612537</td>\n",
              "      <td>0.532731</td>\n",
              "      <td>9.631213</td>\n",
              "      <td>1.567699</td>\n",
              "      <td>0.878762</td>\n",
              "      <td>2.330314</td>\n",
              "      <td>1.518435</td>\n",
              "      <td>...</td>\n",
              "      <td>2.209271</td>\n",
              "      <td>0.280835</td>\n",
              "      <td>0.231877</td>\n",
              "      <td>1.055073</td>\n",
              "      <td>1.601185</td>\n",
              "      <td>3.907814</td>\n",
              "      <td>13.453670</td>\n",
              "      <td>0.018543</td>\n",
              "      <td>2.189298</td>\n",
              "      <td>1.929582</td>\n",
              "    </tr>\n",
              "    <tr>\n",
              "      <th>c33f6cb57d9849949e08a7350dabb829</th>\n",
              "      <th>2019-20</th>\n",
              "      <th>Central</th>\n",
              "      <td>0.642402</td>\n",
              "      <td>0.678325</td>\n",
              "      <td>0.525649</td>\n",
              "      <td>0.425417</td>\n",
              "      <td>0.313321</td>\n",
              "      <td>2.507347</td>\n",
              "      <td>0.838033</td>\n",
              "      <td>0.409256</td>\n",
              "      <td>1.410044</td>\n",
              "      <td>1.156874</td>\n",
              "      <td>...</td>\n",
              "      <td>0.680075</td>\n",
              "      <td>0.119045</td>\n",
              "      <td>0.100621</td>\n",
              "      <td>0.794967</td>\n",
              "      <td>0.405909</td>\n",
              "      <td>1.185200</td>\n",
              "      <td>3.030198</td>\n",
              "      <td>0.017108</td>\n",
              "      <td>1.345186</td>\n",
              "      <td>0.515554</td>\n",
              "    </tr>\n",
              "    <tr>\n",
              "      <th>d10a687889de469687377204195f3db0</th>\n",
              "      <th>2019-20</th>\n",
              "      <th>Western</th>\n",
              "      <td>1.293502</td>\n",
              "      <td>0.857205</td>\n",
              "      <td>0.451531</td>\n",
              "      <td>0.512783</td>\n",
              "      <td>0.420744</td>\n",
              "      <td>4.915754</td>\n",
              "      <td>0.880891</td>\n",
              "      <td>0.635583</td>\n",
              "      <td>1.252812</td>\n",
              "      <td>1.400779</td>\n",
              "      <td>...</td>\n",
              "      <td>0.730574</td>\n",
              "      <td>0.249491</td>\n",
              "      <td>0.527720</td>\n",
              "      <td>0.737261</td>\n",
              "      <td>1.414265</td>\n",
              "      <td>1.657020</td>\n",
              "      <td>3.251340</td>\n",
              "      <td>0.025992</td>\n",
              "      <td>2.019768</td>\n",
              "      <td>0.922988</td>\n",
              "    </tr>\n",
              "    <tr>\n",
              "      <th>d24fa50d02c041969a42102d8ebdadc9</th>\n",
              "      <th>2019-20</th>\n",
              "      <th>Eastern</th>\n",
              "      <td>1.769999</td>\n",
              "      <td>1.502435</td>\n",
              "      <td>0.499514</td>\n",
              "      <td>1.224655</td>\n",
              "      <td>0.760732</td>\n",
              "      <td>9.888085</td>\n",
              "      <td>2.720952</td>\n",
              "      <td>1.220834</td>\n",
              "      <td>3.314394</td>\n",
              "      <td>1.694440</td>\n",
              "      <td>...</td>\n",
              "      <td>3.276063</td>\n",
              "      <td>0.273682</td>\n",
              "      <td>0.313521</td>\n",
              "      <td>1.560791</td>\n",
              "      <td>2.569134</td>\n",
              "      <td>3.861168</td>\n",
              "      <td>13.555144</td>\n",
              "      <td>0.027795</td>\n",
              "      <td>3.290398</td>\n",
              "      <td>2.399738</td>\n",
              "    </tr>\n",
              "    <tr>\n",
              "      <th>e07bc322c4884559b4b8ca75c945dd3e</th>\n",
              "      <th>2019-20</th>\n",
              "      <th>Northern</th>\n",
              "      <td>1.912455</td>\n",
              "      <td>0.862472</td>\n",
              "      <td>0.476346</td>\n",
              "      <td>0.724953</td>\n",
              "      <td>0.748186</td>\n",
              "      <td>9.436369</td>\n",
              "      <td>1.446448</td>\n",
              "      <td>0.884712</td>\n",
              "      <td>1.550971</td>\n",
              "      <td>1.423146</td>\n",
              "      <td>...</td>\n",
              "      <td>1.657393</td>\n",
              "      <td>0.355503</td>\n",
              "      <td>0.332401</td>\n",
              "      <td>0.788667</td>\n",
              "      <td>4.159411</td>\n",
              "      <td>2.329805</td>\n",
              "      <td>7.434930</td>\n",
              "      <td>0.021066</td>\n",
              "      <td>2.487836</td>\n",
              "      <td>0.735628</td>\n",
              "    </tr>\n",
              "  </tbody>\n",
              "</table>\n",
              "<p>2695 rows × 35 columns</p>\n",
              "</div>"
            ],
            "text/plain": [
              "j                                                     Beans      Beef  \\\n",
              "i                                t       m                              \n",
              "00c9353d8ebe42faabf5919b81d7fae7 2019-20 Eastern   0.908344  0.873736   \n",
              "0d0e29faff394154a69562b4527b48b8 2019-20 Eastern   0.630212  0.704890   \n",
              "0e03e253c35d4333a1ffad2df9d38850 2019-20 Eastern   0.613338  0.545572   \n",
              "1013000201                       2019-20 Central   0.962721  1.172347   \n",
              "1013000202                       2019-20 Central   0.783036  0.588576   \n",
              "...                                                     ...       ...   \n",
              "bfdf0d66403440ceab439b1e1c47cdea 2019-20 Eastern   1.474756  1.084495   \n",
              "c33f6cb57d9849949e08a7350dabb829 2019-20 Central   0.642402  0.678325   \n",
              "d10a687889de469687377204195f3db0 2019-20 Western   1.293502  0.857205   \n",
              "d24fa50d02c041969a42102d8ebdadc9 2019-20 Eastern   1.769999  1.502435   \n",
              "e07bc322c4884559b4b8ca75c945dd3e 2019-20 Northern  1.912455  0.862472   \n",
              "\n",
              "j                                                  Biscuits     Bread  \\\n",
              "i                                t       m                              \n",
              "00c9353d8ebe42faabf5919b81d7fae7 2019-20 Eastern   0.278641  0.679694   \n",
              "0d0e29faff394154a69562b4527b48b8 2019-20 Eastern   0.332241  0.547917   \n",
              "0e03e253c35d4333a1ffad2df9d38850 2019-20 Eastern   0.129055  0.371819   \n",
              "1013000201                       2019-20 Central   1.375567  1.003591   \n",
              "1013000202                       2019-20 Central   0.214716  0.411769   \n",
              "...                                                     ...       ...   \n",
              "bfdf0d66403440ceab439b1e1c47cdea 2019-20 Eastern   0.410866  0.612537   \n",
              "c33f6cb57d9849949e08a7350dabb829 2019-20 Central   0.525649  0.425417   \n",
              "d10a687889de469687377204195f3db0 2019-20 Western   0.451531  0.512783   \n",
              "d24fa50d02c041969a42102d8ebdadc9 2019-20 Eastern   0.499514  1.224655   \n",
              "e07bc322c4884559b4b8ca75c945dd3e 2019-20 Northern  0.476346  0.724953   \n",
              "\n",
              "j                                                  Cabbages   Cassava  \\\n",
              "i                                t       m                              \n",
              "00c9353d8ebe42faabf5919b81d7fae7 2019-20 Eastern   0.542311  7.076232   \n",
              "0d0e29faff394154a69562b4527b48b8 2019-20 Eastern   0.386812  4.651378   \n",
              "0e03e253c35d4333a1ffad2df9d38850 2019-20 Eastern   0.290441  5.161206   \n",
              "1013000201                       2019-20 Central   0.523225  3.037451   \n",
              "1013000202                       2019-20 Central   0.272860  3.188167   \n",
              "...                                                     ...       ...   \n",
              "bfdf0d66403440ceab439b1e1c47cdea 2019-20 Eastern   0.532731  9.631213   \n",
              "c33f6cb57d9849949e08a7350dabb829 2019-20 Central   0.313321  2.507347   \n",
              "d10a687889de469687377204195f3db0 2019-20 Western   0.420744  4.915754   \n",
              "d24fa50d02c041969a42102d8ebdadc9 2019-20 Eastern   0.760732  9.888085   \n",
              "e07bc322c4884559b4b8ca75c945dd3e 2019-20 Northern  0.748186  9.436369   \n",
              "\n",
              "j                                                   Chapati  Cooking Oil  \\\n",
              "i                                t       m                                 \n",
              "00c9353d8ebe42faabf5919b81d7fae7 2019-20 Eastern   1.225904     0.768595   \n",
              "0d0e29faff394154a69562b4527b48b8 2019-20 Eastern   1.117598     0.688879   \n",
              "0e03e253c35d4333a1ffad2df9d38850 2019-20 Eastern   0.725595     0.516824   \n",
              "1013000201                       2019-20 Central   1.864472     0.697341   \n",
              "1013000202                       2019-20 Central   0.608036     0.379958   \n",
              "...                                                     ...          ...   \n",
              "bfdf0d66403440ceab439b1e1c47cdea 2019-20 Eastern   1.567699     0.878762   \n",
              "c33f6cb57d9849949e08a7350dabb829 2019-20 Central   0.838033     0.409256   \n",
              "d10a687889de469687377204195f3db0 2019-20 Western   0.880891     0.635583   \n",
              "d24fa50d02c041969a42102d8ebdadc9 2019-20 Eastern   2.720952     1.220834   \n",
              "e07bc322c4884559b4b8ca75c945dd3e 2019-20 Northern  1.446448     0.884712   \n",
              "\n",
              "j                                                      Dodo      Eggs  ...  \\\n",
              "i                                t       m                             ...   \n",
              "00c9353d8ebe42faabf5919b81d7fae7 2019-20 Eastern   2.102513  1.300093  ...   \n",
              "0d0e29faff394154a69562b4527b48b8 2019-20 Eastern   1.406102  1.218035  ...   \n",
              "0e03e253c35d4333a1ffad2df9d38850 2019-20 Eastern   1.212362  0.887650  ...   \n",
              "1013000201                       2019-20 Central   2.265463  1.793179  ...   \n",
              "1013000202                       2019-20 Central   1.262848  1.067309  ...   \n",
              "...                                                     ...       ...  ...   \n",
              "bfdf0d66403440ceab439b1e1c47cdea 2019-20 Eastern   2.330314  1.518435  ...   \n",
              "c33f6cb57d9849949e08a7350dabb829 2019-20 Central   1.410044  1.156874  ...   \n",
              "d10a687889de469687377204195f3db0 2019-20 Western   1.252812  1.400779  ...   \n",
              "d24fa50d02c041969a42102d8ebdadc9 2019-20 Eastern   3.314394  1.694440  ...   \n",
              "e07bc322c4884559b4b8ca75c945dd3e 2019-20 Northern  1.550971  1.423146  ...   \n",
              "\n",
              "j                                                      Rice      Salt  \\\n",
              "i                                t       m                              \n",
              "00c9353d8ebe42faabf5919b81d7fae7 2019-20 Eastern   1.904098  0.210626   \n",
              "0d0e29faff394154a69562b4527b48b8 2019-20 Eastern   1.200659  0.159736   \n",
              "0e03e253c35d4333a1ffad2df9d38850 2019-20 Eastern   0.853833  0.156937   \n",
              "1013000201                       2019-20 Central   1.355894  0.143342   \n",
              "1013000202                       2019-20 Central   0.643904  0.167656   \n",
              "...                                                     ...       ...   \n",
              "bfdf0d66403440ceab439b1e1c47cdea 2019-20 Eastern   2.209271  0.280835   \n",
              "c33f6cb57d9849949e08a7350dabb829 2019-20 Central   0.680075  0.119045   \n",
              "d10a687889de469687377204195f3db0 2019-20 Western   0.730574  0.249491   \n",
              "d24fa50d02c041969a42102d8ebdadc9 2019-20 Eastern   3.276063  0.273682   \n",
              "e07bc322c4884559b4b8ca75c945dd3e 2019-20 Northern  1.657393  0.355503   \n",
              "\n",
              "j                                                   Sim Sim      Soda  \\\n",
              "i                                t       m                              \n",
              "00c9353d8ebe42faabf5919b81d7fae7 2019-20 Eastern   0.169969  0.828589   \n",
              "0d0e29faff394154a69562b4527b48b8 2019-20 Eastern   0.182561  0.863060   \n",
              "0e03e253c35d4333a1ffad2df9d38850 2019-20 Eastern   0.098278  0.419683   \n",
              "1013000201                       2019-20 Central   0.210153  1.689991   \n",
              "1013000202                       2019-20 Central   0.066803  0.347818   \n",
              "...                                                     ...       ...   \n",
              "bfdf0d66403440ceab439b1e1c47cdea 2019-20 Eastern   0.231877  1.055073   \n",
              "c33f6cb57d9849949e08a7350dabb829 2019-20 Central   0.100621  0.794967   \n",
              "d10a687889de469687377204195f3db0 2019-20 Western   0.527720  0.737261   \n",
              "d24fa50d02c041969a42102d8ebdadc9 2019-20 Eastern   0.313521  1.560791   \n",
              "e07bc322c4884559b4b8ca75c945dd3e 2019-20 Northern  0.332401  0.788667   \n",
              "\n",
              "j                                                   Sorghum  Sweet Bananas  \\\n",
              "i                                t       m                                   \n",
              "00c9353d8ebe42faabf5919b81d7fae7 2019-20 Eastern   1.032246       1.855447   \n",
              "0d0e29faff394154a69562b4527b48b8 2019-20 Eastern   0.734592       1.631692   \n",
              "0e03e253c35d4333a1ffad2df9d38850 2019-20 Eastern   0.466584       0.810668   \n",
              "1013000201                       2019-20 Central   0.925546       2.539598   \n",
              "1013000202                       2019-20 Central   0.351393       0.987588   \n",
              "...                                                     ...            ...   \n",
              "bfdf0d66403440ceab439b1e1c47cdea 2019-20 Eastern   1.601185       3.907814   \n",
              "c33f6cb57d9849949e08a7350dabb829 2019-20 Central   0.405909       1.185200   \n",
              "d10a687889de469687377204195f3db0 2019-20 Western   1.414265       1.657020   \n",
              "d24fa50d02c041969a42102d8ebdadc9 2019-20 Eastern   2.569134       3.861168   \n",
              "e07bc322c4884559b4b8ca75c945dd3e 2019-20 Northern  4.159411       2.329805   \n",
              "\n",
              "j                                                  Sweet Potatoes       Tea  \\\n",
              "i                                t       m                                    \n",
              "00c9353d8ebe42faabf5919b81d7fae7 2019-20 Eastern         9.106649  0.020781   \n",
              "0d0e29faff394154a69562b4527b48b8 2019-20 Eastern         5.637060  0.015357   \n",
              "0e03e253c35d4333a1ffad2df9d38850 2019-20 Eastern         5.261903  0.011435   \n",
              "1013000201                       2019-20 Central         4.600645  0.029232   \n",
              "1013000202                       2019-20 Central         3.197720  0.013198   \n",
              "...                                                           ...       ...   \n",
              "bfdf0d66403440ceab439b1e1c47cdea 2019-20 Eastern        13.453670  0.018543   \n",
              "c33f6cb57d9849949e08a7350dabb829 2019-20 Central         3.030198  0.017108   \n",
              "d10a687889de469687377204195f3db0 2019-20 Western         3.251340  0.025992   \n",
              "d24fa50d02c041969a42102d8ebdadc9 2019-20 Eastern        13.555144  0.027795   \n",
              "e07bc322c4884559b4b8ca75c945dd3e 2019-20 Northern        7.434930  0.021066   \n",
              "\n",
              "j                                                  Tomatoes    Waragi  \n",
              "i                                t       m                             \n",
              "00c9353d8ebe42faabf5919b81d7fae7 2019-20 Eastern   2.065636  0.547677  \n",
              "0d0e29faff394154a69562b4527b48b8 2019-20 Eastern   1.934006  1.241320  \n",
              "0e03e253c35d4333a1ffad2df9d38850 2019-20 Eastern   1.357342  0.826227  \n",
              "1013000201                       2019-20 Central   2.506099  0.878415  \n",
              "1013000202                       2019-20 Central   1.131102  0.537512  \n",
              "...                                                     ...       ...  \n",
              "bfdf0d66403440ceab439b1e1c47cdea 2019-20 Eastern   2.189298  1.929582  \n",
              "c33f6cb57d9849949e08a7350dabb829 2019-20 Central   1.345186  0.515554  \n",
              "d10a687889de469687377204195f3db0 2019-20 Western   2.019768  0.922988  \n",
              "d24fa50d02c041969a42102d8ebdadc9 2019-20 Eastern   3.290398  2.399738  \n",
              "e07bc322c4884559b4b8ca75c945dd3e 2019-20 Northern  2.487836  0.735628  \n",
              "\n",
              "[2695 rows x 35 columns]"
            ]
          },
          "execution_count": 8,
          "metadata": {},
          "output_type": "execute_result"
        }
      ],
      "source": [
        "qhat = (xhat.unstack('j')/pbar).dropna(how='all')\n",
        "\n",
        "# Drop missing columns\n",
        "qhat = qhat.loc[:,qhat.count()>0]\n",
        "\n",
        "qhat"
      ]
    },
    {
      "cell_type": "markdown",
      "metadata": {},
      "source": [
        "Finally, define a function to change a single price in the vector $p$:\n",
        "\n"
      ]
    },
    {
      "cell_type": "code",
      "execution_count": 9,
      "metadata": {},
      "outputs": [],
      "source": [
        "def my_prices(p0,p=pbar,j='Millet'):\n",
        "    \"\"\"\n",
        "    Change price of jth good to p0, holding other prices fixed.\n",
        "    \"\"\"\n",
        "    p = p.copy()\n",
        "    p.loc[j] = p0\n",
        "    return p"
      ]
    },
    {
      "cell_type": "markdown",
      "metadata": {},
      "source": [
        "### Demands\n",
        "\n"
      ]
    },
    {
      "cell_type": "markdown",
      "metadata": {},
      "source": [
        "#### Demand functions\n",
        "\n"
      ]
    },
    {
      "cell_type": "code",
      "execution_count": 10,
      "metadata": {},
      "outputs": [
        {
          "ename": "KeyError",
          "evalue": "'compute_se'",
          "output_type": "error",
          "traceback": [
            "\u001b[0;31m---------------------------------------------------------------------------\u001b[0m",
            "\u001b[0;31mKeyError\u001b[0m                                  Traceback (most recent call last)",
            "Cell \u001b[0;32mIn[10], line 10\u001b[0m\n\u001b[1;32m      7\u001b[0m scale \u001b[38;5;241m=\u001b[39m np\u001b[38;5;241m.\u001b[39mlinspace(\u001b[38;5;241m.5\u001b[39m,\u001b[38;5;241m2\u001b[39m,\u001b[38;5;241m20\u001b[39m)\n\u001b[1;32m      9\u001b[0m \u001b[38;5;66;03m# Demand for Millet for household at median budget\u001b[39;00m\n\u001b[0;32m---> 10\u001b[0m plt\u001b[38;5;241m.\u001b[39mplot([r\u001b[38;5;241m.\u001b[39mdemands(xref,my_prices(pbar[use]\u001b[38;5;241m*\u001b[39ms,pbar))[use] \u001b[38;5;28;01mfor\u001b[39;00m s \u001b[38;5;129;01min\u001b[39;00m scale],scale)\n\u001b[1;32m     12\u001b[0m \u001b[38;5;66;03m# Demand for Millet for household at 25% percentile\u001b[39;00m\n\u001b[1;32m     13\u001b[0m plt\u001b[38;5;241m.\u001b[39mplot([r\u001b[38;5;241m.\u001b[39mdemands(xbar\u001b[38;5;241m.\u001b[39mquantile(\u001b[38;5;241m0.25\u001b[39m),my_prices(pbar[use]\u001b[38;5;241m*\u001b[39ms,pbar))[use] \u001b[38;5;28;01mfor\u001b[39;00m s \u001b[38;5;129;01min\u001b[39;00m scale],scale)\n",
            "Cell \u001b[0;32mIn[10], line 10\u001b[0m, in \u001b[0;36m<listcomp>\u001b[0;34m(.0)\u001b[0m\n\u001b[1;32m      7\u001b[0m scale \u001b[38;5;241m=\u001b[39m np\u001b[38;5;241m.\u001b[39mlinspace(\u001b[38;5;241m.5\u001b[39m,\u001b[38;5;241m2\u001b[39m,\u001b[38;5;241m20\u001b[39m)\n\u001b[1;32m      9\u001b[0m \u001b[38;5;66;03m# Demand for Millet for household at median budget\u001b[39;00m\n\u001b[0;32m---> 10\u001b[0m plt\u001b[38;5;241m.\u001b[39mplot([\u001b[43mr\u001b[49m\u001b[38;5;241;43m.\u001b[39;49m\u001b[43mdemands\u001b[49m\u001b[43m(\u001b[49m\u001b[43mxref\u001b[49m\u001b[43m,\u001b[49m\u001b[43mmy_prices\u001b[49m\u001b[43m(\u001b[49m\u001b[43mpbar\u001b[49m\u001b[43m[\u001b[49m\u001b[43muse\u001b[49m\u001b[43m]\u001b[49m\u001b[38;5;241;43m*\u001b[39;49m\u001b[43ms\u001b[49m\u001b[43m,\u001b[49m\u001b[43mpbar\u001b[49m\u001b[43m)\u001b[49m\u001b[43m)\u001b[49m[use] \u001b[38;5;28;01mfor\u001b[39;00m s \u001b[38;5;129;01min\u001b[39;00m scale],scale)\n\u001b[1;32m     12\u001b[0m \u001b[38;5;66;03m# Demand for Millet for household at 25% percentile\u001b[39;00m\n\u001b[1;32m     13\u001b[0m plt\u001b[38;5;241m.\u001b[39mplot([r\u001b[38;5;241m.\u001b[39mdemands(xbar\u001b[38;5;241m.\u001b[39mquantile(\u001b[38;5;241m0.25\u001b[39m),my_prices(pbar[use]\u001b[38;5;241m*\u001b[39ms,pbar))[use] \u001b[38;5;28;01mfor\u001b[39;00m s \u001b[38;5;129;01min\u001b[39;00m scale],scale)\n",
            "File \u001b[0;32m~/src/EEP153/EEP153_Materials/Project4/.venv/lib/python3.9/site-packages/cfe/regression.py:1301\u001b[0m, in \u001b[0;36m_demands\u001b[0;34m(self, x, p, z, type)\u001b[0m\n\u001b[1;32m   1286\u001b[0m \u001b[38;5;28;01mdef\u001b[39;00m \u001b[38;5;21m_demands\u001b[39m(\u001b[38;5;28mself\u001b[39m,x,p\u001b[38;5;241m=\u001b[39m\u001b[38;5;28;01mNone\u001b[39;00m,z\u001b[38;5;241m=\u001b[39m\u001b[38;5;28;01mNone\u001b[39;00m,\u001b[38;5;28mtype\u001b[39m\u001b[38;5;241m=\u001b[39m\u001b[38;5;124m\"\u001b[39m\u001b[38;5;124mMarshallian\u001b[39m\u001b[38;5;124m\"\u001b[39m):\n\u001b[1;32m   1287\u001b[0m \u001b[38;5;250m    \u001b[39m\u001b[38;5;124;03m\"\"\"Quantities demanded at prices p for household with observable\u001b[39;00m\n\u001b[1;32m   1288\u001b[0m \u001b[38;5;124;03m    characteristics z, having a utility function with parameters given\u001b[39;00m\n\u001b[1;32m   1289\u001b[0m \u001b[38;5;124;03m    by (possibly estimated) attributes from a Regression (i.e., the\u001b[39;00m\n\u001b[0;32m   (...)\u001b[0m\n\u001b[1;32m   1298\u001b[0m \u001b[38;5;124;03m    Ethan Ligon                                    April 2019\u001b[39;00m\n\u001b[1;32m   1299\u001b[0m \u001b[38;5;124;03m    \"\"\"\u001b[39;00m\n\u001b[0;32m-> 1301\u001b[0m     idx \u001b[38;5;241m=\u001b[39m \u001b[38;5;28;43mself\u001b[39;49m\u001b[38;5;241;43m.\u001b[39;49m\u001b[43mget_beta\u001b[49m\u001b[43m(\u001b[49m\u001b[43m)\u001b[49m\u001b[38;5;241m.\u001b[39mindex\n\u001b[1;32m   1302\u001b[0m     p,pparms \u001b[38;5;241m=\u001b[39m _demand_parameters(\u001b[38;5;28mself\u001b[39m,p,z)\n\u001b[1;32m   1304\u001b[0m     Qs \u001b[38;5;241m=\u001b[39m {\u001b[38;5;124m'\u001b[39m\u001b[38;5;124mMarshallian\u001b[39m\u001b[38;5;124m'\u001b[39m:consumerdemands\u001b[38;5;241m.\u001b[39mmarshallian\u001b[38;5;241m.\u001b[39mdemands,\n\u001b[1;32m   1305\u001b[0m           \u001b[38;5;124m'\u001b[39m\u001b[38;5;124mHicksian\u001b[39m\u001b[38;5;124m'\u001b[39m:consumerdemands\u001b[38;5;241m.\u001b[39mhicksian\u001b[38;5;241m.\u001b[39mdemands,\n\u001b[1;32m   1306\u001b[0m           \u001b[38;5;124m'\u001b[39m\u001b[38;5;124mFrischian\u001b[39m\u001b[38;5;124m'\u001b[39m:consumerdemands\u001b[38;5;241m.\u001b[39mfrischian\u001b[38;5;241m.\u001b[39mdemands}\n",
            "File \u001b[0;32m~/src/EEP153/EEP153_Materials/Project4/.venv/lib/python3.9/site-packages/cfe/regression.py:869\u001b[0m, in \u001b[0;36mRegression.get_beta\u001b[0;34m(self, verbose, compute_se, bootstrap_tol, heteroskedastic)\u001b[0m\n\u001b[1;32m    863\u001b[0m \u001b[38;5;250m\u001b[39m\u001b[38;5;124;03m\"\"\"\u001b[39;00m\n\u001b[1;32m    864\u001b[0m \u001b[38;5;124;03mReturn beta.\u001b[39;00m\n\u001b[1;32m    865\u001b[0m \n\u001b[1;32m    866\u001b[0m \u001b[38;5;124;03mIf estimate_se=True, compute standard errors and Variance matrix as a side-effect.\u001b[39;00m\n\u001b[1;32m    867\u001b[0m \u001b[38;5;124;03m\"\"\"\u001b[39;00m\n\u001b[1;32m    868\u001b[0m \u001b[38;5;28;01mif\u001b[39;00m compute_se \u001b[38;5;129;01mis\u001b[39;00m \u001b[38;5;28;01mNone\u001b[39;00m:\n\u001b[0;32m--> 869\u001b[0m     compute_se \u001b[38;5;241m=\u001b[39m \u001b[38;5;28;43mself\u001b[39;49m\u001b[38;5;241;43m.\u001b[39;49m\u001b[43mattrs\u001b[49m\u001b[43m[\u001b[49m\u001b[38;5;124;43m'\u001b[39;49m\u001b[38;5;124;43mcompute_se\u001b[39;49m\u001b[38;5;124;43m'\u001b[39;49m\u001b[43m]\u001b[49m\n\u001b[1;32m    871\u001b[0m \u001b[38;5;28;01mif\u001b[39;00m \u001b[38;5;129;01mnot\u001b[39;00m compute_se:\n\u001b[1;32m    872\u001b[0m     \u001b[38;5;28;01mif\u001b[39;00m \u001b[38;5;28mself\u001b[39m\u001b[38;5;241m.\u001b[39mbeta \u001b[38;5;129;01mis\u001b[39;00m \u001b[38;5;129;01mnot\u001b[39;00m \u001b[38;5;28;01mNone\u001b[39;00m:\n",
            "\u001b[0;31mKeyError\u001b[0m: 'compute_se'"
          ]
        }
      ],
      "source": [
        "import matplotlib.pyplot as plt\n",
        "%matplotlib notebook\n",
        "\n",
        "use = 'Millet'  # Good we want demand curve for\n",
        "\n",
        "# Vary prices from 50% to 200% of reference.\n",
        "scale = np.linspace(.5,2,20)\n",
        "\n",
        "# Demand for Millet for household at median budget\n",
        "plt.plot([r.demands(xref,my_prices(pbar[use]*s,pbar))[use] for s in scale],scale)\n",
        "\n",
        "# Demand for Millet for household at 25% percentile\n",
        "plt.plot([r.demands(xbar.quantile(0.25),my_prices(pbar[use]*s,pbar))[use] for s in scale],scale)\n",
        "\n",
        "# Demand for Millet for household at 75% percentile\n",
        "plt.plot([r.demands(xbar.quantile(0.75),my_prices(pbar[use]*s,pbar))[use] for s in scale],scale)\n",
        "\n",
        "plt.ylabel(f\"Price (relative to base of {pbar[use]:.2f})\")\n",
        "plt.xlabel(f\"Quantities of {use} Demanded\")"
      ]
    },
    {
      "cell_type": "markdown",
      "metadata": {},
      "source": [
        "#### Engel Curves\n",
        "\n"
      ]
    },
    {
      "cell_type": "code",
      "execution_count": null,
      "metadata": {},
      "outputs": [],
      "source": [
        "fig,ax = plt.subplots()\n",
        "\n",
        "scale = np.geomspace(.01,10,50)\n",
        "\n",
        "ax.plot(np.log(scale*xref),[r.expenditures(s*xref,pbar)/(s*xref) for s in scale])\n",
        "ax.set_xlabel(f'log budget (relative to base of {xref:.0f})')\n",
        "ax.set_ylabel(f'Expenditure share')\n",
        "ax.set_title('Engel Curves')"
      ]
    },
    {
      "cell_type": "markdown",
      "metadata": {},
      "source": [
        "### Mapping to Nutrients\n",
        "\n"
      ]
    },
    {
      "cell_type": "markdown",
      "metadata": {},
      "source": [
        "We&rsquo;ve seen how to map prices and budgets into vectors of consumption\n",
        " quantities using `cfe.Regression.demands`.  Next we want to think about\n",
        " how to map these into bundles of *nutrients*.  The information needed\n",
        " for the mapping comes from a &ldquo;Food Conversion Table&rdquo; (or database,\n",
        " such as the [USDA Food Data Central](https://fdc.nal.usda.gov/)).    We&rsquo;ve already grabbed an FCT, let&rsquo;s take a look:\n",
        "\n"
      ]
    },
    {
      "cell_type": "code",
      "execution_count": null,
      "metadata": {},
      "outputs": [],
      "source": [
        "fct"
      ]
    },
    {
      "cell_type": "markdown",
      "metadata": {},
      "source": [
        "We need the index of the Food Conversion Table (FCT) to match up with\n",
        " the index of the vector of quantities demanded.   To manage this we\n",
        " make use of the `align` method for `pd.DataFrames`:\n",
        "\n"
      ]
    },
    {
      "cell_type": "code",
      "execution_count": null,
      "metadata": {},
      "outputs": [],
      "source": [
        "# Create a new FCT and vector of consumption that only share rows in common:\n",
        "fct0,c0 = fct.align(qhat.T,axis=0,join='inner')\n",
        "print(fct0.index)"
      ]
    },
    {
      "cell_type": "markdown",
      "metadata": {},
      "source": [
        "Now, since rows of `fct0` and `c0` match, we can obtain nutritional\n",
        " outcomes from the inner (or dot, or matrix) product of the transposed\n",
        " `fct0` and `c0`:\n",
        "\n"
      ]
    },
    {
      "cell_type": "code",
      "execution_count": null,
      "metadata": {},
      "outputs": [],
      "source": [
        "# The @ operator means matrix multiply\n",
        "N = fct0.T@c0\n",
        "\n",
        "N  #NB: Uganda quantities are for previous 7 days"
      ]
    },
    {
      "cell_type": "markdown",
      "metadata": {},
      "source": [
        "Of course, since we can compute the nutritional content of a vector of\n",
        " consumption goods `c0`, we can also use our demand functions to\n",
        " compute nutrition as a *function* of prices and budget.\n",
        "\n"
      ]
    },
    {
      "cell_type": "code",
      "execution_count": null,
      "metadata": {},
      "outputs": [],
      "source": [
        "def nutrient_demand(x,p):\n",
        "    c = r.demands(x,p)\n",
        "    fct0,c0 = fct.align(c,axis=0,join='inner')\n",
        "    N = fct0.T@c0\n",
        "\n",
        "    N = N.loc[~N.index.duplicated()]\n",
        "    \n",
        "    return N"
      ]
    },
    {
      "cell_type": "markdown",
      "metadata": {},
      "source": [
        "With this `nutrient_demand` function in hand, we can see how nutrient\n",
        " outcomes vary with budget, given prices:\n",
        "\n"
      ]
    },
    {
      "cell_type": "code",
      "execution_count": null,
      "metadata": {},
      "outputs": [],
      "source": [
        "import numpy as np\n",
        "import matplotlib.pyplot as plt\n",
        "\n",
        "X = np.linspace(xref/5,xref*5,50)\n",
        "\n",
        "UseNutrients = ['Protein','Energy','Iron','Calcium','Vitamin C']\n",
        "\n",
        "df = pd.concat({myx:np.log(nutrient_demand(myx,pbar))[UseNutrients] for myx in X},axis=1).T\n",
        "ax = df.plot()\n",
        "\n",
        "ax.set_xlabel('log budget')\n",
        "ax.set_ylabel('log nutrient')"
      ]
    },
    {
      "cell_type": "markdown",
      "metadata": {},
      "source": [
        "Now how does nutrition vary with prices?\n",
        "\n"
      ]
    },
    {
      "cell_type": "code",
      "execution_count": null,
      "metadata": {},
      "outputs": [],
      "source": [
        "USE_GOOD = 'Oranges'\n",
        "\n",
        "scale = np.geomspace(.01,10,50)\n",
        "\n",
        "ndf = pd.DataFrame({s:np.log(nutrient_demand(xref/2,my_prices(pbar[USE_GOOD]*s,j=USE_GOOD)))[UseNutrients] for s in scale}).T\n",
        "\n",
        "ax = ndf.plot()\n",
        "\n",
        "ax.set_xlabel('log price')\n",
        "ax.set_ylabel('log nutrient')"
      ]
    },
    {
      "cell_type": "markdown",
      "metadata": {},
      "source": [
        "### Nutritional Needs of Households\n",
        "\n"
      ]
    },
    {
      "cell_type": "markdown",
      "metadata": {},
      "source": [
        "Our data on demand and nutrients is at the *household* level; we\n",
        "   can&rsquo;t directly compare household level nutrition with individual\n",
        "   level requirements.  What we **can** do is add up minimum individual\n",
        "   requirements, and see whether household total exceed these.  This\n",
        "   isn&rsquo;t a guarantee that all individuals have adequate nutrition\n",
        "   (since the way food is allocated in the household might be quite\n",
        "   unequal, or unrelated to individual requirements), but it is\n",
        "   *necessary* if all individuals are to have adequate nutrition.\n",
        "\n",
        "For the average household in our data, the number of\n",
        "different kinds of people can be computed by averaging over households:\n",
        "\n"
      ]
    },
    {
      "cell_type": "code",
      "execution_count": null,
      "metadata": {},
      "outputs": [],
      "source": [
        "# In first round, averaged over households and villages\n",
        "dbar = r.d.mean().iloc[:-2]"
      ]
    },
    {
      "cell_type": "markdown",
      "metadata": {},
      "source": [
        "Now, the inner/dot/matrix product between `dbar` and the `rdi`\n",
        "DataFrame of requirements will give us minimum requirements for the\n",
        "average household:\n",
        "\n"
      ]
    },
    {
      "cell_type": "code",
      "execution_count": null,
      "metadata": {},
      "outputs": [],
      "source": [
        "# This matrix product gives minimum nutrient requirements for\n",
        "# the average household\n",
        "hh_rdi = rdi.replace('',0)@dbar\n",
        "\n",
        "hh_rdi"
      ]
    },
    {
      "cell_type": "markdown",
      "metadata": {},
      "source": [
        "## Nutritional Adequacy of Food Demands\n",
        "\n"
      ]
    },
    {
      "cell_type": "markdown",
      "metadata": {},
      "source": [
        "Since we can trace out demands for nutrients as a function of $(x,p)$,\n",
        "and we&rsquo;ve computed minimum nutritional requirements for the average\n",
        "household, we can *normalize* nutritional intake to check the adequacy\n",
        "of diet for a household with counts of different kinds of people given by `z`.\n",
        "\n"
      ]
    },
    {
      "cell_type": "code",
      "execution_count": null,
      "metadata": {},
      "outputs": [],
      "source": [
        "def nutrient_adequacy_ratio(x,p,d,rdi=rdi,days=7):\n",
        "    hh_rdi = rdi.replace('',0)@d*days\n",
        "\n",
        "    return nutrient_demand(x,p)/hh_rdi"
      ]
    },
    {
      "cell_type": "markdown",
      "metadata": {},
      "source": [
        "In terms of normalized nutrients, any household with more than one\n",
        "unit of any given nutrient (or zero in logs) will be consuming a\n",
        "minimally adequate level of the nutrient; below this level there&rsquo;s\n",
        "clearly nutritional inadequacy.  For this reason the ratio of\n",
        "actual nutrients to required nutrients is termed the &ldquo;nutrient\n",
        "adequacy ratio,&rdquo; or NAR.\n",
        "\n"
      ]
    },
    {
      "cell_type": "code",
      "execution_count": null,
      "metadata": {},
      "outputs": [],
      "source": [
        "X = np.geomspace(.01*xref,2*xref,100)\n",
        "\n",
        "pd.DataFrame({x:np.log(nutrient_adequacy_ratio(x,pbar,dbar))[UseNutrients] for x in X}).T.plot()\n",
        "plt.legend(UseNutrients)\n",
        "plt.xlabel('budget')\n",
        "plt.ylabel('log nutrient adequacy ratio')\n",
        "plt.axhline(0)\n",
        "plt.axvline(xref)"
      ]
    },
    {
      "cell_type": "markdown",
      "metadata": {},
      "source": [
        "As before, we can also vary relative prices.  Here we trace out\n",
        "nutritional adequacy varying the price of a single good:\n",
        "\n"
      ]
    },
    {
      "cell_type": "code",
      "execution_count": null,
      "metadata": {},
      "outputs": [],
      "source": [
        "scale = np.geomspace(.01,2,50)\n",
        "\n",
        "ndf = pd.DataFrame({s*pbar[USE_GOOD]:np.log(nutrient_adequacy_ratio(xref/4,my_prices(pbar[USE_GOOD]*s,j=USE_GOOD),dbar))[UseNutrients] for s in scale}).T\n",
        "\n",
        "fig,ax = plt.subplots()\n",
        "ax.plot(ndf['Vitamin C'],ndf.index)\n",
        "ax.axhline(pbar[USE_GOOD])\n",
        "ax.axvline(0)\n",
        "\n",
        "ax.set_ylabel('Price')\n",
        "ax.set_xlabel('log nutrient adequacy ratio')"
      ]
    }
  ],
  "metadata": {
    "kernelspec": {
      "display_name": "Python 3",
      "language": "python",
      "name": "python3"
    },
    "language_info": {
      "codemirror_mode": {
        "name": "ipython",
        "version": 3
      },
      "file_extension": ".py",
      "mimetype": "text/x-python",
      "name": "python",
      "nbconvert_exporter": "python",
      "pygments_lexer": "ipython3",
      "version": "3.9.6"
    },
    "org": null
  },
  "nbformat": 4,
  "nbformat_minor": 0
}
